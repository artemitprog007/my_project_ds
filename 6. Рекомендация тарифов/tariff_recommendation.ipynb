{
 "cells": [
  {
   "cell_type": "markdown",
   "metadata": {},
   "source": [
    "# Рекомендация тарифов"
   ]
  },
  {
   "cell_type": "markdown",
   "metadata": {},
   "source": [
    "## Откройте и изучите файл"
   ]
  },
  {
   "cell_type": "markdown",
   "metadata": {},
   "source": [
    "**Библиотеки**"
   ]
  },
  {
   "cell_type": "code",
   "execution_count": 6,
   "metadata": {},
   "outputs": [],
   "source": [
    "import pandas as pd\n",
    "import math\n",
    "import sklearn\n",
    "import numpy as np\n",
    "import random"
   ]
  },
  {
   "cell_type": "markdown",
   "metadata": {},
   "source": [
    "Функции из библиотеки sklearn"
   ]
  },
  {
   "cell_type": "code",
   "execution_count": 7,
   "metadata": {},
   "outputs": [],
   "source": [
    "# Импортируем функцию из бибилиотеки sklearn\n",
    "from sklearn.model_selection import train_test_split\n",
    "\n",
    "# Импортируем метод дерева принятия решений\n",
    "from sklearn.tree import DecisionTreeClassifier\n",
    "\n",
    "# Импортируем метод оценки доли правильных ответов\n",
    "from sklearn.metrics import accuracy_score\n",
    "\n",
    "# Импортируем алгоритм случайного леса\n",
    "from sklearn.ensemble import RandomForestClassifier\n",
    "\n",
    "# Импортируем алгоритм случайного поиска по гиперпараметрам\n",
    "from sklearn.model_selection import RandomizedSearchCV\n",
    "\n",
    "# Импортируем метод логистической регрессии\n",
    "from sklearn.linear_model import LogisticRegression"
   ]
  },
  {
   "cell_type": "markdown",
   "metadata": {},
   "source": [
    "**Открываем файл**"
   ]
  },
  {
   "cell_type": "code",
   "execution_count": 8,
   "metadata": {},
   "outputs": [],
   "source": [
    "df = pd.read_csv('/Users/artemvishanov/Desktop/yandex_practicum_project/6. Рекомендация тарифов/users_behavior.csv')"
   ]
  },
  {
   "cell_type": "markdown",
   "metadata": {},
   "source": [
    "**Рассмотрим датафрейм:**"
   ]
  },
  {
   "cell_type": "code",
   "execution_count": 9,
   "metadata": {},
   "outputs": [
    {
     "data": {
      "text/html": [
       "<div>\n",
       "<style scoped>\n",
       "    .dataframe tbody tr th:only-of-type {\n",
       "        vertical-align: middle;\n",
       "    }\n",
       "\n",
       "    .dataframe tbody tr th {\n",
       "        vertical-align: top;\n",
       "    }\n",
       "\n",
       "    .dataframe thead th {\n",
       "        text-align: right;\n",
       "    }\n",
       "</style>\n",
       "<table border=\"1\" class=\"dataframe\">\n",
       "  <thead>\n",
       "    <tr style=\"text-align: right;\">\n",
       "      <th></th>\n",
       "      <th>calls</th>\n",
       "      <th>minutes</th>\n",
       "      <th>messages</th>\n",
       "      <th>mb_used</th>\n",
       "      <th>is_ultra</th>\n",
       "    </tr>\n",
       "  </thead>\n",
       "  <tbody>\n",
       "    <tr>\n",
       "      <th>0</th>\n",
       "      <td>40.0</td>\n",
       "      <td>311.90</td>\n",
       "      <td>83.0</td>\n",
       "      <td>19915.42</td>\n",
       "      <td>0</td>\n",
       "    </tr>\n",
       "    <tr>\n",
       "      <th>1</th>\n",
       "      <td>85.0</td>\n",
       "      <td>516.75</td>\n",
       "      <td>56.0</td>\n",
       "      <td>22696.96</td>\n",
       "      <td>0</td>\n",
       "    </tr>\n",
       "    <tr>\n",
       "      <th>2</th>\n",
       "      <td>77.0</td>\n",
       "      <td>467.66</td>\n",
       "      <td>86.0</td>\n",
       "      <td>21060.45</td>\n",
       "      <td>0</td>\n",
       "    </tr>\n",
       "    <tr>\n",
       "      <th>3</th>\n",
       "      <td>106.0</td>\n",
       "      <td>745.53</td>\n",
       "      <td>81.0</td>\n",
       "      <td>8437.39</td>\n",
       "      <td>1</td>\n",
       "    </tr>\n",
       "    <tr>\n",
       "      <th>4</th>\n",
       "      <td>66.0</td>\n",
       "      <td>418.74</td>\n",
       "      <td>1.0</td>\n",
       "      <td>14502.75</td>\n",
       "      <td>0</td>\n",
       "    </tr>\n",
       "  </tbody>\n",
       "</table>\n",
       "</div>"
      ],
      "text/plain": [
       "   calls  minutes  messages   mb_used  is_ultra\n",
       "0   40.0   311.90      83.0  19915.42         0\n",
       "1   85.0   516.75      56.0  22696.96         0\n",
       "2   77.0   467.66      86.0  21060.45         0\n",
       "3  106.0   745.53      81.0   8437.39         1\n",
       "4   66.0   418.74       1.0  14502.75         0"
      ]
     },
     "execution_count": 9,
     "metadata": {},
     "output_type": "execute_result"
    }
   ],
   "source": [
    "df.head()"
   ]
  },
  {
   "cell_type": "code",
   "execution_count": 10,
   "metadata": {},
   "outputs": [
    {
     "name": "stdout",
     "output_type": "stream",
     "text": [
      "<class 'pandas.core.frame.DataFrame'>\n",
      "RangeIndex: 3214 entries, 0 to 3213\n",
      "Data columns (total 5 columns):\n",
      " #   Column    Non-Null Count  Dtype  \n",
      "---  ------    --------------  -----  \n",
      " 0   calls     3214 non-null   float64\n",
      " 1   minutes   3214 non-null   float64\n",
      " 2   messages  3214 non-null   float64\n",
      " 3   mb_used   3214 non-null   float64\n",
      " 4   is_ultra  3214 non-null   int64  \n",
      "dtypes: float64(4), int64(1)\n",
      "memory usage: 125.7 KB\n"
     ]
    }
   ],
   "source": [
    "df.info()"
   ]
  },
  {
   "cell_type": "markdown",
   "metadata": {},
   "source": [
    "Пропуски отсутствуют."
   ]
  },
  {
   "cell_type": "markdown",
   "metadata": {},
   "source": [
    "**Вывод:**\n",
    "\n",
    "* Данные не нуждаются в предобработке.\n",
    "* Пропуски отсутствуют."
   ]
  },
  {
   "cell_type": "markdown",
   "metadata": {},
   "source": [
    "## Разбейте данные на выборки"
   ]
  },
  {
   "cell_type": "markdown",
   "metadata": {},
   "source": [
    "Разобьем данные на три выборки: обучающую, валидационную и тестовую. Разобьем их в отношении 3:1:1. Пока нами не была изучена кросс-валидация, использую для этого метод train_test_split():"
   ]
  },
  {
   "cell_type": "code",
   "execution_count": 11,
   "metadata": {},
   "outputs": [],
   "source": [
    "# Поделим датафрейм на обучающую выборку и выборку, которую позже разделим на валидационную и тестовую.\n",
    "df_train, df_divide = train_test_split(df, test_size=0.4, random_state=12345)\n",
    "\n",
    "# Поделим df_divide валидационную и тестовую выборку.\n",
    "df_valid, df_test = train_test_split(df_divide, test_size=0.5, random_state=12345)"
   ]
  },
  {
   "cell_type": "markdown",
   "metadata": {},
   "source": [
    "**Вывод:** Выборки разделены."
   ]
  },
  {
   "cell_type": "markdown",
   "metadata": {},
   "source": [
    "## Исследуйте модели"
   ]
  },
  {
   "cell_type": "markdown",
   "metadata": {},
   "source": [
    "**Перед исследованием моделей машинного обучения разделим наши датафреймы на целевой признак который нужно предсказать и признаки, которые помогут нам его предсказать:**"
   ]
  },
  {
   "cell_type": "code",
   "execution_count": 12,
   "metadata": {},
   "outputs": [],
   "source": [
    "# Разделим обучающий датафрейм на features и target - целевой признак\n",
    "features_train = df_train.drop(['is_ultra'], axis = 1)\n",
    "target_train = df_train['is_ultra']\n",
    "\n",
    "# Разделим валидационный датафрейм на features и target - целевой признак\n",
    "features_valid = df_valid.drop(['is_ultra'], axis = 1)\n",
    "target_valid = df_valid['is_ultra']"
   ]
  },
  {
   "cell_type": "markdown",
   "metadata": {},
   "source": [
    "**Оценим в цикле долю правильных ответов для разных глубин дерева принятия решений:**"
   ]
  },
  {
   "cell_type": "code",
   "execution_count": 13,
   "metadata": {},
   "outputs": [
    {
     "name": "stdout",
     "output_type": "stream",
     "text": [
      "max_depth = 2 : 0.7823\n",
      "max_depth = 4 : 0.7854\n",
      "max_depth = 6 : 0.7885\n",
      "max_depth = 8 : 0.7854\n",
      "max_depth = 10 : 0.7807\n",
      "max_depth = 12 : 0.7807\n",
      "max_depth = 14 : 0.7807\n",
      "max_depth = 16 : 0.7807\n",
      "max_depth = 18 : 0.7807\n",
      "max_depth = 20 : 0.7807\n",
      "max_depth = 22 : 0.7807\n",
      "max_depth = 24 : 0.7807\n",
      "max_depth = 26 : 0.7807\n"
     ]
    }
   ],
   "source": [
    "for depth in range(2,27,2):\n",
    "    model = DecisionTreeClassifier(random_state=0, max_depth=depth, min_samples_split= 100)\n",
    "    model.fit(features_train, target_train)\n",
    "    predictions = model.predict(features_valid)\n",
    "    accuracy = accuracy_score(target_valid, predictions)\n",
    "    print('max_depth =',depth,': {:.4f}'.format(accuracy))"
   ]
  },
  {
   "cell_type": "markdown",
   "metadata": {},
   "source": [
    "\n",
    "Лучшая модель с глубиной 6 с accuracy = 0.7885. min_samples_split был подобран интуитивно, и улучшил результат на 6 тысячных по сравнению с дефолтным. Любые опыты с критерием и весом классов (balanced) ухудшали результат при min_samples_split = 100."
   ]
  },
  {
   "cell_type": "markdown",
   "metadata": {},
   "source": [
    "**Перейдем к алгоритму случайного леса:**"
   ]
  },
  {
   "cell_type": "markdown",
   "metadata": {},
   "source": [
    "Оценим в цикле долю правильных ответов для разного количества оценщиков"
   ]
  },
  {
   "cell_type": "code",
   "execution_count": 14,
   "metadata": {},
   "outputs": [
    {
     "name": "stdout",
     "output_type": "stream",
     "text": [
      "n_estimators = 2 : 0.7776\n",
      "n_estimators = 3 : 0.7900\n",
      "n_estimators = 4 : 0.7916\n",
      "n_estimators = 5 : 0.7947\n",
      "n_estimators = 6 : 0.7947\n",
      "n_estimators = 7 : 0.7916\n",
      "n_estimators = 8 : 0.7900\n",
      "n_estimators = 9 : 0.7947\n",
      "n_estimators = 10 : 0.8009\n",
      "n_estimators = 11 : 0.7994\n",
      "n_estimators = 12 : 0.8056\n",
      "n_estimators = 13 : 0.8040\n",
      "n_estimators = 14 : 0.8009\n",
      "n_estimators = 15 : 0.8025\n"
     ]
    }
   ],
   "source": [
    "for estimators in range(2,16):\n",
    "    model = RandomForestClassifier(random_state=8897, n_estimators=estimators, max_depth=6)\n",
    "    model.fit(features_train, target_train)\n",
    "    predictions = model.predict(features_valid)\n",
    "    accuracy = accuracy_score(target_valid, predictions)\n",
    "    print('n_estimators =',estimators,': {:.4f}'.format(accuracy))"
   ]
  },
  {
   "cell_type": "markdown",
   "metadata": {},
   "source": [
    "Лучшая модель с количеством оценщиков 12 и глубиной 6 с accuracy = 0.8056. min_samples_split лучше оставить дефолтным, он ухудшал результат."
   ]
  },
  {
   "cell_type": "code",
   "execution_count": 15,
   "metadata": {},
   "outputs": [
    {
     "data": {
      "text/plain": [
       "RandomizedSearchCV(estimator=RandomForestClassifier(random_state=8897),\n",
       "                   param_distributions={'bootstrap': [True, False],\n",
       "                                        'max_depth': [None, 2, 2, 2, 2, 2, 2, 2,\n",
       "                                                      3, 3, 3, 3, 3, 3, 4, 4, 4,\n",
       "                                                      4, 4, 4, 5, 5, 5, 5, 5, 5,\n",
       "                                                      6, 6, 6, 6, ...],\n",
       "                                        'max_features': ['auto', 'sqrt', None,\n",
       "                                                         0, 1, 2, 3, 4],\n",
       "                                        'max_leaf_nodes': [None, 10, 10, 10, 10,\n",
       "                                                           10, 10, 10, 10, 10,\n",
       "                                                           10, 10, 10, 10, 11,\n",
       "                                                           11, 11, 11, 11, 11,\n",
       "                                                           11, 11, 11, 11, 11,\n",
       "                                                           11, 12, 12, 12, 12, ...],\n",
       "                                        'min_samples_split': [2, 5, 10],\n",
       "                                        'n_estimators': array([  2,   4,   6,   8,  10,  12,  14,  16,  18,  20,  22,  24,  26,\n",
       "        28,  30,  32,  34,  36,  38,  40,  42,  44,  46,  48,  50,  52,\n",
       "        54,  56,  58,  60,  62,  64,  66,  68,  70,  72,  74,  76,  78,\n",
       "        80,  82,  84,  86,  88,  90,  92,  94,  96,  98, 100])},\n",
       "                   random_state=8897)"
      ]
     },
     "execution_count": 15,
     "metadata": {},
     "output_type": "execute_result"
    }
   ],
   "source": [
    "# сетка гиперпараметров, по которой будет происходит случайный поиск\n",
    "param_grid = {\n",
    "    'n_estimators': np.linspace(2, 100).astype(int),\n",
    "    'max_depth': [None] + list(np.linspace(2, 10).astype(int)),\n",
    "    'max_features': ['auto', 'sqrt', None] + list(np.arange(0, 5, 1)),\n",
    "    'max_leaf_nodes': [None] + list(np.linspace(10, 50, 500).astype(int)),\n",
    "    'min_samples_split': [2, 5, 10],\n",
    "    'bootstrap': [True, False]\n",
    "}\n",
    "\n",
    "# случайный лес к которому будем подбирать параметры\n",
    "estimator = RandomForestClassifier(random_state = 8897)\n",
    "\n",
    "# модель\n",
    "rs = RandomizedSearchCV(estimator, param_grid, random_state=8897)\n",
    "\n",
    "# обучаем модель\n",
    "rs.fit(features_train, target_train)"
   ]
  },
  {
   "cell_type": "code",
   "execution_count": 16,
   "metadata": {},
   "outputs": [
    {
     "data": {
      "text/plain": [
       "{'n_estimators': 20,\n",
       " 'min_samples_split': 10,\n",
       " 'max_leaf_nodes': 37,\n",
       " 'max_features': 4,\n",
       " 'max_depth': 8,\n",
       " 'bootstrap': True}"
      ]
     },
     "execution_count": 16,
     "metadata": {},
     "output_type": "execute_result"
    }
   ],
   "source": [
    "# набор параметров, которые подобрал случайный поиск.\n",
    "rs.best_params_"
   ]
  },
  {
   "cell_type": "code",
   "execution_count": 17,
   "metadata": {},
   "outputs": [
    {
     "data": {
      "text/plain": [
       "0.8009331259720062"
      ]
     },
     "execution_count": 17,
     "metadata": {},
     "output_type": "execute_result"
    }
   ],
   "source": [
    "# предскажем целевой признак и подсчитаем долю правильных ответов.\n",
    "predictions = rs.predict(features_valid)\n",
    "accuracy = accuracy_score(target_valid, predictions)\n",
    "accuracy"
   ]
  },
  {
   "cell_type": "markdown",
   "metadata": {},
   "source": [
    "**Перейдем к логистической регрессии:**"
   ]
  },
  {
   "cell_type": "code",
   "execution_count": 18,
   "metadata": {},
   "outputs": [
    {
     "data": {
      "text/plain": [
       "0.7107309486780715"
      ]
     },
     "execution_count": 18,
     "metadata": {},
     "output_type": "execute_result"
    }
   ],
   "source": [
    "# Создадим модель лог. регрессии\n",
    "model = LogisticRegression(random_state=12345)\n",
    "\n",
    "# обучим ее\n",
    "model.fit(features_train, target_train)\n",
    "\n",
    "# предскажем целевой признак\n",
    "predictions = model.predict(features_valid)\n",
    "\n",
    "# и подсчитаем долю правильных ответов.\n",
    "accuracy = accuracy_score(target_valid, predictions)\n",
    "\n",
    "# выведем долю правильных ответов\n",
    "accuracy"
   ]
  },
  {
   "cell_type": "markdown",
   "metadata": {},
   "source": [
    "**Вывод:**"
   ]
  },
  {
   "cell_type": "markdown",
   "metadata": {},
   "source": [
    "* Мы разделили тренировочную выборку и валидационную на признаки(features) и целевой признак(target).\n",
    "* Обучили дерево принятия решений и выбрали лучшие с максимальной глубиной 2 и 6.\n",
    "* Обучили модель случайного леса, и выбрали лучшую с количеством оценщиков 12 и глубиной 6. Ее используем для проверки на тестовой выборке. Также используем модель, для которой подобрали параметры случайным поиском.\n",
    "* Обучили модель логистической регресии и получили метрики хуже чем у предыдущих моделей.\n",
    "* Открыли для себя несколько интересных методов, гиперпараметров, потренировались подбирать параметры."
   ]
  },
  {
   "cell_type": "markdown",
   "metadata": {},
   "source": [
    "## Проверьте модель на тестовой выборке"
   ]
  },
  {
   "cell_type": "markdown",
   "metadata": {},
   "source": [
    "**Перед проверкой модели разделим наш тестовый датафрейм на features и target:**"
   ]
  },
  {
   "cell_type": "code",
   "execution_count": 19,
   "metadata": {},
   "outputs": [],
   "source": [
    "# Разделим тестовый датафрейм на features и target - целевой признак\n",
    "features_test = df_test.drop(['is_ultra'], axis=1)  \n",
    "target_test = df_test['is_ultra']"
   ]
  },
  {
   "cell_type": "markdown",
   "metadata": {},
   "source": [
    "**Проверим модель на тестовой выборке:**"
   ]
  },
  {
   "cell_type": "code",
   "execution_count": 20,
   "metadata": {},
   "outputs": [
    {
     "name": "stdout",
     "output_type": "stream",
     "text": [
      "accuracy = 0.7994\n"
     ]
    }
   ],
   "source": [
    "# Создадим модель случайного леса\n",
    "model = RandomForestClassifier(random_state=8897, n_estimators=12, max_depth=6)\n",
    "\n",
    "# обучим ее\n",
    "model.fit(features_train, target_train)\n",
    "\n",
    "# предскажем целевой признак\n",
    "predictions = model.predict(features_test)\n",
    "\n",
    "# и подсчитаем долю правильных ответов\n",
    "accuracy = accuracy_score(target_test, predictions)\n",
    "\n",
    "# выведем долю правильных ответов\n",
    "print('accuracy =','{:.4f}'.format(accuracy))"
   ]
  },
  {
   "cell_type": "markdown",
   "metadata": {},
   "source": [
    "**Проверим модель rs с гиперпараметрами, подобранными случайным поиском на тестовой выборке:**"
   ]
  },
  {
   "cell_type": "code",
   "execution_count": 21,
   "metadata": {},
   "outputs": [
    {
     "name": "stdout",
     "output_type": "stream",
     "text": [
      "accuracy = 0.8087\n"
     ]
    }
   ],
   "source": [
    "# предскажем целевой признак\n",
    "predictions = rs.predict(features_test)\n",
    "\n",
    "# и подсчитаем долю правильных ответов\n",
    "accuracy = accuracy_score(target_test, predictions)\n",
    "\n",
    "# выведем долю правильных ответов\n",
    "print('accuracy =','{:.4f}'.format(accuracy))"
   ]
  },
  {
   "cell_type": "markdown",
   "metadata": {},
   "source": [
    "Модель, для которой мы подбирали гиперпараметры случайным поиском показала чуть-чуть лучший результат, чем та у которой мы подобрали только глубину и количество оценщиков. Тем не менее обе модели справились с поставленной задачей."
   ]
  },
  {
   "cell_type": "markdown",
   "metadata": {},
   "source": [
    "**Вывод:**"
   ]
  },
  {
   "cell_type": "markdown",
   "metadata": {},
   "source": [
    "* Мы проверили две лучшие подобранные нами модели на тестовой выборке и получили устраивающий нас результат.\n",
    "* Следующий шаг: научиться пользоваться кросс-валидацией и GridSearch для повышения accuracy в подобных задачах."
   ]
  },
  {
   "cell_type": "markdown",
   "metadata": {},
   "source": [
    "## (бонус) Проверьте модели на адекватность"
   ]
  },
  {
   "cell_type": "markdown",
   "metadata": {},
   "source": [
    "**Для проверки адекватности нашей модели напишем модель (функцию), предсказывающую значение признака is_ultra самым простым и тупорылым способом, 50 на 50, и сравним, лучше ли наша модель:**"
   ]
  },
  {
   "cell_type": "code",
   "execution_count": 22,
   "metadata": {},
   "outputs": [
    {
     "name": "stdout",
     "output_type": "stream",
     "text": [
      "accuracy = 0.5054\n"
     ]
    }
   ],
   "source": [
    "random_predictions = np.random.randint(low = 0, high = 2, size = 643) \n",
    "\n",
    "# подсчитаем долю правильных ответов\n",
    "accuracy = accuracy_score(target_test, random_predictions)\n",
    "\n",
    "# выведем долю правильных ответов\n",
    "print('accuracy =','{:.4f}'.format(accuracy))"
   ]
  },
  {
   "cell_type": "markdown",
   "metadata": {},
   "source": [
    "Как видим случайные ответы ошибаются примерно в 50% случаев. Наша модель ошибается реже - только лишь в 19.44% случаев."
   ]
  },
  {
   "cell_type": "markdown",
   "metadata": {},
   "source": [
    "**Вывод:**\n",
    "* Наша модель лучше, чем подкидывание монетки. Она прошла проверку на адекватность/вменяемость."
   ]
  }
 ],
 "metadata": {
  "ExecuteTimeLog": [
   {
    "duration": 401,
    "start_time": "2023-02-08T12:58:27.290Z"
   },
   {
    "duration": 73,
    "start_time": "2023-02-08T12:58:46.350Z"
   },
   {
    "duration": 140,
    "start_time": "2023-02-08T12:59:28.820Z"
   },
   {
    "duration": 44,
    "start_time": "2023-02-08T12:59:47.883Z"
   },
   {
    "duration": 32,
    "start_time": "2023-02-08T13:00:03.581Z"
   },
   {
    "duration": 41,
    "start_time": "2023-02-08T16:21:04.473Z"
   },
   {
    "duration": 361,
    "start_time": "2023-02-08T16:21:08.996Z"
   },
   {
    "duration": 147,
    "start_time": "2023-02-08T16:21:09.593Z"
   },
   {
    "duration": 23,
    "start_time": "2023-02-08T16:21:11.116Z"
   },
   {
    "duration": 11,
    "start_time": "2023-02-08T16:21:22.961Z"
   },
   {
    "duration": 676,
    "start_time": "2023-02-08T16:27:08.839Z"
   },
   {
    "duration": 23,
    "start_time": "2023-02-08T16:28:40.641Z"
   },
   {
    "duration": 35,
    "start_time": "2023-02-08T16:35:07.479Z"
   },
   {
    "duration": 7,
    "start_time": "2023-02-08T16:40:27.380Z"
   },
   {
    "duration": 6,
    "start_time": "2023-02-08T16:41:16.770Z"
   },
   {
    "duration": 7,
    "start_time": "2023-02-08T16:43:08.975Z"
   },
   {
    "duration": 45,
    "start_time": "2023-02-09T07:38:39.529Z"
   },
   {
    "duration": 1064,
    "start_time": "2023-02-09T07:38:45.164Z"
   },
   {
    "duration": 69,
    "start_time": "2023-02-09T07:38:46.230Z"
   },
   {
    "duration": 144,
    "start_time": "2023-02-09T07:38:46.302Z"
   },
   {
    "duration": 24,
    "start_time": "2023-02-09T07:38:46.449Z"
   },
   {
    "duration": 14,
    "start_time": "2023-02-09T07:38:46.475Z"
   },
   {
    "duration": 10,
    "start_time": "2023-02-09T07:38:48.035Z"
   },
   {
    "duration": 4,
    "start_time": "2023-02-09T07:38:49.210Z"
   },
   {
    "duration": 15,
    "start_time": "2023-02-09T07:38:55.898Z"
   },
   {
    "duration": 6,
    "start_time": "2023-02-09T07:39:04.940Z"
   },
   {
    "duration": 17,
    "start_time": "2023-02-09T07:39:23.614Z"
   },
   {
    "duration": 4,
    "start_time": "2023-02-09T07:39:47.620Z"
   },
   {
    "duration": 11,
    "start_time": "2023-02-09T07:41:56.514Z"
   },
   {
    "duration": 15,
    "start_time": "2023-02-09T07:42:01.372Z"
   },
   {
    "duration": 5,
    "start_time": "2023-02-09T07:42:13.321Z"
   },
   {
    "duration": 3,
    "start_time": "2023-02-09T07:42:55.779Z"
   },
   {
    "duration": 101,
    "start_time": "2023-02-09T07:43:56.053Z"
   },
   {
    "duration": 6,
    "start_time": "2023-02-09T07:44:08.056Z"
   },
   {
    "duration": 130,
    "start_time": "2023-02-09T07:44:08.340Z"
   },
   {
    "duration": 10,
    "start_time": "2023-02-09T07:45:02.250Z"
   },
   {
    "duration": 3,
    "start_time": "2023-02-09T07:46:17.506Z"
   },
   {
    "duration": 28,
    "start_time": "2023-02-09T07:46:19.848Z"
   },
   {
    "duration": 9,
    "start_time": "2023-02-09T07:46:20.191Z"
   },
   {
    "duration": 10,
    "start_time": "2023-02-09T07:46:20.943Z"
   },
   {
    "duration": 6,
    "start_time": "2023-02-09T07:46:22.522Z"
   },
   {
    "duration": 5,
    "start_time": "2023-02-09T07:46:23.333Z"
   },
   {
    "duration": 103,
    "start_time": "2023-02-09T07:46:23.621Z"
   },
   {
    "duration": 390,
    "start_time": "2023-02-09T07:46:44.030Z"
   },
   {
    "duration": 373,
    "start_time": "2023-02-09T07:48:08.359Z"
   },
   {
    "duration": 5,
    "start_time": "2023-02-09T07:49:42.608Z"
   },
   {
    "duration": 7373,
    "start_time": "2023-02-09T07:50:06.439Z"
   },
   {
    "duration": 7115,
    "start_time": "2023-02-09T07:50:23.107Z"
   },
   {
    "duration": 15,
    "start_time": "2023-02-09T07:50:52.128Z"
   },
   {
    "duration": 63,
    "start_time": "2023-02-09T16:04:14.037Z"
   },
   {
    "duration": 1125,
    "start_time": "2023-02-09T16:04:17.638Z"
   },
   {
    "duration": 81,
    "start_time": "2023-02-09T16:04:18.765Z"
   },
   {
    "duration": 69,
    "start_time": "2023-02-09T16:04:18.849Z"
   },
   {
    "duration": 24,
    "start_time": "2023-02-09T16:04:18.922Z"
   },
   {
    "duration": 13,
    "start_time": "2023-02-09T16:04:18.948Z"
   },
   {
    "duration": 9,
    "start_time": "2023-02-09T16:04:19.035Z"
   },
   {
    "duration": 8,
    "start_time": "2023-02-09T16:04:20.035Z"
   },
   {
    "duration": 124,
    "start_time": "2023-02-09T16:04:20.277Z"
   },
   {
    "duration": 434,
    "start_time": "2023-02-09T16:04:29.135Z"
   },
   {
    "duration": 5820,
    "start_time": "2023-02-09T16:04:30.569Z"
   },
   {
    "duration": 6,
    "start_time": "2023-02-09T16:04:36.390Z"
   },
   {
    "duration": 10,
    "start_time": "2023-02-09T16:04:54.432Z"
   },
   {
    "duration": 3,
    "start_time": "2023-02-09T16:06:11.671Z"
   },
   {
    "duration": 37,
    "start_time": "2023-02-09T16:07:33.525Z"
   },
   {
    "duration": 5,
    "start_time": "2023-02-09T16:09:11.615Z"
   },
   {
    "duration": 4,
    "start_time": "2023-02-09T16:09:55.125Z"
   },
   {
    "duration": 45,
    "start_time": "2023-02-09T16:10:38.372Z"
   },
   {
    "duration": 18,
    "start_time": "2023-02-09T16:13:18.895Z"
   },
   {
    "duration": 1120,
    "start_time": "2023-02-09T18:59:21.467Z"
   },
   {
    "duration": 65,
    "start_time": "2023-02-09T18:59:24.847Z"
   },
   {
    "duration": 131,
    "start_time": "2023-02-09T18:59:25.976Z"
   },
   {
    "duration": 21,
    "start_time": "2023-02-09T18:59:26.127Z"
   },
   {
    "duration": 12,
    "start_time": "2023-02-09T18:59:26.203Z"
   },
   {
    "duration": 7,
    "start_time": "2023-02-09T18:59:26.656Z"
   },
   {
    "duration": 6,
    "start_time": "2023-02-09T18:59:26.976Z"
   },
   {
    "duration": 135,
    "start_time": "2023-02-09T18:59:27.135Z"
   },
   {
    "duration": 416,
    "start_time": "2023-02-09T18:59:27.476Z"
   },
   {
    "duration": 5990,
    "start_time": "2023-02-09T18:59:27.894Z"
   },
   {
    "duration": 4,
    "start_time": "2023-02-09T18:59:33.886Z"
   },
   {
    "duration": 22,
    "start_time": "2023-02-09T18:59:33.892Z"
   },
   {
    "duration": 47,
    "start_time": "2023-02-09T18:59:33.916Z"
   },
   {
    "duration": 4,
    "start_time": "2023-02-09T18:59:33.964Z"
   },
   {
    "duration": 66,
    "start_time": "2023-02-09T18:59:33.970Z"
   },
   {
    "duration": 17,
    "start_time": "2023-02-09T18:59:34.039Z"
   },
   {
    "duration": 12,
    "start_time": "2023-02-09T18:59:40.736Z"
   },
   {
    "duration": 14,
    "start_time": "2023-02-09T18:59:54.636Z"
   },
   {
    "duration": 1931,
    "start_time": "2023-02-09T19:23:27.784Z"
   },
   {
    "duration": 74,
    "start_time": "2023-02-09T19:23:29.717Z"
   },
   {
    "duration": 66,
    "start_time": "2023-02-09T19:23:29.794Z"
   },
   {
    "duration": 20,
    "start_time": "2023-02-09T19:23:29.862Z"
   },
   {
    "duration": 12,
    "start_time": "2023-02-09T19:23:29.884Z"
   },
   {
    "duration": 7,
    "start_time": "2023-02-09T19:23:29.898Z"
   },
   {
    "duration": 8,
    "start_time": "2023-02-09T19:23:29.907Z"
   },
   {
    "duration": 141,
    "start_time": "2023-02-09T19:23:29.916Z"
   },
   {
    "duration": 437,
    "start_time": "2023-02-09T19:23:30.059Z"
   },
   {
    "duration": 5734,
    "start_time": "2023-02-09T19:23:30.498Z"
   },
   {
    "duration": 7,
    "start_time": "2023-02-09T19:23:36.234Z"
   },
   {
    "duration": 14,
    "start_time": "2023-02-09T19:23:36.243Z"
   },
   {
    "duration": 30,
    "start_time": "2023-02-09T19:23:36.259Z"
   },
   {
    "duration": 4,
    "start_time": "2023-02-09T19:23:36.291Z"
   },
   {
    "duration": 67,
    "start_time": "2023-02-09T19:23:36.297Z"
   },
   {
    "duration": 9,
    "start_time": "2023-02-09T19:23:36.366Z"
   },
   {
    "duration": 5,
    "start_time": "2023-02-09T19:23:36.377Z"
   }
  ],
  "kernelspec": {
   "display_name": "Python 3 (ipykernel)",
   "language": "python",
   "name": "python3"
  },
  "language_info": {
   "codemirror_mode": {
    "name": "ipython",
    "version": 3
   },
   "file_extension": ".py",
   "mimetype": "text/x-python",
   "name": "python",
   "nbconvert_exporter": "python",
   "pygments_lexer": "ipython3",
   "version": "3.9.13"
  },
  "toc": {
   "base_numbering": 1,
   "nav_menu": {},
   "number_sections": true,
   "sideBar": true,
   "skip_h1_title": true,
   "title_cell": "Table of Contents",
   "title_sidebar": "Contents",
   "toc_cell": false,
   "toc_position": {
    "height": "calc(100% - 180px)",
    "left": "10px",
    "top": "150px",
    "width": "318.195px"
   },
   "toc_section_display": true,
   "toc_window_display": true
  }
 },
 "nbformat": 4,
 "nbformat_minor": 2
}
