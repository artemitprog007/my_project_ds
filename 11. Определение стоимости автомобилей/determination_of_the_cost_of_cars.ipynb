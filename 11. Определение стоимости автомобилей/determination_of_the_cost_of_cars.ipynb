{
 "cells": [
  {
   "cell_type": "markdown",
   "id": "b1980ed0",
   "metadata": {},
   "source": [
    "# Определение стоимости автомобилей"
   ]
  },
  {
   "cell_type": "markdown",
   "id": "293f3dd6",
   "metadata": {},
   "source": [
    "## Описание данных"
   ]
  },
  {
   "cell_type": "markdown",
   "id": "14744b41",
   "metadata": {},
   "source": [
    "Данные находятся в файле /datasets/autos.csv.\n",
    "\n",
    "**Признаки:**\n",
    "\n",
    "- DateCrawled — дата скачивания анкеты из базы\n",
    "- VehicleType — тип автомобильного кузова\n",
    "- RegistrationYear — год регистрации автомобиля\n",
    "- Gearbox — тип коробки передач\n",
    "- Power — мощность (л. с.)\n",
    "- Model — модель автомобиля\n",
    "- Kilometer — пробег (км)\n",
    "- RegistrationMonth — месяц регистрации автомобиля\n",
    "- FuelType — тип топлива\n",
    "- Brand — марка автомобиля\n",
    "- Repaired — была машина в ремонте или нет\n",
    "- DateCreated — дата создания анкеты\n",
    "- NumberOfPictures — количество фотографий автомобиля\n",
    "- PostalCode — почтовый индекс владельца анкеты (пользователя)\n",
    "- LastSeen — дата последней активности пользователя\n",
    "\n",
    "**Целевой признак:**\n",
    "\n",
    "- Price — цена (евро)"
   ]
  },
  {
   "cell_type": "markdown",
   "id": "d26a24d2",
   "metadata": {},
   "source": [
    "**План выполнения работы:**\n",
    "\n",
    "- Подготовка Данных\n",
    "    - 1.1 Изучение данных\n",
    "    - 1.2 Предобработка данных\n",
    "    - 1.3 Кодирование категориальных признаков\n",
    "    - 1.4 Подготовка выборок\n",
    "    \n",
    "- Обучение моделей\n",
    "    - 2.1 Линейная регрессия\n",
    "    - 2.2 Lasso/Ridge\n",
    "    - 2.3 LightGBM\n",
    "    \n",
    "- Анализ моделей\n"
   ]
  },
  {
   "cell_type": "markdown",
   "id": "ca38b2d8",
   "metadata": {},
   "source": [
    "## 1. Подготовка данных"
   ]
  },
  {
   "cell_type": "markdown",
   "id": "ea290153",
   "metadata": {},
   "source": [
    "### 1.1 Изучение данных"
   ]
  },
  {
   "cell_type": "markdown",
   "id": "c1f15e31",
   "metadata": {},
   "source": [
    "- pandas - для работы с таблицами\n",
    "- seaborn - для визуализации данных\n",
    "- display - для вывода табличных данных\n",
    "- sklearn - инструменты машинного обучения (модели регрессии, метрики для исследования качества моделей, разделение данных, предобработка данных)"
   ]
  },
  {
   "cell_type": "markdown",
   "id": "e876bfca",
   "metadata": {},
   "source": [
    "установим библиотеку \"lightgbm\" командой -pip"
   ]
  },
  {
   "cell_type": "code",
   "execution_count": 1,
   "id": "6bb0ea57",
   "metadata": {},
   "outputs": [
    {
     "name": "stdout",
     "output_type": "stream",
     "text": [
      "Requirement already satisfied: lightgbm in /Users/artemvishanov/opt/anaconda3/lib/python3.9/site-packages (3.3.5)\n",
      "Requirement already satisfied: numpy in /Users/artemvishanov/opt/anaconda3/lib/python3.9/site-packages (from lightgbm) (1.21.5)\n",
      "Requirement already satisfied: scikit-learn!=0.22.0 in /Users/artemvishanov/opt/anaconda3/lib/python3.9/site-packages (from lightgbm) (1.0.2)\n",
      "Requirement already satisfied: scipy in /Users/artemvishanov/opt/anaconda3/lib/python3.9/site-packages (from lightgbm) (1.9.1)\n",
      "Requirement already satisfied: wheel in /Users/artemvishanov/opt/anaconda3/lib/python3.9/site-packages (from lightgbm) (0.37.1)\n",
      "Requirement already satisfied: joblib>=0.11 in /Users/artemvishanov/opt/anaconda3/lib/python3.9/site-packages (from scikit-learn!=0.22.0->lightgbm) (1.1.0)\n",
      "Requirement already satisfied: threadpoolctl>=2.0.0 in /Users/artemvishanov/opt/anaconda3/lib/python3.9/site-packages (from scikit-learn!=0.22.0->lightgbm) (2.2.0)\n",
      "Note: you may need to restart the kernel to use updated packages.\n"
     ]
    }
   ],
   "source": [
    "pip install lightgbm"
   ]
  },
  {
   "cell_type": "code",
   "execution_count": 2,
   "id": "a82f7dd2",
   "metadata": {},
   "outputs": [
    {
     "name": "stdout",
     "output_type": "stream",
     "text": [
      "Retrieving notices: ...working... done\n",
      "Collecting package metadata (current_repodata.json): done\n",
      "Solving environment: done\n",
      "\n",
      "\n",
      "==> WARNING: A newer version of conda exists. <==\n",
      "  current version: 22.11.1\n",
      "  latest version: 23.3.1\n",
      "\n",
      "Please update conda by running\n",
      "\n",
      "    $ conda update -n base -c conda-forge conda\n",
      "\n",
      "Or to minimize the number of packages updated during conda update use\n",
      "\n",
      "     conda install conda=23.3.1\n",
      "\n",
      "\n",
      "\n",
      "# All requested packages already installed.\n",
      "\n",
      "\n",
      "Note: you may need to restart the kernel to use updated packages.\n"
     ]
    }
   ],
   "source": [
    "conda install -c conda-forge lightgbm"
   ]
  },
  {
   "cell_type": "code",
   "execution_count": 3,
   "id": "0fbbd62a",
   "metadata": {},
   "outputs": [],
   "source": [
    "import pandas as pd\n",
    "import numpy as np\n",
    "from scipy import stats as st\n",
    "import matplotlib.pyplot as plt\n",
    "import seaborn as sns\n",
    "from numpy.random import RandomState\n",
    "\n",
    "from sklearn.inspection import permutation_importance\n",
    "from sklearn.preprocessing import StandardScaler\n",
    "from sklearn.model_selection import train_test_split, cross_val_score, GridSearchCV\n",
    "from sklearn.linear_model import LinearRegression, ElasticNet, Ridge, Lasso\n",
    "from sklearn.ensemble import GradientBoostingRegressor, RandomForestRegressor\n",
    "from sklearn.metrics import mean_squared_error, make_scorer\n",
    "import lightgbm as lgb"
   ]
  },
  {
   "cell_type": "markdown",
   "id": "d84c3545",
   "metadata": {},
   "source": [
    "Загрузим данные из файлов, выведем первые 10 строк таблиц для первого взгляда на данные.\n",
    "Также с помощью метода info() изучим структуры таблиц: типы данных, количество строк, столбцов, пропущенных данных."
   ]
  },
  {
   "cell_type": "code",
   "execution_count": 4,
   "id": "71d8dfca",
   "metadata": {},
   "outputs": [],
   "source": [
    "# сохраняем датасет в переменную 'df'\n",
    "try:\n",
    "    df = pd.read_csv('/Users/artemvishanov/Desktop/yandex_practicum_project/11. Определение стоимости автомобилей/autos.csv')\n",
    "except:\n",
    "    df = pd.read_csv('/datasets/autos.csv')\n"
   ]
  },
  {
   "cell_type": "code",
   "execution_count": 5,
   "id": "d40f2491",
   "metadata": {},
   "outputs": [
    {
     "data": {
      "text/html": [
       "<div>\n",
       "<style scoped>\n",
       "    .dataframe tbody tr th:only-of-type {\n",
       "        vertical-align: middle;\n",
       "    }\n",
       "\n",
       "    .dataframe tbody tr th {\n",
       "        vertical-align: top;\n",
       "    }\n",
       "\n",
       "    .dataframe thead th {\n",
       "        text-align: right;\n",
       "    }\n",
       "</style>\n",
       "<table border=\"1\" class=\"dataframe\">\n",
       "  <thead>\n",
       "    <tr style=\"text-align: right;\">\n",
       "      <th></th>\n",
       "      <th>DateCrawled</th>\n",
       "      <th>Price</th>\n",
       "      <th>VehicleType</th>\n",
       "      <th>RegistrationYear</th>\n",
       "      <th>Gearbox</th>\n",
       "      <th>Power</th>\n",
       "      <th>Model</th>\n",
       "      <th>Kilometer</th>\n",
       "      <th>RegistrationMonth</th>\n",
       "      <th>FuelType</th>\n",
       "      <th>Brand</th>\n",
       "      <th>Repaired</th>\n",
       "      <th>DateCreated</th>\n",
       "      <th>NumberOfPictures</th>\n",
       "      <th>PostalCode</th>\n",
       "      <th>LastSeen</th>\n",
       "    </tr>\n",
       "  </thead>\n",
       "  <tbody>\n",
       "    <tr>\n",
       "      <th>0</th>\n",
       "      <td>2016-03-24 11:52:17</td>\n",
       "      <td>480</td>\n",
       "      <td>NaN</td>\n",
       "      <td>1993</td>\n",
       "      <td>manual</td>\n",
       "      <td>0</td>\n",
       "      <td>golf</td>\n",
       "      <td>150000</td>\n",
       "      <td>0</td>\n",
       "      <td>petrol</td>\n",
       "      <td>volkswagen</td>\n",
       "      <td>NaN</td>\n",
       "      <td>2016-03-24 00:00:00</td>\n",
       "      <td>0</td>\n",
       "      <td>70435</td>\n",
       "      <td>2016-04-07 03:16:57</td>\n",
       "    </tr>\n",
       "    <tr>\n",
       "      <th>1</th>\n",
       "      <td>2016-03-24 10:58:45</td>\n",
       "      <td>18300</td>\n",
       "      <td>coupe</td>\n",
       "      <td>2011</td>\n",
       "      <td>manual</td>\n",
       "      <td>190</td>\n",
       "      <td>NaN</td>\n",
       "      <td>125000</td>\n",
       "      <td>5</td>\n",
       "      <td>gasoline</td>\n",
       "      <td>audi</td>\n",
       "      <td>yes</td>\n",
       "      <td>2016-03-24 00:00:00</td>\n",
       "      <td>0</td>\n",
       "      <td>66954</td>\n",
       "      <td>2016-04-07 01:46:50</td>\n",
       "    </tr>\n",
       "    <tr>\n",
       "      <th>2</th>\n",
       "      <td>2016-03-14 12:52:21</td>\n",
       "      <td>9800</td>\n",
       "      <td>suv</td>\n",
       "      <td>2004</td>\n",
       "      <td>auto</td>\n",
       "      <td>163</td>\n",
       "      <td>grand</td>\n",
       "      <td>125000</td>\n",
       "      <td>8</td>\n",
       "      <td>gasoline</td>\n",
       "      <td>jeep</td>\n",
       "      <td>NaN</td>\n",
       "      <td>2016-03-14 00:00:00</td>\n",
       "      <td>0</td>\n",
       "      <td>90480</td>\n",
       "      <td>2016-04-05 12:47:46</td>\n",
       "    </tr>\n",
       "    <tr>\n",
       "      <th>3</th>\n",
       "      <td>2016-03-17 16:54:04</td>\n",
       "      <td>1500</td>\n",
       "      <td>small</td>\n",
       "      <td>2001</td>\n",
       "      <td>manual</td>\n",
       "      <td>75</td>\n",
       "      <td>golf</td>\n",
       "      <td>150000</td>\n",
       "      <td>6</td>\n",
       "      <td>petrol</td>\n",
       "      <td>volkswagen</td>\n",
       "      <td>no</td>\n",
       "      <td>2016-03-17 00:00:00</td>\n",
       "      <td>0</td>\n",
       "      <td>91074</td>\n",
       "      <td>2016-03-17 17:40:17</td>\n",
       "    </tr>\n",
       "    <tr>\n",
       "      <th>4</th>\n",
       "      <td>2016-03-31 17:25:20</td>\n",
       "      <td>3600</td>\n",
       "      <td>small</td>\n",
       "      <td>2008</td>\n",
       "      <td>manual</td>\n",
       "      <td>69</td>\n",
       "      <td>fabia</td>\n",
       "      <td>90000</td>\n",
       "      <td>7</td>\n",
       "      <td>gasoline</td>\n",
       "      <td>skoda</td>\n",
       "      <td>no</td>\n",
       "      <td>2016-03-31 00:00:00</td>\n",
       "      <td>0</td>\n",
       "      <td>60437</td>\n",
       "      <td>2016-04-06 10:17:21</td>\n",
       "    </tr>\n",
       "    <tr>\n",
       "      <th>5</th>\n",
       "      <td>2016-04-04 17:36:23</td>\n",
       "      <td>650</td>\n",
       "      <td>sedan</td>\n",
       "      <td>1995</td>\n",
       "      <td>manual</td>\n",
       "      <td>102</td>\n",
       "      <td>3er</td>\n",
       "      <td>150000</td>\n",
       "      <td>10</td>\n",
       "      <td>petrol</td>\n",
       "      <td>bmw</td>\n",
       "      <td>yes</td>\n",
       "      <td>2016-04-04 00:00:00</td>\n",
       "      <td>0</td>\n",
       "      <td>33775</td>\n",
       "      <td>2016-04-06 19:17:07</td>\n",
       "    </tr>\n",
       "    <tr>\n",
       "      <th>6</th>\n",
       "      <td>2016-04-01 20:48:51</td>\n",
       "      <td>2200</td>\n",
       "      <td>convertible</td>\n",
       "      <td>2004</td>\n",
       "      <td>manual</td>\n",
       "      <td>109</td>\n",
       "      <td>2_reihe</td>\n",
       "      <td>150000</td>\n",
       "      <td>8</td>\n",
       "      <td>petrol</td>\n",
       "      <td>peugeot</td>\n",
       "      <td>no</td>\n",
       "      <td>2016-04-01 00:00:00</td>\n",
       "      <td>0</td>\n",
       "      <td>67112</td>\n",
       "      <td>2016-04-05 18:18:39</td>\n",
       "    </tr>\n",
       "    <tr>\n",
       "      <th>7</th>\n",
       "      <td>2016-03-21 18:54:38</td>\n",
       "      <td>0</td>\n",
       "      <td>sedan</td>\n",
       "      <td>1980</td>\n",
       "      <td>manual</td>\n",
       "      <td>50</td>\n",
       "      <td>other</td>\n",
       "      <td>40000</td>\n",
       "      <td>7</td>\n",
       "      <td>petrol</td>\n",
       "      <td>volkswagen</td>\n",
       "      <td>no</td>\n",
       "      <td>2016-03-21 00:00:00</td>\n",
       "      <td>0</td>\n",
       "      <td>19348</td>\n",
       "      <td>2016-03-25 16:47:58</td>\n",
       "    </tr>\n",
       "    <tr>\n",
       "      <th>8</th>\n",
       "      <td>2016-04-04 23:42:13</td>\n",
       "      <td>14500</td>\n",
       "      <td>bus</td>\n",
       "      <td>2014</td>\n",
       "      <td>manual</td>\n",
       "      <td>125</td>\n",
       "      <td>c_max</td>\n",
       "      <td>30000</td>\n",
       "      <td>8</td>\n",
       "      <td>petrol</td>\n",
       "      <td>ford</td>\n",
       "      <td>NaN</td>\n",
       "      <td>2016-04-04 00:00:00</td>\n",
       "      <td>0</td>\n",
       "      <td>94505</td>\n",
       "      <td>2016-04-04 23:42:13</td>\n",
       "    </tr>\n",
       "    <tr>\n",
       "      <th>9</th>\n",
       "      <td>2016-03-17 10:53:50</td>\n",
       "      <td>999</td>\n",
       "      <td>small</td>\n",
       "      <td>1998</td>\n",
       "      <td>manual</td>\n",
       "      <td>101</td>\n",
       "      <td>golf</td>\n",
       "      <td>150000</td>\n",
       "      <td>0</td>\n",
       "      <td>NaN</td>\n",
       "      <td>volkswagen</td>\n",
       "      <td>NaN</td>\n",
       "      <td>2016-03-17 00:00:00</td>\n",
       "      <td>0</td>\n",
       "      <td>27472</td>\n",
       "      <td>2016-03-31 17:17:06</td>\n",
       "    </tr>\n",
       "  </tbody>\n",
       "</table>\n",
       "</div>"
      ],
      "text/plain": [
       "           DateCrawled  Price  VehicleType  RegistrationYear Gearbox  Power  \\\n",
       "0  2016-03-24 11:52:17    480          NaN              1993  manual      0   \n",
       "1  2016-03-24 10:58:45  18300        coupe              2011  manual    190   \n",
       "2  2016-03-14 12:52:21   9800          suv              2004    auto    163   \n",
       "3  2016-03-17 16:54:04   1500        small              2001  manual     75   \n",
       "4  2016-03-31 17:25:20   3600        small              2008  manual     69   \n",
       "5  2016-04-04 17:36:23    650        sedan              1995  manual    102   \n",
       "6  2016-04-01 20:48:51   2200  convertible              2004  manual    109   \n",
       "7  2016-03-21 18:54:38      0        sedan              1980  manual     50   \n",
       "8  2016-04-04 23:42:13  14500          bus              2014  manual    125   \n",
       "9  2016-03-17 10:53:50    999        small              1998  manual    101   \n",
       "\n",
       "     Model  Kilometer  RegistrationMonth  FuelType       Brand Repaired  \\\n",
       "0     golf     150000                  0    petrol  volkswagen      NaN   \n",
       "1      NaN     125000                  5  gasoline        audi      yes   \n",
       "2    grand     125000                  8  gasoline        jeep      NaN   \n",
       "3     golf     150000                  6    petrol  volkswagen       no   \n",
       "4    fabia      90000                  7  gasoline       skoda       no   \n",
       "5      3er     150000                 10    petrol         bmw      yes   \n",
       "6  2_reihe     150000                  8    petrol     peugeot       no   \n",
       "7    other      40000                  7    petrol  volkswagen       no   \n",
       "8    c_max      30000                  8    petrol        ford      NaN   \n",
       "9     golf     150000                  0       NaN  volkswagen      NaN   \n",
       "\n",
       "           DateCreated  NumberOfPictures  PostalCode             LastSeen  \n",
       "0  2016-03-24 00:00:00                 0       70435  2016-04-07 03:16:57  \n",
       "1  2016-03-24 00:00:00                 0       66954  2016-04-07 01:46:50  \n",
       "2  2016-03-14 00:00:00                 0       90480  2016-04-05 12:47:46  \n",
       "3  2016-03-17 00:00:00                 0       91074  2016-03-17 17:40:17  \n",
       "4  2016-03-31 00:00:00                 0       60437  2016-04-06 10:17:21  \n",
       "5  2016-04-04 00:00:00                 0       33775  2016-04-06 19:17:07  \n",
       "6  2016-04-01 00:00:00                 0       67112  2016-04-05 18:18:39  \n",
       "7  2016-03-21 00:00:00                 0       19348  2016-03-25 16:47:58  \n",
       "8  2016-04-04 00:00:00                 0       94505  2016-04-04 23:42:13  \n",
       "9  2016-03-17 00:00:00                 0       27472  2016-03-31 17:17:06  "
      ]
     },
     "metadata": {},
     "output_type": "display_data"
    },
    {
     "name": "stdout",
     "output_type": "stream",
     "text": [
      "<class 'pandas.core.frame.DataFrame'>\n",
      "RangeIndex: 354369 entries, 0 to 354368\n",
      "Data columns (total 16 columns):\n",
      " #   Column             Non-Null Count   Dtype \n",
      "---  ------             --------------   ----- \n",
      " 0   DateCrawled        354369 non-null  object\n",
      " 1   Price              354369 non-null  int64 \n",
      " 2   VehicleType        316879 non-null  object\n",
      " 3   RegistrationYear   354369 non-null  int64 \n",
      " 4   Gearbox            334536 non-null  object\n",
      " 5   Power              354369 non-null  int64 \n",
      " 6   Model              334664 non-null  object\n",
      " 7   Kilometer          354369 non-null  int64 \n",
      " 8   RegistrationMonth  354369 non-null  int64 \n",
      " 9   FuelType           321474 non-null  object\n",
      " 10  Brand              354369 non-null  object\n",
      " 11  Repaired           283215 non-null  object\n",
      " 12  DateCreated        354369 non-null  object\n",
      " 13  NumberOfPictures   354369 non-null  int64 \n",
      " 14  PostalCode         354369 non-null  int64 \n",
      " 15  LastSeen           354369 non-null  object\n",
      "dtypes: int64(7), object(9)\n",
      "memory usage: 43.3+ MB\n",
      "None\n",
      "Количество дубликатов: 4\n"
     ]
    }
   ],
   "source": [
    "display(df.head(10))\n",
    "print(df.info())\n",
    "print('Количество дубликатов:', sum(df.duplicated()))"
   ]
  },
  {
   "cell_type": "markdown",
   "id": "1a4424e2",
   "metadata": {},
   "source": [
    "- Признаки **NumberOfPicture** и **PostalCode**, не несут полезной информации, удалим их.\n",
    "- Также **DateCrawled**, повторяет данные из **DateCreated**.\n",
    "- **RegistrationMonth** по смыслу также не будет влиять на цену автомобиля"
   ]
  },
  {
   "cell_type": "markdown",
   "id": "ea8f30da",
   "metadata": {},
   "source": [
    "Избавимся от неинформативных признаков."
   ]
  },
  {
   "cell_type": "code",
   "execution_count": 6,
   "id": "ab62b45f",
   "metadata": {},
   "outputs": [],
   "source": [
    "df = df.drop(['NumberOfPictures', 'PostalCode', 'DateCrawled', 'RegistrationMonth'], axis=1)"
   ]
  },
  {
   "cell_type": "code",
   "execution_count": 7,
   "id": "7d1e522e",
   "metadata": {},
   "outputs": [],
   "source": [
    "numerical_features = ['DateCreated', 'Price', 'RegistrationYear', 'Power', 'Kilometer', 'LastSeen']\n",
    "categorical_features = ['VehicleType', 'Gearbox', 'Model', 'FuelType', 'NotRepaired', 'Brand']"
   ]
  },
  {
   "cell_type": "markdown",
   "id": "ee6022eb",
   "metadata": {},
   "source": [
    "### 1.2. Предобработка данных"
   ]
  },
  {
   "cell_type": "markdown",
   "id": "318cb7ac",
   "metadata": {},
   "source": [
    "- Отберем признаки, которые понадобятся для построения модели\n",
    "- Обработаем пропускт и выбросы "
   ]
  },
  {
   "cell_type": "code",
   "execution_count": 8,
   "id": "94df6c19",
   "metadata": {},
   "outputs": [],
   "source": [
    "# для начала удалим дубликаты \n",
    "df = df.drop_duplicates()"
   ]
  },
  {
   "cell_type": "markdown",
   "id": "2bcf6c2d",
   "metadata": {},
   "source": [
    "- Признак **Price**"
   ]
  },
  {
   "cell_type": "code",
   "execution_count": 9,
   "id": "71f66639",
   "metadata": {},
   "outputs": [
    {
     "data": {
      "text/plain": [
       "'Количество объявлений с нулевой ценой: 10771'"
      ]
     },
     "execution_count": 9,
     "metadata": {},
     "output_type": "execute_result"
    }
   ],
   "source": [
    "f\"Количество объявлений с нулевой ценой: {len(df.loc[df['Price'] == 0])}\""
   ]
  },
  {
   "cell_type": "markdown",
   "id": "3ef25e57",
   "metadata": {},
   "source": [
    "Данные о нулевой цене явно ошибка, их нельзя востановить, поэтому удалим, чтобы не портить модель."
   ]
  },
  {
   "cell_type": "code",
   "execution_count": 10,
   "id": "f1b50723",
   "metadata": {},
   "outputs": [],
   "source": [
    "df = df.loc[df['Price'] != 0]"
   ]
  },
  {
   "cell_type": "code",
   "execution_count": 11,
   "id": "54674b61",
   "metadata": {
    "scrolled": false
   },
   "outputs": [
    {
     "data": {
      "text/plain": [
       "<AxesSubplot:xlabel='Price', ylabel='Count'>"
      ]
     },
     "execution_count": 11,
     "metadata": {},
     "output_type": "execute_result"
    },
    {
     "data": {
      "image/png": "[encoded data removed]",
      "text/plain": [
       "<Figure size 640x480 with 1 Axes>"
      ]
     },
     "metadata": {},
     "output_type": "display_data"
    }
   ],
   "source": [
    "sns.histplot(df['Price'], bins=20)"
   ]
  },
  {
   "cell_type": "markdown",
   "id": "4f929bc7",
   "metadata": {},
   "source": [
    "- Признак **Model**"
   ]
  },
  {
   "cell_type": "code",
   "execution_count": 12,
   "id": "3fbdfddd",
   "metadata": {},
   "outputs": [
    {
     "data": {
      "text/plain": [
       "'Количество объявлений с незаполненной моделью: 17520'"
      ]
     },
     "execution_count": 12,
     "metadata": {},
     "output_type": "execute_result"
    }
   ],
   "source": [
    "f\"Количество объявлений с незаполненной моделью: {len(df.loc[df['Model'].isna()])}\""
   ]
  },
  {
   "cell_type": "markdown",
   "id": "c2f24e4c",
   "metadata": {},
   "source": [
    "Признак Model является одним из основных для предсказания цены. Пропущено 5% данных в этом признаке. Нет возможности восстановить корректно эти данные, удалим пропуски."
   ]
  },
  {
   "cell_type": "code",
   "execution_count": 13,
   "id": "cb336faf",
   "metadata": {},
   "outputs": [],
   "source": [
    "df = df.loc[~df['Model'].isna()]"
   ]
  },
  {
   "cell_type": "markdown",
   "id": "abdc5fc7",
   "metadata": {},
   "source": [
    "- Признак **Power**"
   ]
  },
  {
   "cell_type": "code",
   "execution_count": 14,
   "id": "ec398ff2",
   "metadata": {},
   "outputs": [
    {
     "data": {
      "text/plain": [
       "'Количество автомобилей с мощностью > 1000 л.с.: 31583'"
      ]
     },
     "execution_count": 14,
     "metadata": {},
     "output_type": "execute_result"
    }
   ],
   "source": [
    "f\"Количество автомобилей с мощностью > 1000 л.с.: {len(df.loc[(df['Power'] > 1000) | (df['Power'] <= 0)])}\""
   ]
  },
  {
   "cell_type": "markdown",
   "id": "89573559",
   "metadata": {},
   "source": [
    "Мощность > 1000 л.с. неправдоподобна. Заполним все непавдоподобные значения медианными среди автомобилей той же модели."
   ]
  },
  {
   "cell_type": "code",
   "execution_count": 15,
   "id": "f9d372aa",
   "metadata": {},
   "outputs": [],
   "source": [
    "df.loc[(df['Power'] > 1000) | (df['Power'] <= 0), 'Power'] = None\n",
    "df['Power'] = df['Power'].fillna(df.groupby('Model')['Power'].transform('median'))\n",
    "df = df.loc[~df['Power'].isna()]\n",
    "df['Power'] = df['Power'].astype('int64')"
   ]
  },
  {
   "cell_type": "code",
   "execution_count": 16,
   "id": "e718868c",
   "metadata": {},
   "outputs": [
    {
     "data": {
      "text/html": [
       "<div>\n",
       "<style scoped>\n",
       "    .dataframe tbody tr th:only-of-type {\n",
       "        vertical-align: middle;\n",
       "    }\n",
       "\n",
       "    .dataframe tbody tr th {\n",
       "        vertical-align: top;\n",
       "    }\n",
       "\n",
       "    .dataframe thead th {\n",
       "        text-align: right;\n",
       "    }\n",
       "</style>\n",
       "<table border=\"1\" class=\"dataframe\">\n",
       "  <thead>\n",
       "    <tr style=\"text-align: right;\">\n",
       "      <th></th>\n",
       "      <th>Price</th>\n",
       "      <th>VehicleType</th>\n",
       "      <th>RegistrationYear</th>\n",
       "      <th>Gearbox</th>\n",
       "      <th>Power</th>\n",
       "      <th>Model</th>\n",
       "      <th>Kilometer</th>\n",
       "      <th>FuelType</th>\n",
       "      <th>Brand</th>\n",
       "      <th>Repaired</th>\n",
       "      <th>DateCreated</th>\n",
       "      <th>LastSeen</th>\n",
       "    </tr>\n",
       "  </thead>\n",
       "  <tbody>\n",
       "  </tbody>\n",
       "</table>\n",
       "</div>"
      ],
      "text/plain": [
       "Empty DataFrame\n",
       "Columns: [Price, VehicleType, RegistrationYear, Gearbox, Power, Model, Kilometer, FuelType, Brand, Repaired, DateCreated, LastSeen]\n",
       "Index: []"
      ]
     },
     "execution_count": 16,
     "metadata": {},
     "output_type": "execute_result"
    }
   ],
   "source": [
    "df.loc[(df['Power'] == 0)]"
   ]
  },
  {
   "cell_type": "code",
   "execution_count": 17,
   "id": "661bcea7",
   "metadata": {},
   "outputs": [
    {
     "data": {
      "text/plain": [
       "<AxesSubplot:xlabel='Power', ylabel='Count'>"
      ]
     },
     "execution_count": 17,
     "metadata": {},
     "output_type": "execute_result"
    },
    {
     "data": {
      "image/png": "[encoded data removed]",
      "text/plain": [
       "<Figure size 640x480 with 1 Axes>"
      ]
     },
     "metadata": {},
     "output_type": "display_data"
    }
   ],
   "source": [
    "sns.histplot(df['Power'], bins=20)"
   ]
  },
  {
   "cell_type": "markdown",
   "id": "44c4fcd5",
   "metadata": {},
   "source": [
    "- Признаки **DateCreated** и **LastSeen**"
   ]
  },
  {
   "cell_type": "code",
   "execution_count": 18,
   "id": "623c152a",
   "metadata": {},
   "outputs": [
    {
     "data": {
      "text/plain": [
       "'Минимальная дата рагистрации объявления: 2014-03-10 00:00:00'"
      ]
     },
     "execution_count": 18,
     "metadata": {},
     "output_type": "execute_result"
    }
   ],
   "source": [
    "f\"Минимальная дата рагистрации объявления: {min(df['DateCreated'])}\""
   ]
  },
  {
   "cell_type": "markdown",
   "id": "cd800547",
   "metadata": {},
   "source": [
    "- Признаки **DateCreated** и **LastSeen** преобразуем в количество дней с момента 2014-03-01."
   ]
  },
  {
   "cell_type": "code",
   "execution_count": 19,
   "id": "3bae3ed0",
   "metadata": {},
   "outputs": [],
   "source": [
    "base_date = pd.Timestamp('2014-03-01 00:00:00')\n",
    "df['DateCreated'] = df['DateCreated'].map(lambda df : (pd.Timestamp(df) - base_date).days)\n",
    "\n",
    "df['LastSeen'] = df['LastSeen'].map(lambda df : (pd.Timestamp(df) - base_date).days)"
   ]
  },
  {
   "cell_type": "markdown",
   "id": "a7676130",
   "metadata": {},
   "source": [
    "- Признак **RegistrationYear**"
   ]
  },
  {
   "cell_type": "code",
   "execution_count": 20,
   "id": "253a719e",
   "metadata": {},
   "outputs": [
    {
     "data": {
      "text/plain": [
       "'Количество объявлений с неправильным годом регистрации: 58'"
      ]
     },
     "execution_count": 20,
     "metadata": {},
     "output_type": "execute_result"
    }
   ],
   "source": [
    "f\"Количество объявлений с неправильным годом регистрации: {len(df.loc[df['RegistrationYear'] > 2020])}\""
   ]
  },
  {
   "cell_type": "code",
   "execution_count": 21,
   "id": "c3216f4e",
   "metadata": {},
   "outputs": [
    {
     "data": {
      "text/html": [
       "<div>\n",
       "<style scoped>\n",
       "    .dataframe tbody tr th:only-of-type {\n",
       "        vertical-align: middle;\n",
       "    }\n",
       "\n",
       "    .dataframe tbody tr th {\n",
       "        vertical-align: top;\n",
       "    }\n",
       "\n",
       "    .dataframe thead th {\n",
       "        text-align: right;\n",
       "    }\n",
       "</style>\n",
       "<table border=\"1\" class=\"dataframe\">\n",
       "  <thead>\n",
       "    <tr style=\"text-align: right;\">\n",
       "      <th></th>\n",
       "      <th>Price</th>\n",
       "      <th>VehicleType</th>\n",
       "      <th>RegistrationYear</th>\n",
       "      <th>Gearbox</th>\n",
       "      <th>Power</th>\n",
       "      <th>Model</th>\n",
       "      <th>Kilometer</th>\n",
       "      <th>FuelType</th>\n",
       "      <th>Brand</th>\n",
       "      <th>Repaired</th>\n",
       "      <th>DateCreated</th>\n",
       "      <th>LastSeen</th>\n",
       "    </tr>\n",
       "  </thead>\n",
       "  <tbody>\n",
       "    <tr>\n",
       "      <th>12946</th>\n",
       "      <td>49</td>\n",
       "      <td>NaN</td>\n",
       "      <td>5000</td>\n",
       "      <td>NaN</td>\n",
       "      <td>101</td>\n",
       "      <td>golf</td>\n",
       "      <td>5000</td>\n",
       "      <td>NaN</td>\n",
       "      <td>volkswagen</td>\n",
       "      <td>NaN</td>\n",
       "      <td>759</td>\n",
       "      <td>767</td>\n",
       "    </tr>\n",
       "    <tr>\n",
       "      <th>17271</th>\n",
       "      <td>700</td>\n",
       "      <td>NaN</td>\n",
       "      <td>9999</td>\n",
       "      <td>NaN</td>\n",
       "      <td>116</td>\n",
       "      <td>other</td>\n",
       "      <td>10000</td>\n",
       "      <td>NaN</td>\n",
       "      <td>opel</td>\n",
       "      <td>NaN</td>\n",
       "      <td>753</td>\n",
       "      <td>766</td>\n",
       "    </tr>\n",
       "    <tr>\n",
       "      <th>18259</th>\n",
       "      <td>300</td>\n",
       "      <td>NaN</td>\n",
       "      <td>2200</td>\n",
       "      <td>NaN</td>\n",
       "      <td>58</td>\n",
       "      <td>twingo</td>\n",
       "      <td>5000</td>\n",
       "      <td>NaN</td>\n",
       "      <td>renault</td>\n",
       "      <td>NaN</td>\n",
       "      <td>746</td>\n",
       "      <td>768</td>\n",
       "    </tr>\n",
       "    <tr>\n",
       "      <th>26382</th>\n",
       "      <td>150</td>\n",
       "      <td>NaN</td>\n",
       "      <td>3000</td>\n",
       "      <td>NaN</td>\n",
       "      <td>95</td>\n",
       "      <td>a_klasse</td>\n",
       "      <td>5000</td>\n",
       "      <td>NaN</td>\n",
       "      <td>mercedes_benz</td>\n",
       "      <td>NaN</td>\n",
       "      <td>737</td>\n",
       "      <td>738</td>\n",
       "    </tr>\n",
       "    <tr>\n",
       "      <th>26560</th>\n",
       "      <td>800</td>\n",
       "      <td>NaN</td>\n",
       "      <td>2066</td>\n",
       "      <td>NaN</td>\n",
       "      <td>125</td>\n",
       "      <td>zafira</td>\n",
       "      <td>5000</td>\n",
       "      <td>gasoline</td>\n",
       "      <td>opel</td>\n",
       "      <td>NaN</td>\n",
       "      <td>754</td>\n",
       "      <td>759</td>\n",
       "    </tr>\n",
       "    <tr>\n",
       "      <th>28390</th>\n",
       "      <td>799</td>\n",
       "      <td>NaN</td>\n",
       "      <td>9999</td>\n",
       "      <td>NaN</td>\n",
       "      <td>150</td>\n",
       "      <td>3er</td>\n",
       "      <td>10000</td>\n",
       "      <td>petrol</td>\n",
       "      <td>bmw</td>\n",
       "      <td>NaN</td>\n",
       "      <td>766</td>\n",
       "      <td>768</td>\n",
       "    </tr>\n",
       "    <tr>\n",
       "      <th>28965</th>\n",
       "      <td>18000</td>\n",
       "      <td>NaN</td>\n",
       "      <td>9999</td>\n",
       "      <td>NaN</td>\n",
       "      <td>95</td>\n",
       "      <td>a_klasse</td>\n",
       "      <td>10000</td>\n",
       "      <td>petrol</td>\n",
       "      <td>mercedes_benz</td>\n",
       "      <td>NaN</td>\n",
       "      <td>765</td>\n",
       "      <td>768</td>\n",
       "    </tr>\n",
       "    <tr>\n",
       "      <th>29426</th>\n",
       "      <td>7999</td>\n",
       "      <td>NaN</td>\n",
       "      <td>9999</td>\n",
       "      <td>NaN</td>\n",
       "      <td>44</td>\n",
       "      <td>kaefer</td>\n",
       "      <td>10000</td>\n",
       "      <td>NaN</td>\n",
       "      <td>volkswagen</td>\n",
       "      <td>NaN</td>\n",
       "      <td>753</td>\n",
       "      <td>767</td>\n",
       "    </tr>\n",
       "    <tr>\n",
       "      <th>40954</th>\n",
       "      <td>59</td>\n",
       "      <td>NaN</td>\n",
       "      <td>8000</td>\n",
       "      <td>NaN</td>\n",
       "      <td>116</td>\n",
       "      <td>other</td>\n",
       "      <td>10000</td>\n",
       "      <td>NaN</td>\n",
       "      <td>chevrolet</td>\n",
       "      <td>NaN</td>\n",
       "      <td>737</td>\n",
       "      <td>768</td>\n",
       "    </tr>\n",
       "    <tr>\n",
       "      <th>45662</th>\n",
       "      <td>999</td>\n",
       "      <td>NaN</td>\n",
       "      <td>9000</td>\n",
       "      <td>NaN</td>\n",
       "      <td>69</td>\n",
       "      <td>fiesta</td>\n",
       "      <td>10000</td>\n",
       "      <td>NaN</td>\n",
       "      <td>ford</td>\n",
       "      <td>yes</td>\n",
       "      <td>753</td>\n",
       "      <td>766</td>\n",
       "    </tr>\n",
       "  </tbody>\n",
       "</table>\n",
       "</div>"
      ],
      "text/plain": [
       "       Price VehicleType  RegistrationYear Gearbox  Power     Model  \\\n",
       "12946     49         NaN              5000     NaN    101      golf   \n",
       "17271    700         NaN              9999     NaN    116     other   \n",
       "18259    300         NaN              2200     NaN     58    twingo   \n",
       "26382    150         NaN              3000     NaN     95  a_klasse   \n",
       "26560    800         NaN              2066     NaN    125    zafira   \n",
       "28390    799         NaN              9999     NaN    150       3er   \n",
       "28965  18000         NaN              9999     NaN     95  a_klasse   \n",
       "29426   7999         NaN              9999     NaN     44    kaefer   \n",
       "40954     59         NaN              8000     NaN    116     other   \n",
       "45662    999         NaN              9000     NaN     69    fiesta   \n",
       "\n",
       "       Kilometer  FuelType          Brand Repaired  DateCreated  LastSeen  \n",
       "12946       5000       NaN     volkswagen      NaN          759       767  \n",
       "17271      10000       NaN           opel      NaN          753       766  \n",
       "18259       5000       NaN        renault      NaN          746       768  \n",
       "26382       5000       NaN  mercedes_benz      NaN          737       738  \n",
       "26560       5000  gasoline           opel      NaN          754       759  \n",
       "28390      10000    petrol            bmw      NaN          766       768  \n",
       "28965      10000    petrol  mercedes_benz      NaN          765       768  \n",
       "29426      10000       NaN     volkswagen      NaN          753       767  \n",
       "40954      10000       NaN      chevrolet      NaN          737       768  \n",
       "45662      10000       NaN           ford      yes          753       766  "
      ]
     },
     "execution_count": 21,
     "metadata": {},
     "output_type": "execute_result"
    }
   ],
   "source": [
    "df.loc[df['RegistrationYear'] > 2020].head(10)"
   ]
  },
  {
   "cell_type": "markdown",
   "id": "a9d1cb63",
   "metadata": {},
   "source": [
    "Цену с неправильным годом регистрации также будет сложно предсказать, такие объявления могут внести ошибки в модель. Таких объектов мало, и данные по многим другим признакам также пропущены. Удалим эти объявления."
   ]
  },
  {
   "cell_type": "code",
   "execution_count": 22,
   "id": "bfb78a0c",
   "metadata": {},
   "outputs": [],
   "source": [
    "df = df.loc[df['RegistrationYear'] <= 2020]"
   ]
  },
  {
   "cell_type": "code",
   "execution_count": 23,
   "id": "d950d65d",
   "metadata": {},
   "outputs": [
    {
     "data": {
      "text/plain": [
       "array([[<AxesSubplot:title={'center':'RegistrationYear'}>]], dtype=object)"
      ]
     },
     "execution_count": 23,
     "metadata": {},
     "output_type": "execute_result"
    },
    {
     "data": {
      "image/png": "[encoded data removed]",
      "text/plain": [
       "<Figure size 640x480 with 1 Axes>"
      ]
     },
     "metadata": {},
     "output_type": "display_data"
    }
   ],
   "source": [
    "df.hist('RegistrationYear', bins=1000)"
   ]
  },
  {
   "cell_type": "markdown",
   "id": "bb658d7f",
   "metadata": {},
   "source": [
    "- Признаки **VehicleType**, **Gearbox**, **FuelType**"
   ]
  },
  {
   "cell_type": "markdown",
   "id": "aa041cf0",
   "metadata": {},
   "source": [
    "Данные параметры c большой вероятностью одинаковы в одинаковых моделях автомобилей. Заполним пропуски в данных признаках наиболее частым значением той же модели."
   ]
  },
  {
   "cell_type": "code",
   "execution_count": 24,
   "id": "b216921e",
   "metadata": {
    "scrolled": true
   },
   "outputs": [],
   "source": [
    "df['VehicleType'] = df['VehicleType'].fillna(df\n",
    "                                                  .groupby('Model')['VehicleType']\n",
    "                                                  .transform(lambda x: x.value_counts().idxmax())\n",
    "                                                 )"
   ]
  },
  {
   "cell_type": "code",
   "execution_count": 25,
   "id": "ce1c0df7",
   "metadata": {},
   "outputs": [],
   "source": [
    "df['Gearbox'] = df['Gearbox'].fillna(df\n",
    "                                         .groupby('Model')['VehicleType']\n",
    "                                         .transform(lambda x: x.value_counts().idxmax())\n",
    "                                        )"
   ]
  },
  {
   "cell_type": "code",
   "execution_count": 26,
   "id": "98ac49fe",
   "metadata": {},
   "outputs": [],
   "source": [
    "df['FuelType'] = df['FuelType'].fillna(df\n",
    "                                           .groupby('Model')['VehicleType']\n",
    "                                           .transform(lambda x: x.value_counts().idxmax())\n",
    "                                          )"
   ]
  },
  {
   "cell_type": "markdown",
   "id": "b9aa46e4",
   "metadata": {},
   "source": [
    "- Признак **Repaired**"
   ]
  },
  {
   "cell_type": "code",
   "execution_count": 27,
   "id": "2a7a2214",
   "metadata": {},
   "outputs": [],
   "source": [
    "df['Repaired'] = df['Repaired'].fillna('unknown')"
   ]
  },
  {
   "cell_type": "markdown",
   "id": "a47b5df2",
   "metadata": {},
   "source": [
    "**Посмотрим на получившиеся данные после обработки пропусков и выбросов:**"
   ]
  },
  {
   "cell_type": "code",
   "execution_count": 28,
   "id": "a3b00513",
   "metadata": {
    "scrolled": false
   },
   "outputs": [
    {
     "data": {
      "text/html": [
       "<div>\n",
       "<style scoped>\n",
       "    .dataframe tbody tr th:only-of-type {\n",
       "        vertical-align: middle;\n",
       "    }\n",
       "\n",
       "    .dataframe tbody tr th {\n",
       "        vertical-align: top;\n",
       "    }\n",
       "\n",
       "    .dataframe thead th {\n",
       "        text-align: right;\n",
       "    }\n",
       "</style>\n",
       "<table border=\"1\" class=\"dataframe\">\n",
       "  <thead>\n",
       "    <tr style=\"text-align: right;\">\n",
       "      <th></th>\n",
       "      <th>Price</th>\n",
       "      <th>VehicleType</th>\n",
       "      <th>RegistrationYear</th>\n",
       "      <th>Gearbox</th>\n",
       "      <th>Power</th>\n",
       "      <th>Model</th>\n",
       "      <th>Kilometer</th>\n",
       "      <th>FuelType</th>\n",
       "      <th>Brand</th>\n",
       "      <th>Repaired</th>\n",
       "      <th>DateCreated</th>\n",
       "      <th>LastSeen</th>\n",
       "    </tr>\n",
       "  </thead>\n",
       "  <tbody>\n",
       "    <tr>\n",
       "      <th>0</th>\n",
       "      <td>480</td>\n",
       "      <td>sedan</td>\n",
       "      <td>1993</td>\n",
       "      <td>manual</td>\n",
       "      <td>101</td>\n",
       "      <td>golf</td>\n",
       "      <td>150000</td>\n",
       "      <td>petrol</td>\n",
       "      <td>volkswagen</td>\n",
       "      <td>unknown</td>\n",
       "      <td>754</td>\n",
       "      <td>768</td>\n",
       "    </tr>\n",
       "    <tr>\n",
       "      <th>2</th>\n",
       "      <td>9800</td>\n",
       "      <td>suv</td>\n",
       "      <td>2004</td>\n",
       "      <td>auto</td>\n",
       "      <td>163</td>\n",
       "      <td>grand</td>\n",
       "      <td>125000</td>\n",
       "      <td>gasoline</td>\n",
       "      <td>jeep</td>\n",
       "      <td>unknown</td>\n",
       "      <td>744</td>\n",
       "      <td>766</td>\n",
       "    </tr>\n",
       "    <tr>\n",
       "      <th>3</th>\n",
       "      <td>1500</td>\n",
       "      <td>small</td>\n",
       "      <td>2001</td>\n",
       "      <td>manual</td>\n",
       "      <td>75</td>\n",
       "      <td>golf</td>\n",
       "      <td>150000</td>\n",
       "      <td>petrol</td>\n",
       "      <td>volkswagen</td>\n",
       "      <td>no</td>\n",
       "      <td>747</td>\n",
       "      <td>747</td>\n",
       "    </tr>\n",
       "    <tr>\n",
       "      <th>4</th>\n",
       "      <td>3600</td>\n",
       "      <td>small</td>\n",
       "      <td>2008</td>\n",
       "      <td>manual</td>\n",
       "      <td>69</td>\n",
       "      <td>fabia</td>\n",
       "      <td>90000</td>\n",
       "      <td>gasoline</td>\n",
       "      <td>skoda</td>\n",
       "      <td>no</td>\n",
       "      <td>761</td>\n",
       "      <td>767</td>\n",
       "    </tr>\n",
       "    <tr>\n",
       "      <th>5</th>\n",
       "      <td>650</td>\n",
       "      <td>sedan</td>\n",
       "      <td>1995</td>\n",
       "      <td>manual</td>\n",
       "      <td>102</td>\n",
       "      <td>3er</td>\n",
       "      <td>150000</td>\n",
       "      <td>petrol</td>\n",
       "      <td>bmw</td>\n",
       "      <td>yes</td>\n",
       "      <td>765</td>\n",
       "      <td>767</td>\n",
       "    </tr>\n",
       "    <tr>\n",
       "      <th>6</th>\n",
       "      <td>2200</td>\n",
       "      <td>convertible</td>\n",
       "      <td>2004</td>\n",
       "      <td>manual</td>\n",
       "      <td>109</td>\n",
       "      <td>2_reihe</td>\n",
       "      <td>150000</td>\n",
       "      <td>petrol</td>\n",
       "      <td>peugeot</td>\n",
       "      <td>no</td>\n",
       "      <td>762</td>\n",
       "      <td>766</td>\n",
       "    </tr>\n",
       "    <tr>\n",
       "      <th>8</th>\n",
       "      <td>14500</td>\n",
       "      <td>bus</td>\n",
       "      <td>2014</td>\n",
       "      <td>manual</td>\n",
       "      <td>125</td>\n",
       "      <td>c_max</td>\n",
       "      <td>30000</td>\n",
       "      <td>petrol</td>\n",
       "      <td>ford</td>\n",
       "      <td>unknown</td>\n",
       "      <td>765</td>\n",
       "      <td>765</td>\n",
       "    </tr>\n",
       "    <tr>\n",
       "      <th>9</th>\n",
       "      <td>999</td>\n",
       "      <td>small</td>\n",
       "      <td>1998</td>\n",
       "      <td>manual</td>\n",
       "      <td>101</td>\n",
       "      <td>golf</td>\n",
       "      <td>150000</td>\n",
       "      <td>sedan</td>\n",
       "      <td>volkswagen</td>\n",
       "      <td>unknown</td>\n",
       "      <td>747</td>\n",
       "      <td>761</td>\n",
       "    </tr>\n",
       "    <tr>\n",
       "      <th>10</th>\n",
       "      <td>2000</td>\n",
       "      <td>sedan</td>\n",
       "      <td>2004</td>\n",
       "      <td>manual</td>\n",
       "      <td>105</td>\n",
       "      <td>3_reihe</td>\n",
       "      <td>150000</td>\n",
       "      <td>petrol</td>\n",
       "      <td>mazda</td>\n",
       "      <td>no</td>\n",
       "      <td>756</td>\n",
       "      <td>767</td>\n",
       "    </tr>\n",
       "    <tr>\n",
       "      <th>11</th>\n",
       "      <td>2799</td>\n",
       "      <td>wagon</td>\n",
       "      <td>2005</td>\n",
       "      <td>manual</td>\n",
       "      <td>140</td>\n",
       "      <td>passat</td>\n",
       "      <td>150000</td>\n",
       "      <td>gasoline</td>\n",
       "      <td>volkswagen</td>\n",
       "      <td>yes</td>\n",
       "      <td>768</td>\n",
       "      <td>768</td>\n",
       "    </tr>\n",
       "  </tbody>\n",
       "</table>\n",
       "</div>"
      ],
      "text/plain": [
       "    Price  VehicleType  RegistrationYear Gearbox  Power    Model  Kilometer  \\\n",
       "0     480        sedan              1993  manual    101     golf     150000   \n",
       "2    9800          suv              2004    auto    163    grand     125000   \n",
       "3    1500        small              2001  manual     75     golf     150000   \n",
       "4    3600        small              2008  manual     69    fabia      90000   \n",
       "5     650        sedan              1995  manual    102      3er     150000   \n",
       "6    2200  convertible              2004  manual    109  2_reihe     150000   \n",
       "8   14500          bus              2014  manual    125    c_max      30000   \n",
       "9     999        small              1998  manual    101     golf     150000   \n",
       "10   2000        sedan              2004  manual    105  3_reihe     150000   \n",
       "11   2799        wagon              2005  manual    140   passat     150000   \n",
       "\n",
       "    FuelType       Brand Repaired  DateCreated  LastSeen  \n",
       "0     petrol  volkswagen  unknown          754       768  \n",
       "2   gasoline        jeep  unknown          744       766  \n",
       "3     petrol  volkswagen       no          747       747  \n",
       "4   gasoline       skoda       no          761       767  \n",
       "5     petrol         bmw      yes          765       767  \n",
       "6     petrol     peugeot       no          762       766  \n",
       "8     petrol        ford  unknown          765       765  \n",
       "9      sedan  volkswagen  unknown          747       761  \n",
       "10    petrol       mazda       no          756       767  \n",
       "11  gasoline  volkswagen      yes          768       768  "
      ]
     },
     "execution_count": 28,
     "metadata": {},
     "output_type": "execute_result"
    }
   ],
   "source": [
    "df[:10]"
   ]
  },
  {
   "cell_type": "code",
   "execution_count": 29,
   "id": "60fcc6fd",
   "metadata": {},
   "outputs": [
    {
     "name": "stdout",
     "output_type": "stream",
     "text": [
      "<class 'pandas.core.frame.DataFrame'>\n",
      "Int64Index: 325909 entries, 0 to 354368\n",
      "Data columns (total 12 columns):\n",
      " #   Column            Non-Null Count   Dtype \n",
      "---  ------            --------------   ----- \n",
      " 0   Price             325909 non-null  int64 \n",
      " 1   VehicleType       325909 non-null  object\n",
      " 2   RegistrationYear  325909 non-null  int64 \n",
      " 3   Gearbox           325909 non-null  object\n",
      " 4   Power             325909 non-null  int64 \n",
      " 5   Model             325909 non-null  object\n",
      " 6   Kilometer         325909 non-null  int64 \n",
      " 7   FuelType          325909 non-null  object\n",
      " 8   Brand             325909 non-null  object\n",
      " 9   Repaired          325909 non-null  object\n",
      " 10  DateCreated       325909 non-null  int64 \n",
      " 11  LastSeen          325909 non-null  int64 \n",
      "dtypes: int64(6), object(6)\n",
      "memory usage: 32.3+ MB\n"
     ]
    }
   ],
   "source": [
    "df.info()"
   ]
  },
  {
   "cell_type": "markdown",
   "id": "53fe770c",
   "metadata": {},
   "source": [
    "### 1.3. Кодирование категориальных признаков"
   ]
  },
  {
   "cell_type": "markdown",
   "id": "d69ed996",
   "metadata": {},
   "source": [
    "- В признаке **Model** много категорий, попробуем совместить его с признаком **Brand** и закодировать значением: **Model.size() / Brand.size()**"
   ]
  },
  {
   "cell_type": "code",
   "execution_count": 30,
   "id": "87748db9",
   "metadata": {},
   "outputs": [],
   "source": [
    "df['brand_model'] = df['Brand'].astype(str) + ' ' + df['Model'].astype(str)"
   ]
  },
  {
   "cell_type": "code",
   "execution_count": 31,
   "id": "09543c1e",
   "metadata": {},
   "outputs": [],
   "source": [
    "df['model_code'] = df['brand_model'].map(df.groupby('brand_model').size()) / \\\n",
    "                     df['Brand'].map(df.groupby('Brand').size())\n",
    "df_coded = df.drop(['brand_model', 'Brand', 'Model'], axis=1)"
   ]
  },
  {
   "cell_type": "markdown",
   "id": "8cf5f13e",
   "metadata": {},
   "source": [
    "- Признаки **VehicleType**, **Gearbox**, **FuelType**, **Repaired** закодируем **\"OHE\"** - (one-hot encoding)."
   ]
  },
  {
   "cell_type": "code",
   "execution_count": 32,
   "id": "c36ce20c",
   "metadata": {},
   "outputs": [],
   "source": [
    "# функция для кодирования \"ohe\"\n",
    "def get_dummies_func(df, column, prefix):\n",
    "    data = pd.get_dummies(df[column], prefix=prefix, drop_first=True)\n",
    "    df = df.drop(column, axis=1)\n",
    "    return df.join(data)"
   ]
  },
  {
   "cell_type": "code",
   "execution_count": 33,
   "id": "844ad80c",
   "metadata": {},
   "outputs": [],
   "source": [
    "df_coded = get_dummies_func(df_coded, 'VehicleType', 'VType')\n",
    "\n",
    "df_coded = get_dummies_func(df_coded, 'Gearbox', 'Gear')\n",
    "\n",
    "df_coded = get_dummies_func(df_coded, 'FuelType', 'Fuel')\n",
    "\n",
    "df_coded = get_dummies_func(df_coded, 'Repaired', 'Repair')"
   ]
  },
  {
   "cell_type": "code",
   "execution_count": 34,
   "id": "48366682",
   "metadata": {},
   "outputs": [
    {
     "data": {
      "text/html": [
       "<div>\n",
       "<style scoped>\n",
       "    .dataframe tbody tr th:only-of-type {\n",
       "        vertical-align: middle;\n",
       "    }\n",
       "\n",
       "    .dataframe tbody tr th {\n",
       "        vertical-align: top;\n",
       "    }\n",
       "\n",
       "    .dataframe thead th {\n",
       "        text-align: right;\n",
       "    }\n",
       "</style>\n",
       "<table border=\"1\" class=\"dataframe\">\n",
       "  <thead>\n",
       "    <tr style=\"text-align: right;\">\n",
       "      <th></th>\n",
       "      <th>Price</th>\n",
       "      <th>RegistrationYear</th>\n",
       "      <th>Power</th>\n",
       "      <th>Kilometer</th>\n",
       "      <th>DateCreated</th>\n",
       "      <th>LastSeen</th>\n",
       "      <th>model_code</th>\n",
       "      <th>VType_convertible</th>\n",
       "      <th>VType_coupe</th>\n",
       "      <th>VType_other</th>\n",
       "      <th>...</th>\n",
       "      <th>Fuel_hybrid</th>\n",
       "      <th>Fuel_lpg</th>\n",
       "      <th>Fuel_other</th>\n",
       "      <th>Fuel_petrol</th>\n",
       "      <th>Fuel_sedan</th>\n",
       "      <th>Fuel_small</th>\n",
       "      <th>Fuel_suv</th>\n",
       "      <th>Fuel_wagon</th>\n",
       "      <th>Repair_unknown</th>\n",
       "      <th>Repair_yes</th>\n",
       "    </tr>\n",
       "  </thead>\n",
       "  <tbody>\n",
       "    <tr>\n",
       "      <th>0</th>\n",
       "      <td>480</td>\n",
       "      <td>1993</td>\n",
       "      <td>101</td>\n",
       "      <td>150000</td>\n",
       "      <td>754</td>\n",
       "      <td>768</td>\n",
       "      <td>0.396043</td>\n",
       "      <td>0</td>\n",
       "      <td>0</td>\n",
       "      <td>0</td>\n",
       "      <td>...</td>\n",
       "      <td>0</td>\n",
       "      <td>0</td>\n",
       "      <td>0</td>\n",
       "      <td>1</td>\n",
       "      <td>0</td>\n",
       "      <td>0</td>\n",
       "      <td>0</td>\n",
       "      <td>0</td>\n",
       "      <td>1</td>\n",
       "      <td>0</td>\n",
       "    </tr>\n",
       "    <tr>\n",
       "      <th>2</th>\n",
       "      <td>9800</td>\n",
       "      <td>2004</td>\n",
       "      <td>163</td>\n",
       "      <td>125000</td>\n",
       "      <td>744</td>\n",
       "      <td>766</td>\n",
       "      <td>0.373817</td>\n",
       "      <td>0</td>\n",
       "      <td>0</td>\n",
       "      <td>0</td>\n",
       "      <td>...</td>\n",
       "      <td>0</td>\n",
       "      <td>0</td>\n",
       "      <td>0</td>\n",
       "      <td>0</td>\n",
       "      <td>0</td>\n",
       "      <td>0</td>\n",
       "      <td>0</td>\n",
       "      <td>0</td>\n",
       "      <td>1</td>\n",
       "      <td>0</td>\n",
       "    </tr>\n",
       "    <tr>\n",
       "      <th>3</th>\n",
       "      <td>1500</td>\n",
       "      <td>2001</td>\n",
       "      <td>75</td>\n",
       "      <td>150000</td>\n",
       "      <td>747</td>\n",
       "      <td>747</td>\n",
       "      <td>0.396043</td>\n",
       "      <td>0</td>\n",
       "      <td>0</td>\n",
       "      <td>0</td>\n",
       "      <td>...</td>\n",
       "      <td>0</td>\n",
       "      <td>0</td>\n",
       "      <td>0</td>\n",
       "      <td>1</td>\n",
       "      <td>0</td>\n",
       "      <td>0</td>\n",
       "      <td>0</td>\n",
       "      <td>0</td>\n",
       "      <td>0</td>\n",
       "      <td>0</td>\n",
       "    </tr>\n",
       "    <tr>\n",
       "      <th>4</th>\n",
       "      <td>3600</td>\n",
       "      <td>2008</td>\n",
       "      <td>69</td>\n",
       "      <td>90000</td>\n",
       "      <td>761</td>\n",
       "      <td>767</td>\n",
       "      <td>0.388051</td>\n",
       "      <td>0</td>\n",
       "      <td>0</td>\n",
       "      <td>0</td>\n",
       "      <td>...</td>\n",
       "      <td>0</td>\n",
       "      <td>0</td>\n",
       "      <td>0</td>\n",
       "      <td>0</td>\n",
       "      <td>0</td>\n",
       "      <td>0</td>\n",
       "      <td>0</td>\n",
       "      <td>0</td>\n",
       "      <td>0</td>\n",
       "      <td>0</td>\n",
       "    </tr>\n",
       "    <tr>\n",
       "      <th>5</th>\n",
       "      <td>650</td>\n",
       "      <td>1995</td>\n",
       "      <td>102</td>\n",
       "      <td>150000</td>\n",
       "      <td>765</td>\n",
       "      <td>767</td>\n",
       "      <td>0.562788</td>\n",
       "      <td>0</td>\n",
       "      <td>0</td>\n",
       "      <td>0</td>\n",
       "      <td>...</td>\n",
       "      <td>0</td>\n",
       "      <td>0</td>\n",
       "      <td>0</td>\n",
       "      <td>1</td>\n",
       "      <td>0</td>\n",
       "      <td>0</td>\n",
       "      <td>0</td>\n",
       "      <td>0</td>\n",
       "      <td>0</td>\n",
       "      <td>1</td>\n",
       "    </tr>\n",
       "  </tbody>\n",
       "</table>\n",
       "<p>5 rows × 37 columns</p>\n",
       "</div>"
      ],
      "text/plain": [
       "   Price  RegistrationYear  Power  Kilometer  DateCreated  LastSeen  \\\n",
       "0    480              1993    101     150000          754       768   \n",
       "2   9800              2004    163     125000          744       766   \n",
       "3   1500              2001     75     150000          747       747   \n",
       "4   3600              2008     69      90000          761       767   \n",
       "5    650              1995    102     150000          765       767   \n",
       "\n",
       "   model_code  VType_convertible  VType_coupe  VType_other  ...  Fuel_hybrid  \\\n",
       "0    0.396043                  0            0            0  ...            0   \n",
       "2    0.373817                  0            0            0  ...            0   \n",
       "3    0.396043                  0            0            0  ...            0   \n",
       "4    0.388051                  0            0            0  ...            0   \n",
       "5    0.562788                  0            0            0  ...            0   \n",
       "\n",
       "   Fuel_lpg  Fuel_other  Fuel_petrol  Fuel_sedan  Fuel_small  Fuel_suv  \\\n",
       "0         0           0            1           0           0         0   \n",
       "2         0           0            0           0           0         0   \n",
       "3         0           0            1           0           0         0   \n",
       "4         0           0            0           0           0         0   \n",
       "5         0           0            1           0           0         0   \n",
       "\n",
       "   Fuel_wagon  Repair_unknown  Repair_yes  \n",
       "0           0               1           0  \n",
       "2           0               1           0  \n",
       "3           0               0           0  \n",
       "4           0               0           0  \n",
       "5           0               0           1  \n",
       "\n",
       "[5 rows x 37 columns]"
      ]
     },
     "execution_count": 34,
     "metadata": {},
     "output_type": "execute_result"
    }
   ],
   "source": [
    "df_coded[:5]"
   ]
  },
  {
   "cell_type": "markdown",
   "id": "37660bb1",
   "metadata": {},
   "source": [
    "### 1.4. Подготовка выборок"
   ]
  },
  {
   "cell_type": "code",
   "execution_count": 35,
   "id": "1c91444d",
   "metadata": {},
   "outputs": [],
   "source": [
    "X = df_coded.drop('Price', axis=1)\n",
    "y = df_coded['Price']"
   ]
  },
  {
   "cell_type": "code",
   "execution_count": 36,
   "id": "0ee494c1",
   "metadata": {},
   "outputs": [],
   "source": [
    "X_train, X_test, y_train, y_test = train_test_split(X, y, test_size=0.2, random_state=12345)"
   ]
  },
  {
   "cell_type": "code",
   "execution_count": 37,
   "id": "7f782337",
   "metadata": {},
   "outputs": [
    {
     "data": {
      "text/plain": [
       "'Размер обучающей выборки: (260727, 36)'"
      ]
     },
     "execution_count": 37,
     "metadata": {},
     "output_type": "execute_result"
    }
   ],
   "source": [
    "f\"Размер обучающей выборки: {X_train.shape}\""
   ]
  },
  {
   "cell_type": "code",
   "execution_count": 38,
   "id": "51437489",
   "metadata": {},
   "outputs": [
    {
     "data": {
      "text/plain": [
       "'Размер тестовой выборки: (65182, 36)'"
      ]
     },
     "execution_count": 38,
     "metadata": {},
     "output_type": "execute_result"
    }
   ],
   "source": [
    "f\"Размер тестовой выборки: {X_test.shape}\""
   ]
  },
  {
   "cell_type": "markdown",
   "id": "a5fe8eab",
   "metadata": {},
   "source": [
    "- Проведём масштабирование признаков к стандартному нормальному распределению с помощью метода **StandardScaler** библиотеки **sklearn**"
   ]
  },
  {
   "cell_type": "code",
   "execution_count": 39,
   "id": "2f544a18",
   "metadata": {},
   "outputs": [],
   "source": [
    "ss = StandardScaler()\n",
    "ss.fit(X_train)\n",
    "columns = X_train.columns\n",
    "X_train = pd.DataFrame(ss.transform(X_train), columns = columns)\n",
    "X_test = pd.DataFrame(ss.transform(X_test), columns = columns)"
   ]
  },
  {
   "cell_type": "code",
   "execution_count": 40,
   "id": "3f5ff0cd",
   "metadata": {},
   "outputs": [
    {
     "data": {
      "text/html": [
       "<div>\n",
       "<style scoped>\n",
       "    .dataframe tbody tr th:only-of-type {\n",
       "        vertical-align: middle;\n",
       "    }\n",
       "\n",
       "    .dataframe tbody tr th {\n",
       "        vertical-align: top;\n",
       "    }\n",
       "\n",
       "    .dataframe thead th {\n",
       "        text-align: right;\n",
       "    }\n",
       "</style>\n",
       "<table border=\"1\" class=\"dataframe\">\n",
       "  <thead>\n",
       "    <tr style=\"text-align: right;\">\n",
       "      <th></th>\n",
       "      <th>RegistrationYear</th>\n",
       "      <th>Power</th>\n",
       "      <th>Kilometer</th>\n",
       "      <th>DateCreated</th>\n",
       "      <th>LastSeen</th>\n",
       "      <th>model_code</th>\n",
       "      <th>VType_convertible</th>\n",
       "      <th>VType_coupe</th>\n",
       "      <th>VType_other</th>\n",
       "      <th>VType_sedan</th>\n",
       "      <th>...</th>\n",
       "      <th>Fuel_hybrid</th>\n",
       "      <th>Fuel_lpg</th>\n",
       "      <th>Fuel_other</th>\n",
       "      <th>Fuel_petrol</th>\n",
       "      <th>Fuel_sedan</th>\n",
       "      <th>Fuel_small</th>\n",
       "      <th>Fuel_suv</th>\n",
       "      <th>Fuel_wagon</th>\n",
       "      <th>Repair_unknown</th>\n",
       "      <th>Repair_yes</th>\n",
       "    </tr>\n",
       "  </thead>\n",
       "  <tbody>\n",
       "    <tr>\n",
       "      <th>0</th>\n",
       "      <td>0.553770</td>\n",
       "      <td>-0.699066</td>\n",
       "      <td>-1.312223</td>\n",
       "      <td>-0.086003</td>\n",
       "      <td>0.811626</td>\n",
       "      <td>-0.005285</td>\n",
       "      <td>-0.250995</td>\n",
       "      <td>-0.220396</td>\n",
       "      <td>-0.089568</td>\n",
       "      <td>-0.661661</td>\n",
       "      <td>...</td>\n",
       "      <td>-0.024389</td>\n",
       "      <td>-0.12236</td>\n",
       "      <td>-0.018991</td>\n",
       "      <td>0.783033</td>\n",
       "      <td>-0.183854</td>\n",
       "      <td>-0.143867</td>\n",
       "      <td>-0.036611</td>\n",
       "      <td>-0.102752</td>\n",
       "      <td>-0.466213</td>\n",
       "      <td>-0.329766</td>\n",
       "    </tr>\n",
       "    <tr>\n",
       "      <th>1</th>\n",
       "      <td>-0.402229</td>\n",
       "      <td>3.518713</td>\n",
       "      <td>0.579277</td>\n",
       "      <td>0.445649</td>\n",
       "      <td>0.375531</td>\n",
       "      <td>0.164824</td>\n",
       "      <td>-0.250995</td>\n",
       "      <td>-0.220396</td>\n",
       "      <td>-0.089568</td>\n",
       "      <td>-0.661661</td>\n",
       "      <td>...</td>\n",
       "      <td>-0.024389</td>\n",
       "      <td>-0.12236</td>\n",
       "      <td>-0.018991</td>\n",
       "      <td>0.783033</td>\n",
       "      <td>-0.183854</td>\n",
       "      <td>-0.143867</td>\n",
       "      <td>-0.036611</td>\n",
       "      <td>-0.102752</td>\n",
       "      <td>-0.466213</td>\n",
       "      <td>-0.329766</td>\n",
       "    </tr>\n",
       "    <tr>\n",
       "      <th>2</th>\n",
       "      <td>-0.593429</td>\n",
       "      <td>-0.830871</td>\n",
       "      <td>0.579277</td>\n",
       "      <td>1.721615</td>\n",
       "      <td>0.811626</td>\n",
       "      <td>0.882833</td>\n",
       "      <td>-0.250995</td>\n",
       "      <td>-0.220396</td>\n",
       "      <td>-0.089568</td>\n",
       "      <td>-0.661661</td>\n",
       "      <td>...</td>\n",
       "      <td>-0.024389</td>\n",
       "      <td>-0.12236</td>\n",
       "      <td>-0.018991</td>\n",
       "      <td>-1.277086</td>\n",
       "      <td>5.439100</td>\n",
       "      <td>-0.143867</td>\n",
       "      <td>-0.036611</td>\n",
       "      <td>-0.102752</td>\n",
       "      <td>2.144940</td>\n",
       "      <td>-0.329766</td>\n",
       "    </tr>\n",
       "    <tr>\n",
       "      <th>3</th>\n",
       "      <td>-0.211029</td>\n",
       "      <td>0.524843</td>\n",
       "      <td>0.579277</td>\n",
       "      <td>1.189963</td>\n",
       "      <td>0.702602</td>\n",
       "      <td>-0.741942</td>\n",
       "      <td>-0.250995</td>\n",
       "      <td>-0.220396</td>\n",
       "      <td>-0.089568</td>\n",
       "      <td>-0.661661</td>\n",
       "      <td>...</td>\n",
       "      <td>-0.024389</td>\n",
       "      <td>-0.12236</td>\n",
       "      <td>-0.018991</td>\n",
       "      <td>0.783033</td>\n",
       "      <td>-0.183854</td>\n",
       "      <td>-0.143867</td>\n",
       "      <td>-0.036611</td>\n",
       "      <td>-0.102752</td>\n",
       "      <td>-0.466213</td>\n",
       "      <td>-0.329766</td>\n",
       "    </tr>\n",
       "    <tr>\n",
       "      <th>4</th>\n",
       "      <td>-0.019829</td>\n",
       "      <td>0.581332</td>\n",
       "      <td>0.579277</td>\n",
       "      <td>1.615285</td>\n",
       "      <td>0.920650</td>\n",
       "      <td>1.833762</td>\n",
       "      <td>-0.250995</td>\n",
       "      <td>-0.220396</td>\n",
       "      <td>-0.089568</td>\n",
       "      <td>1.511347</td>\n",
       "      <td>...</td>\n",
       "      <td>-0.024389</td>\n",
       "      <td>-0.12236</td>\n",
       "      <td>-0.018991</td>\n",
       "      <td>-1.277086</td>\n",
       "      <td>-0.183854</td>\n",
       "      <td>-0.143867</td>\n",
       "      <td>-0.036611</td>\n",
       "      <td>-0.102752</td>\n",
       "      <td>-0.466213</td>\n",
       "      <td>-0.329766</td>\n",
       "    </tr>\n",
       "  </tbody>\n",
       "</table>\n",
       "<p>5 rows × 36 columns</p>\n",
       "</div>"
      ],
      "text/plain": [
       "   RegistrationYear     Power  Kilometer  DateCreated  LastSeen  model_code  \\\n",
       "0          0.553770 -0.699066  -1.312223    -0.086003  0.811626   -0.005285   \n",
       "1         -0.402229  3.518713   0.579277     0.445649  0.375531    0.164824   \n",
       "2         -0.593429 -0.830871   0.579277     1.721615  0.811626    0.882833   \n",
       "3         -0.211029  0.524843   0.579277     1.189963  0.702602   -0.741942   \n",
       "4         -0.019829  0.581332   0.579277     1.615285  0.920650    1.833762   \n",
       "\n",
       "   VType_convertible  VType_coupe  VType_other  VType_sedan  ...  Fuel_hybrid  \\\n",
       "0          -0.250995    -0.220396    -0.089568    -0.661661  ...    -0.024389   \n",
       "1          -0.250995    -0.220396    -0.089568    -0.661661  ...    -0.024389   \n",
       "2          -0.250995    -0.220396    -0.089568    -0.661661  ...    -0.024389   \n",
       "3          -0.250995    -0.220396    -0.089568    -0.661661  ...    -0.024389   \n",
       "4          -0.250995    -0.220396    -0.089568     1.511347  ...    -0.024389   \n",
       "\n",
       "   Fuel_lpg  Fuel_other  Fuel_petrol  Fuel_sedan  Fuel_small  Fuel_suv  \\\n",
       "0  -0.12236   -0.018991     0.783033   -0.183854   -0.143867 -0.036611   \n",
       "1  -0.12236   -0.018991     0.783033   -0.183854   -0.143867 -0.036611   \n",
       "2  -0.12236   -0.018991    -1.277086    5.439100   -0.143867 -0.036611   \n",
       "3  -0.12236   -0.018991     0.783033   -0.183854   -0.143867 -0.036611   \n",
       "4  -0.12236   -0.018991    -1.277086   -0.183854   -0.143867 -0.036611   \n",
       "\n",
       "   Fuel_wagon  Repair_unknown  Repair_yes  \n",
       "0   -0.102752       -0.466213   -0.329766  \n",
       "1   -0.102752       -0.466213   -0.329766  \n",
       "2   -0.102752        2.144940   -0.329766  \n",
       "3   -0.102752       -0.466213   -0.329766  \n",
       "4   -0.102752       -0.466213   -0.329766  \n",
       "\n",
       "[5 rows x 36 columns]"
      ]
     },
     "execution_count": 40,
     "metadata": {},
     "output_type": "execute_result"
    }
   ],
   "source": [
    "X_train[:5]"
   ]
  },
  {
   "cell_type": "markdown",
   "id": "ac7335a1",
   "metadata": {},
   "source": [
    "**Вывод:**\n",
    "\n",
    "1. Данные были успешно загружены и проанализированы. Типы данных соответствуют описанию, дубликаты удалены.\n",
    "\n",
    "\n",
    "2. Отобраны признаки, необходимые для построения моделей.\n",
    "\n",
    "\n",
    "3. Пропущенные значения, выбросы, а также неправдоподобные значения в признаках по возможности заполнены на основе имеющейся инфрмации. Остальные объекты удалены (около 8% данных).\n",
    "\n",
    "\n",
    "4. Категориальные признаки с небольшой ординальностью преобразованы с помощью one-hot encoding. Признак Model закодирован по формуле Model.size() / Brand.size()\n",
    "\n",
    "\n",
    "5. Данные разделены на тестовую и обучающую выборки в соотношении 1:4, признаки масштабированы к стандартному нормальному распределению."
   ]
  },
  {
   "cell_type": "markdown",
   "id": "9739e0b2",
   "metadata": {},
   "source": [
    "## 2. Обучение моделей"
   ]
  },
  {
   "cell_type": "markdown",
   "id": "db68b373",
   "metadata": {},
   "source": [
    "- Для начала создадим константную base-line модель. Она всегда будет предсказывать среднее значение **Price**. (среднее значение на практике дало меньшее значение RMSE, чем медианное). Рассчитаем RMSE для base-line модели."
   ]
  },
  {
   "cell_type": "code",
   "execution_count": 41,
   "id": "49aa41ac",
   "metadata": {},
   "outputs": [
    {
     "data": {
      "text/plain": [
       "'RMSE для константной модели: 4530.45'"
      ]
     },
     "execution_count": 41,
     "metadata": {},
     "output_type": "execute_result"
    }
   ],
   "source": [
    "preds_base = pd.Series(data=y.mean(), index=y.index, dtype='int64')\n",
    "rmse_base = mean_squared_error(y, preds_base) ** .5\n",
    "f\"RMSE для константной модели: {round(rmse_base, 2)}\""
   ]
  },
  {
   "cell_type": "markdown",
   "id": "30ed62ef",
   "metadata": {},
   "source": [
    "### 2.1. Линейная регрессия"
   ]
  },
  {
   "cell_type": "markdown",
   "id": "7a627007",
   "metadata": {},
   "source": [
    "- Сначала обучим линейную модель. затем посчитаем скорость обучения, скорость предсказания и RMSE модели. Обучение будем проводить с помощью кросс-валидации на 5-ти фолдов."
   ]
  },
  {
   "cell_type": "code",
   "execution_count": 42,
   "id": "c5e7b406",
   "metadata": {},
   "outputs": [
    {
     "name": "stdout",
     "output_type": "stream",
     "text": [
      "CPU times: user 2 s, sys: 483 ms, total: 2.49 s\n",
      "Wall time: 437 ms\n"
     ]
    }
   ],
   "source": [
    "%%time\n",
    "lm = LinearRegression()\n",
    "score_lm = cross_val_score(lm, X_train, y_train, cv=5, scoring='neg_mean_squared_error')"
   ]
  },
  {
   "cell_type": "code",
   "execution_count": 43,
   "id": "7bc603a0",
   "metadata": {},
   "outputs": [
    {
     "data": {
      "text/plain": [
       "'RMSE для линейной модели на валидационной выборке: 2983.38'"
      ]
     },
     "execution_count": 43,
     "metadata": {},
     "output_type": "execute_result"
    }
   ],
   "source": [
    "f\"RMSE для линейной модели на валидационной выборке: {round((-score_lm.mean()) ** 0.5, 2)}\""
   ]
  },
  {
   "cell_type": "code",
   "execution_count": 44,
   "id": "dbdf7799",
   "metadata": {},
   "outputs": [
    {
     "name": "stdout",
     "output_type": "stream",
     "text": [
      "CPU times: user 557 ms, sys: 200 ms, total: 757 ms\n",
      "Wall time: 126 ms\n"
     ]
    },
    {
     "data": {
      "text/plain": [
       "LinearRegression()"
      ]
     },
     "execution_count": 44,
     "metadata": {},
     "output_type": "execute_result"
    }
   ],
   "source": [
    "%%time\n",
    "lm.fit(X_train, y_train)"
   ]
  },
  {
   "cell_type": "code",
   "execution_count": 45,
   "id": "c783879e",
   "metadata": {},
   "outputs": [
    {
     "name": "stdout",
     "output_type": "stream",
     "text": [
      "CPU times: user 23 ms, sys: 8.53 ms, total: 31.5 ms\n",
      "Wall time: 6.99 ms\n"
     ]
    }
   ],
   "source": [
    "%%time\n",
    "preds_lm = lm.predict(X_train)"
   ]
  },
  {
   "cell_type": "markdown",
   "id": "d549820d",
   "metadata": {},
   "source": [
    "### 2.2 Lasso/Ridge"
   ]
  },
  {
   "cell_type": "markdown",
   "id": "96abf927",
   "metadata": {},
   "source": [
    "**1)  Lasso (L1 регуляризация) :**"
   ]
  },
  {
   "cell_type": "code",
   "execution_count": 46,
   "id": "7af2d8e7",
   "metadata": {},
   "outputs": [
    {
     "name": "stdout",
     "output_type": "stream",
     "text": [
      "RMSE для Lasso alpha=1.00 модели на валидационной выборке: 2983.38\n",
      "RMSE для Lasso alpha=5.00 модели на валидационной выборке: 2983.63\n",
      "RMSE для Lasso alpha=9.00 модели на валидационной выборке: 2983.90\n",
      "RMSE для Lasso alpha=13.00 модели на валидационной выборке: 2984.35\n",
      "RMSE для Lasso alpha=17.00 модели на валидационной выборке: 2985.00\n",
      "RMSE для Lasso alpha=21.00 модели на валидационной выборке: 2985.83\n",
      "RMSE для Lasso alpha=25.00 модели на валидационной выборке: 2986.79\n",
      "RMSE для Lasso alpha=29.00 модели на валидационной выборке: 2987.92\n",
      "RMSE для Lasso alpha=33.00 модели на валидационной выборке: 2989.22\n",
      "RMSE для Lasso alpha=37.00 модели на валидационной выборке: 2990.63\n",
      "CPU times: user 49.1 s, sys: 6.74 s, total: 55.8 s\n",
      "Wall time: 8.58 s\n"
     ]
    }
   ],
   "source": [
    "%%time\n",
    "alphas = np.arange(1, 40, 4)\n",
    "for alpha in alphas :\n",
    "    lasso = Lasso(alpha = alpha)\n",
    "    mse = cross_val_score(lasso, X_train, y_train, cv=5, scoring='neg_mean_squared_error')\n",
    "    print(\"RMSE для Lasso alpha={:.2f} модели на валидационной выборке: {:.2f}\".format(alpha, (-mse.mean()) ** 0.5))"
   ]
  },
  {
   "cell_type": "code",
   "execution_count": 47,
   "id": "4a57268d",
   "metadata": {},
   "outputs": [
    {
     "name": "stdout",
     "output_type": "stream",
     "text": [
      "CPU times: user 43.5 s, sys: 4.98 s, total: 48.5 s\n",
      "Wall time: 7.65 s\n"
     ]
    }
   ],
   "source": [
    "%%time\n",
    "lasso = Lasso(alpha=0.1)\n",
    "score_lasso = cross_val_score(lasso, X_train, y_train, cv=5, scoring='neg_mean_squared_error')"
   ]
  },
  {
   "cell_type": "code",
   "execution_count": 48,
   "id": "8578efef",
   "metadata": {},
   "outputs": [
    {
     "data": {
      "text/plain": [
       "'RMSE для Lasso (L1 регуляризация) модели на валидационной выборке: 2983.38'"
      ]
     },
     "execution_count": 48,
     "metadata": {},
     "output_type": "execute_result"
    }
   ],
   "source": [
    "f\"RMSE для Lasso (L1 регуляризация) модели на валидационной выборке: {round((-score_lasso.mean()) ** 0.5, 2)}\""
   ]
  },
  {
   "cell_type": "code",
   "execution_count": 49,
   "id": "8ff3534e",
   "metadata": {},
   "outputs": [
    {
     "name": "stdout",
     "output_type": "stream",
     "text": [
      "CPU times: user 9.97 s, sys: 879 ms, total: 10.8 s\n",
      "Wall time: 1.64 s\n"
     ]
    },
    {
     "data": {
      "text/plain": [
       "Lasso(alpha=0.1)"
      ]
     },
     "execution_count": 49,
     "metadata": {},
     "output_type": "execute_result"
    }
   ],
   "source": [
    "%%time\n",
    "lasso.fit(X_train, y_train)"
   ]
  },
  {
   "cell_type": "code",
   "execution_count": 50,
   "id": "94b30d1a",
   "metadata": {},
   "outputs": [
    {
     "name": "stdout",
     "output_type": "stream",
     "text": [
      "CPU times: user 24.1 ms, sys: 6.11 ms, total: 30.2 ms\n",
      "Wall time: 5.52 ms\n"
     ]
    }
   ],
   "source": [
    "%%time\n",
    "preds_lasso = lasso.predict(X_train)"
   ]
  },
  {
   "cell_type": "markdown",
   "id": "f09fba18",
   "metadata": {},
   "source": [
    "- Lasso не дало выигрыш в метрике, скорость обучения и предсказания немного выше, чем у Линейной модели без регуляризации."
   ]
  },
  {
   "cell_type": "markdown",
   "id": "25404294",
   "metadata": {},
   "source": [
    "**2) Ridge (L2 регуляризация) :**"
   ]
  },
  {
   "cell_type": "code",
   "execution_count": 51,
   "id": "d1bea3b9",
   "metadata": {},
   "outputs": [
    {
     "name": "stdout",
     "output_type": "stream",
     "text": [
      "RMSE для Lasso alpha=1.00 модели на валидационной выборке: 2983.38\n",
      "RMSE для Lasso alpha=5.00 модели на валидационной выборке: 2983.63\n",
      "RMSE для Lasso alpha=9.00 модели на валидационной выборке: 2983.90\n",
      "RMSE для Lasso alpha=13.00 модели на валидационной выборке: 2984.35\n",
      "RMSE для Lasso alpha=17.00 модели на валидационной выборке: 2985.00\n",
      "RMSE для Lasso alpha=21.00 модели на валидационной выборке: 2985.83\n",
      "RMSE для Lasso alpha=25.00 модели на валидационной выборке: 2986.79\n",
      "RMSE для Lasso alpha=29.00 модели на валидационной выборке: 2987.92\n",
      "RMSE для Lasso alpha=33.00 модели на валидационной выборке: 2989.22\n",
      "RMSE для Lasso alpha=37.00 модели на валидационной выборке: 2990.63\n",
      "CPU times: user 46.6 s, sys: 4.07 s, total: 50.7 s\n",
      "Wall time: 7.03 s\n"
     ]
    }
   ],
   "source": [
    "%%time\n",
    "alphas = np.arange(1, 40, 4)\n",
    "for alpha in alphas :\n",
    "    lasso = Lasso(alpha = alpha)\n",
    "    mse = cross_val_score(lasso, X_train, y_train, cv=5, scoring='neg_mean_squared_error')\n",
    "    print(\"RMSE для Lasso alpha={:.2f} модели на валидационной выборке: {:.2f}\".format(alpha, (-mse.mean()) ** 0.5))"
   ]
  },
  {
   "cell_type": "code",
   "execution_count": 52,
   "id": "407ce9eb",
   "metadata": {
    "scrolled": true
   },
   "outputs": [
    {
     "name": "stdout",
     "output_type": "stream",
     "text": [
      "CPU times: user 1 s, sys: 323 ms, total: 1.32 s\n",
      "Wall time: 228 ms\n"
     ]
    }
   ],
   "source": [
    "%%time\n",
    "ridge = Ridge(alpha=0.5)\n",
    "score_ridge = cross_val_score(ridge, X_train, y_train, cv=5, scoring='neg_mean_squared_error')"
   ]
  },
  {
   "cell_type": "code",
   "execution_count": 53,
   "id": "b6f9a351",
   "metadata": {},
   "outputs": [
    {
     "data": {
      "text/plain": [
       "'RMSE для Ridge (L2 регуляризация) модели на валидационной выборке: 2983.38'"
      ]
     },
     "execution_count": 53,
     "metadata": {},
     "output_type": "execute_result"
    }
   ],
   "source": [
    "f\"RMSE для Ridge (L2 регуляризация) модели на валидационной выборке: {round((-score_ridge.mean()) ** 0.5, 2)}\""
   ]
  },
  {
   "cell_type": "code",
   "execution_count": 54,
   "id": "419cf0a7",
   "metadata": {},
   "outputs": [
    {
     "name": "stdout",
     "output_type": "stream",
     "text": [
      "CPU times: user 144 ms, sys: 33.2 ms, total: 177 ms\n",
      "Wall time: 30.3 ms\n"
     ]
    },
    {
     "data": {
      "text/plain": [
       "Ridge(alpha=0.5)"
      ]
     },
     "execution_count": 54,
     "metadata": {},
     "output_type": "execute_result"
    }
   ],
   "source": [
    "%%time\n",
    "ridge.fit(X_train, y_train)"
   ]
  },
  {
   "cell_type": "code",
   "execution_count": 55,
   "id": "a9f79e40",
   "metadata": {},
   "outputs": [
    {
     "name": "stdout",
     "output_type": "stream",
     "text": [
      "CPU times: user 21 ms, sys: 8.55 ms, total: 29.6 ms\n",
      "Wall time: 5.78 ms\n"
     ]
    }
   ],
   "source": [
    "%%time\n",
    "preds_ridge = ridge.predict(X_train)"
   ]
  },
  {
   "cell_type": "markdown",
   "id": "653e8312",
   "metadata": {},
   "source": [
    "- Ridge не дал выигрыш в метрике, но скорость обучения выше, чем у Линейной модели без регуляризации:\n",
    "     - Ridge fit time: 60 ms\n",
    "     - LinearRegression fit time: 127 ms\n"
   ]
  },
  {
   "cell_type": "markdown",
   "id": "934e6753",
   "metadata": {},
   "source": [
    "### 2.3 LightGBM"
   ]
  },
  {
   "cell_type": "markdown",
   "id": "37d8f471",
   "metadata": {},
   "source": [
    "- Попробуем обучить модель с градиентным бустингом: LightGBM.\n",
    "- Подбор параметров проведём с помощью GridSearch библиотеки sklearn."
   ]
  },
  {
   "cell_type": "code",
   "execution_count": 56,
   "id": "632b1187",
   "metadata": {},
   "outputs": [],
   "source": [
    "# преобразование данных в формат Dataset\n",
    "train_data = lgb.Dataset(X_train, label=y_train)\n",
    "test_data = lgb.Dataset(X_test, label=y_test)"
   ]
  },
  {
   "cell_type": "code",
   "execution_count": 57,
   "id": "44ba5014",
   "metadata": {},
   "outputs": [],
   "source": [
    "model = lgb.LGBMRegressor()"
   ]
  },
  {
   "cell_type": "code",
   "execution_count": 58,
   "id": "644a4f80",
   "metadata": {
    "scrolled": true
   },
   "outputs": [],
   "source": [
    "scores = cross_val_score(model, X_train, y_train, cv=3, scoring='neg_mean_squared_error')"
   ]
  },
  {
   "cell_type": "code",
   "execution_count": 59,
   "id": "454e3e6c",
   "metadata": {},
   "outputs": [],
   "source": [
    "# определение гиперпараметров\n",
    "params = {'objective': 'regression',\n",
    "          'metric': 'rmse',\n",
    "          'num_leaves': 31,\n",
    "          'learning_rate': 0.05,\n",
    "          'feature_fraction': 0.9}"
   ]
  },
  {
   "cell_type": "code",
   "execution_count": 60,
   "id": "b930780a",
   "metadata": {
    "scrolled": true
   },
   "outputs": [
    {
     "name": "stderr",
     "output_type": "stream",
     "text": [
      "/Users/artemvishanov/opt/anaconda3/lib/python3.9/site-packages/lightgbm/engine.py:181: UserWarning: 'early_stopping_rounds' argument is deprecated and will be removed in a future release of LightGBM. Pass 'early_stopping()' callback via 'callbacks' argument instead.\n",
      "  _log_warning(\"'early_stopping_rounds' argument is deprecated and will be removed in a future release of LightGBM. \"\n"
     ]
    },
    {
     "name": "stdout",
     "output_type": "stream",
     "text": [
      "[LightGBM] [Warning] Auto-choosing row-wise multi-threading, the overhead of testing was 0.017351 seconds.\n",
      "You can set `force_row_wise=true` to remove the overhead.\n",
      "And if memory is not enough, you can set `force_col_wise=true`.\n",
      "[LightGBM] [Info] Total Bins 731\n",
      "[LightGBM] [Info] Number of data points in the train set: 260727, number of used features: 36\n",
      "[LightGBM] [Info] Start training from score 4621.914746\n",
      "[1]\ttraining's rmse: 4358.79\tvalid_1's rmse: 4408.15\n",
      "Training until validation scores don't improve for 10 rounds\n",
      "[2]\ttraining's rmse: 4225.94\tvalid_1's rmse: 4274.12\n",
      "[3]\ttraining's rmse: 4083.38\tvalid_1's rmse: 4130.08\n",
      "[4]\ttraining's rmse: 3950.1\tvalid_1's rmse: 3995.48\n",
      "[5]\ttraining's rmse: 3825.52\tvalid_1's rmse: 3869.35\n",
      "[6]\ttraining's rmse: 3722.36\tvalid_1's rmse: 3765.16\n",
      "[7]\ttraining's rmse: 3626.54\tvalid_1's rmse: 3668.61\n",
      "[8]\ttraining's rmse: 3521.35\tvalid_1's rmse: 3562.61\n",
      "[9]\ttraining's rmse: 3422.7\tvalid_1's rmse: 3462.67\n",
      "[10]\ttraining's rmse: 3329.74\tvalid_1's rmse: 3368.51\n",
      "[11]\ttraining's rmse: 3273.8\tvalid_1's rmse: 3312.3\n",
      "[12]\ttraining's rmse: 3187.15\tvalid_1's rmse: 3224.27\n",
      "[13]\ttraining's rmse: 3109.69\tvalid_1's rmse: 3145.88\n",
      "[14]\ttraining's rmse: 3036.89\tvalid_1's rmse: 3072.05\n",
      "[15]\ttraining's rmse: 2967.51\tvalid_1's rmse: 3001.1\n",
      "[16]\ttraining's rmse: 2902.36\tvalid_1's rmse: 2934.55\n",
      "[17]\ttraining's rmse: 2843.47\tvalid_1's rmse: 2874.57\n",
      "[18]\ttraining's rmse: 2788.67\tvalid_1's rmse: 2818.7\n",
      "[19]\ttraining's rmse: 2736.19\tvalid_1's rmse: 2765.19\n",
      "[20]\ttraining's rmse: 2690.72\tvalid_1's rmse: 2718.86\n",
      "[21]\ttraining's rmse: 2642.2\tvalid_1's rmse: 2669.1\n",
      "[22]\ttraining's rmse: 2597.59\tvalid_1's rmse: 2623.44\n",
      "[23]\ttraining's rmse: 2556.12\tvalid_1's rmse: 2580.83\n",
      "[24]\ttraining's rmse: 2517.41\tvalid_1's rmse: 2540.73\n",
      "[25]\ttraining's rmse: 2481.67\tvalid_1's rmse: 2503.75\n",
      "[26]\ttraining's rmse: 2450.22\tvalid_1's rmse: 2471.89\n",
      "[27]\ttraining's rmse: 2419.43\tvalid_1's rmse: 2440.47\n",
      "[28]\ttraining's rmse: 2390.8\tvalid_1's rmse: 2411.37\n",
      "[29]\ttraining's rmse: 2363.68\tvalid_1's rmse: 2383.51\n",
      "[30]\ttraining's rmse: 2338.35\tvalid_1's rmse: 2357.54\n",
      "[31]\ttraining's rmse: 2314.16\tvalid_1's rmse: 2333.02\n",
      "[32]\ttraining's rmse: 2291.75\tvalid_1's rmse: 2309.94\n",
      "[33]\ttraining's rmse: 2270.04\tvalid_1's rmse: 2287.93\n",
      "[34]\ttraining's rmse: 2250.37\tvalid_1's rmse: 2268\n",
      "[35]\ttraining's rmse: 2232.51\tvalid_1's rmse: 2249.61\n",
      "[36]\ttraining's rmse: 2214.17\tvalid_1's rmse: 2230.64\n",
      "[37]\ttraining's rmse: 2198.14\tvalid_1's rmse: 2214.15\n",
      "[38]\ttraining's rmse: 2182.68\tvalid_1's rmse: 2198.14\n",
      "[39]\ttraining's rmse: 2168.33\tvalid_1's rmse: 2183.3\n",
      "[40]\ttraining's rmse: 2154.96\tvalid_1's rmse: 2169.47\n",
      "[41]\ttraining's rmse: 2141.26\tvalid_1's rmse: 2155.6\n",
      "[42]\ttraining's rmse: 2129.16\tvalid_1's rmse: 2143.12\n",
      "[43]\ttraining's rmse: 2117.36\tvalid_1's rmse: 2131.04\n",
      "[44]\ttraining's rmse: 2106.94\tvalid_1's rmse: 2120.12\n",
      "[45]\ttraining's rmse: 2096.56\tvalid_1's rmse: 2109.29\n",
      "[46]\ttraining's rmse: 2085.96\tvalid_1's rmse: 2098.33\n",
      "[47]\ttraining's rmse: 2076.82\tvalid_1's rmse: 2089.25\n",
      "[48]\ttraining's rmse: 2066.77\tvalid_1's rmse: 2078.92\n",
      "[49]\ttraining's rmse: 2058.86\tvalid_1's rmse: 2070.72\n",
      "[50]\ttraining's rmse: 2050.68\tvalid_1's rmse: 2062.15\n",
      "[51]\ttraining's rmse: 2042.06\tvalid_1's rmse: 2053.36\n",
      "[52]\ttraining's rmse: 2034.32\tvalid_1's rmse: 2045.62\n",
      "[53]\ttraining's rmse: 2027.24\tvalid_1's rmse: 2038.5\n",
      "[54]\ttraining's rmse: 2020.18\tvalid_1's rmse: 2031.27\n",
      "[55]\ttraining's rmse: 2013.37\tvalid_1's rmse: 2024.4\n",
      "[56]\ttraining's rmse: 2007.16\tvalid_1's rmse: 2017.94\n",
      "[57]\ttraining's rmse: 2001.02\tvalid_1's rmse: 2011.79\n",
      "[58]\ttraining's rmse: 1994.69\tvalid_1's rmse: 2005.44\n",
      "[59]\ttraining's rmse: 1988.61\tvalid_1's rmse: 1999.04\n",
      "[60]\ttraining's rmse: 1983.65\tvalid_1's rmse: 1994.06\n",
      "[61]\ttraining's rmse: 1977.4\tvalid_1's rmse: 1987.91\n",
      "[62]\ttraining's rmse: 1972.9\tvalid_1's rmse: 1983.36\n",
      "[63]\ttraining's rmse: 1967.12\tvalid_1's rmse: 1977.6\n",
      "[64]\ttraining's rmse: 1963.31\tvalid_1's rmse: 1973.62\n",
      "[65]\ttraining's rmse: 1958.85\tvalid_1's rmse: 1969.23\n",
      "[66]\ttraining's rmse: 1954.81\tvalid_1's rmse: 1965.14\n",
      "[67]\ttraining's rmse: 1950.36\tvalid_1's rmse: 1960.83\n",
      "[68]\ttraining's rmse: 1946.86\tvalid_1's rmse: 1957.06\n",
      "[69]\ttraining's rmse: 1941.56\tvalid_1's rmse: 1951.64\n",
      "[70]\ttraining's rmse: 1937.75\tvalid_1's rmse: 1947.7\n",
      "[71]\ttraining's rmse: 1932.73\tvalid_1's rmse: 1942.7\n",
      "[72]\ttraining's rmse: 1928.63\tvalid_1's rmse: 1938.61\n",
      "[73]\ttraining's rmse: 1925.36\tvalid_1's rmse: 1935.28\n",
      "[74]\ttraining's rmse: 1921.4\tvalid_1's rmse: 1931.47\n",
      "[75]\ttraining's rmse: 1918.07\tvalid_1's rmse: 1928.09\n",
      "[76]\ttraining's rmse: 1914.43\tvalid_1's rmse: 1924.26\n",
      "[77]\ttraining's rmse: 1910.44\tvalid_1's rmse: 1920.33\n",
      "[78]\ttraining's rmse: 1907.23\tvalid_1's rmse: 1917.32\n",
      "[79]\ttraining's rmse: 1904.51\tvalid_1's rmse: 1914.88\n",
      "[80]\ttraining's rmse: 1901.02\tvalid_1's rmse: 1911.37\n",
      "[81]\ttraining's rmse: 1897.96\tvalid_1's rmse: 1908.22\n",
      "[82]\ttraining's rmse: 1895.41\tvalid_1's rmse: 1905.6\n",
      "[83]\ttraining's rmse: 1890.68\tvalid_1's rmse: 1900.7\n",
      "[84]\ttraining's rmse: 1888.34\tvalid_1's rmse: 1898.34\n",
      "[85]\ttraining's rmse: 1886\tvalid_1's rmse: 1896.34\n",
      "[86]\ttraining's rmse: 1882.8\tvalid_1's rmse: 1893.27\n",
      "[87]\ttraining's rmse: 1881.11\tvalid_1's rmse: 1891.69\n",
      "[88]\ttraining's rmse: 1878.33\tvalid_1's rmse: 1888.84\n",
      "[89]\ttraining's rmse: 1875.14\tvalid_1's rmse: 1885.63\n",
      "[90]\ttraining's rmse: 1872.02\tvalid_1's rmse: 1882.73\n",
      "[91]\ttraining's rmse: 1869.57\tvalid_1's rmse: 1880.38\n",
      "[92]\ttraining's rmse: 1866.65\tvalid_1's rmse: 1877.41\n",
      "[93]\ttraining's rmse: 1865.02\tvalid_1's rmse: 1875.78\n",
      "[94]\ttraining's rmse: 1863.64\tvalid_1's rmse: 1874.4\n",
      "[95]\ttraining's rmse: 1861.75\tvalid_1's rmse: 1872.54\n",
      "[96]\ttraining's rmse: 1859.04\tvalid_1's rmse: 1869.7\n",
      "[97]\ttraining's rmse: 1854.96\tvalid_1's rmse: 1865.54\n",
      "[98]\ttraining's rmse: 1853.14\tvalid_1's rmse: 1863.76\n",
      "[99]\ttraining's rmse: 1851.75\tvalid_1's rmse: 1862.39\n",
      "[100]\ttraining's rmse: 1848.66\tvalid_1's rmse: 1859.15\n",
      "Did not meet early stopping. Best iteration is:\n",
      "[100]\ttraining's rmse: 1848.66\tvalid_1's rmse: 1859.15\n",
      "CPU times: user 7.89 s, sys: 1.15 s, total: 9.04 s\n",
      "Wall time: 1.39 s\n"
     ]
    }
   ],
   "source": [
    "%%time\n",
    "# обучение модели LightGBM\n",
    "model_lgb = lgb.train(params,\n",
    "                      train_data,\n",
    "                      num_boost_round=100,\n",
    "                      valid_sets=[train_data, test_data],\n",
    "                      early_stopping_rounds=10)"
   ]
  },
  {
   "cell_type": "code",
   "execution_count": 61,
   "id": "ff9b9d47",
   "metadata": {},
   "outputs": [
    {
     "name": "stdout",
     "output_type": "stream",
     "text": [
      "CPU times: user 3.24 s, sys: 97.6 ms, total: 3.34 s\n",
      "Wall time: 502 ms\n"
     ]
    }
   ],
   "source": [
    "%%time\n",
    "predictions_lgb = model_lgb.predict(X_train)"
   ]
  },
  {
   "cell_type": "code",
   "execution_count": 65,
   "id": "a3a10d7f",
   "metadata": {},
   "outputs": [
    {
     "data": {
      "text/plain": [
       "'RMSE для LightGBM модели на валидационной выборке: 1756.86'"
      ]
     },
     "execution_count": 65,
     "metadata": {},
     "output_type": "execute_result"
    }
   ],
   "source": [
    "f\"RMSE для LightGBM модели на валидационной выборке: {round((-scores.mean()) ** 0.5, 2)}\""
   ]
  },
  {
   "cell_type": "markdown",
   "id": "be7c67c6",
   "metadata": {},
   "source": [
    "**Вывод:**"
   ]
  },
  {
   "cell_type": "markdown",
   "id": "3db90179",
   "metadata": {},
   "source": [
    "- Проведено обучение моделей линейной регрессии без/с регуляризацией, а также модели градиентного бустинга LightGBM.\n",
    "- Измерены время обучения/предсказания моделей, а так же качество предсказаний по метрике RMSE.\n"
   ]
  },
  {
   "cell_type": "markdown",
   "id": "a8659c5a",
   "metadata": {},
   "source": [
    "## 3. Анализ моделей"
   ]
  },
  {
   "cell_type": "markdown",
   "id": "716c0559",
   "metadata": {},
   "source": [
    "- Все обученные модели смогли улучшить RMSE базовой модели.\n",
    "- Линейная модель без регуляризации для данной задачи показала качество предсказаний не хуже, чем Lasso и Ridge. Метрика **RMSE** для LightGBM в два раза ниже:\n",
    "\n",
    "    - Base-line: 4530.45\n",
    "    - LinearModel: 2983.38\n",
    "    - Lasso 2980.98\n",
    "    - Ridge 2980.98\n",
    "    - LightGBM: 1768.28\n",
    "    \n",
    "    \n",
    "- **По времени обучения** Ridge модель оказалась быстрее всех. Lasso значительно уступает линейной модели без регуляризации.:\n",
    "\n",
    "    - LinearModel: 92.6 ms\n",
    "    - Lasso 1.37 s\n",
    "    - Ridge 28.4 ms\n",
    "    - LightGBM: 511 ms\n",
    "    \n",
    "    \n",
    "- **По времени предсказания** линейные модели ведут себя одинаково. LightGBM более тяжелая модель, время предсказания выше на порядок.\n",
    "\n",
    "    - LinearModels: 4.54 ms\n",
    "    - LightGBM: 380 ms"
   ]
  },
  {
   "cell_type": "markdown",
   "id": "1d16311c",
   "metadata": {},
   "source": [
    "**Итог:**\n",
    "\n",
    "В общем и целом можно сделать вывод, что модель **\"LightGBM\"**, одна из лучших моделей как по среднеквадратичной ошибке так и по времени обучения и предсказания:"
   ]
  },
  {
   "cell_type": "markdown",
   "id": "0c73fe32",
   "metadata": {},
   "source": [
    "Теперь посмотрим на предскказания тестовой выборки модели **\"LightGBM\"**:"
   ]
  },
  {
   "cell_type": "code",
   "execution_count": 66,
   "id": "5d90429a",
   "metadata": {},
   "outputs": [
    {
     "name": "stdout",
     "output_type": "stream",
     "text": [
      "CPU times: user 877 ms, sys: 10.5 ms, total: 887 ms\n",
      "Wall time: 140 ms\n"
     ]
    }
   ],
   "source": [
    "%%time\n",
    "preds_lgb_ff = model_lgb.predict(X_test)"
   ]
  },
  {
   "cell_type": "code",
   "execution_count": 67,
   "id": "edbe7d18",
   "metadata": {
    "scrolled": false
   },
   "outputs": [
    {
     "name": "stdout",
     "output_type": "stream",
     "text": [
      "CPU times: user 3.8 ms, sys: 3.36 ms, total: 7.16 ms\n",
      "Wall time: 1.16 ms\n"
     ]
    },
    {
     "data": {
      "text/plain": [
       "'RMSE для LightGBM модели на тестовой выборке: 1859.15'"
      ]
     },
     "execution_count": 67,
     "metadata": {},
     "output_type": "execute_result"
    }
   ],
   "source": [
    "%%time\n",
    "rmse_ridge = mean_squared_error(y_test, preds_lgb_ff, squared=False)\n",
    "f\"RMSE для LightGBM модели на тестовой выборке: {round(rmse_ridge, 2)}\""
   ]
  }
 ],
 "metadata": {
  "ExecuteTimeLog": [
   {
    "duration": 2889,
    "start_time": "2023-04-20T09:05:14.729Z"
   },
   {
    "duration": 38200,
    "start_time": "2023-04-20T09:05:17.620Z"
   },
   {
    "duration": 3433,
    "start_time": "2023-04-20T09:05:55.822Z"
   },
   {
    "duration": 841,
    "start_time": "2023-04-20T09:05:59.257Z"
   },
   {
    "duration": 3,
    "start_time": "2023-04-20T09:06:00.099Z"
   },
   {
    "duration": 67,
    "start_time": "2023-04-20T09:06:00.104Z"
   },
   {
    "duration": 42,
    "start_time": "2023-04-20T09:06:00.172Z"
   },
   {
    "duration": 24,
    "start_time": "2023-04-20T09:06:00.215Z"
   },
   {
    "duration": 92,
    "start_time": "2023-04-20T09:06:00.241Z"
   },
   {
    "duration": 45,
    "start_time": "2023-04-20T09:06:00.336Z"
   },
   {
    "duration": 32,
    "start_time": "2023-04-20T09:06:00.383Z"
   },
   {
    "duration": 280,
    "start_time": "2023-04-20T09:06:00.417Z"
   },
   {
    "duration": 10,
    "start_time": "2023-04-20T09:06:00.699Z"
   },
   {
    "duration": 64,
    "start_time": "2023-04-20T09:06:00.711Z"
   },
   {
    "duration": 60,
    "start_time": "2023-04-20T09:06:00.776Z"
   },
   {
    "duration": 42,
    "start_time": "2023-04-20T09:06:00.838Z"
   },
   {
    "duration": 61,
    "start_time": "2023-04-20T09:06:00.882Z"
   },
   {
    "duration": 200,
    "start_time": "2023-04-20T09:06:00.945Z"
   },
   {
    "duration": 5,
    "start_time": "2023-04-20T09:06:01.149Z"
   },
   {
    "duration": 33,
    "start_time": "2023-04-20T09:06:01.156Z"
   },
   {
    "duration": 38,
    "start_time": "2023-04-20T09:06:01.191Z"
   },
   {
    "duration": 116,
    "start_time": "2023-04-20T09:06:01.231Z"
   },
   {
    "duration": 115,
    "start_time": "2023-04-20T09:06:01.349Z"
   },
   {
    "duration": 1244,
    "start_time": "2023-04-20T09:06:01.465Z"
   },
   {
    "duration": 154,
    "start_time": "2023-04-20T09:06:02.711Z"
   },
   {
    "duration": 1,
    "start_time": "2023-04-20T09:06:02.868Z"
   },
   {
    "duration": 0,
    "start_time": "2023-04-20T09:06:02.870Z"
   },
   {
    "duration": 0,
    "start_time": "2023-04-20T09:06:02.872Z"
   },
   {
    "duration": 0,
    "start_time": "2023-04-20T09:06:02.873Z"
   },
   {
    "duration": 0,
    "start_time": "2023-04-20T09:06:02.874Z"
   },
   {
    "duration": 0,
    "start_time": "2023-04-20T09:06:02.876Z"
   },
   {
    "duration": 0,
    "start_time": "2023-04-20T09:06:02.877Z"
   },
   {
    "duration": 0,
    "start_time": "2023-04-20T09:06:02.878Z"
   },
   {
    "duration": 0,
    "start_time": "2023-04-20T09:06:02.880Z"
   },
   {
    "duration": 0,
    "start_time": "2023-04-20T09:06:02.881Z"
   },
   {
    "duration": 0,
    "start_time": "2023-04-20T09:06:02.883Z"
   },
   {
    "duration": 0,
    "start_time": "2023-04-20T09:06:02.885Z"
   },
   {
    "duration": 0,
    "start_time": "2023-04-20T09:06:02.886Z"
   },
   {
    "duration": 0,
    "start_time": "2023-04-20T09:06:02.887Z"
   },
   {
    "duration": 0,
    "start_time": "2023-04-20T09:06:02.888Z"
   },
   {
    "duration": 0,
    "start_time": "2023-04-20T09:06:02.889Z"
   },
   {
    "duration": 0,
    "start_time": "2023-04-20T09:06:02.891Z"
   },
   {
    "duration": 0,
    "start_time": "2023-04-20T09:06:02.892Z"
   },
   {
    "duration": 0,
    "start_time": "2023-04-20T09:06:02.893Z"
   },
   {
    "duration": 0,
    "start_time": "2023-04-20T09:06:02.894Z"
   },
   {
    "duration": 0,
    "start_time": "2023-04-20T09:06:02.896Z"
   },
   {
    "duration": 0,
    "start_time": "2023-04-20T09:06:02.898Z"
   },
   {
    "duration": 0,
    "start_time": "2023-04-20T09:06:02.899Z"
   },
   {
    "duration": 0,
    "start_time": "2023-04-20T09:06:02.900Z"
   },
   {
    "duration": 0,
    "start_time": "2023-04-20T09:06:02.949Z"
   },
   {
    "duration": 0,
    "start_time": "2023-04-20T09:06:02.950Z"
   },
   {
    "duration": 0,
    "start_time": "2023-04-20T09:06:02.951Z"
   },
   {
    "duration": 0,
    "start_time": "2023-04-20T09:06:02.952Z"
   },
   {
    "duration": 0,
    "start_time": "2023-04-20T09:06:02.953Z"
   },
   {
    "duration": 0,
    "start_time": "2023-04-20T09:06:02.954Z"
   },
   {
    "duration": 0,
    "start_time": "2023-04-20T09:06:02.955Z"
   },
   {
    "duration": 3,
    "start_time": "2023-04-20T09:06:56.484Z"
   },
   {
    "duration": 22,
    "start_time": "2023-04-20T09:06:58.578Z"
   },
   {
    "duration": 15,
    "start_time": "2023-04-20T09:06:58.815Z"
   },
   {
    "duration": 3,
    "start_time": "2023-04-20T09:06:58.982Z"
   },
   {
    "duration": 5,
    "start_time": "2023-04-20T09:06:59.243Z"
   },
   {
    "duration": 5,
    "start_time": "2023-04-20T09:06:59.418Z"
   },
   {
    "duration": 3,
    "start_time": "2023-04-20T09:06:59.577Z"
   },
   {
    "duration": 183,
    "start_time": "2023-04-20T09:06:59.757Z"
   },
   {
    "duration": 9,
    "start_time": "2023-04-20T09:06:59.942Z"
   },
   {
    "duration": 4,
    "start_time": "2023-04-20T09:07:00.074Z"
   },
   {
    "duration": 5,
    "start_time": "2023-04-20T09:07:00.237Z"
   },
   {
    "duration": 9,
    "start_time": "2023-04-20T09:07:00.407Z"
   },
   {
    "duration": 9,
    "start_time": "2023-04-20T09:07:00.486Z"
   },
   {
    "duration": 285,
    "start_time": "2023-04-20T09:07:00.833Z"
   },
   {
    "duration": 5,
    "start_time": "2023-04-20T09:07:01.120Z"
   },
   {
    "duration": 35,
    "start_time": "2023-04-20T09:07:01.156Z"
   },
   {
    "duration": 5,
    "start_time": "2023-04-20T09:07:01.399Z"
   },
   {
    "duration": 8,
    "start_time": "2023-04-20T09:07:01.917Z"
   },
   {
    "duration": 4,
    "start_time": "2023-04-20T09:07:02.078Z"
   },
   {
    "duration": 1291,
    "start_time": "2023-04-20T09:07:02.152Z"
   },
   {
    "duration": 39,
    "start_time": "2023-04-20T09:07:03.445Z"
   },
   {
    "duration": 35,
    "start_time": "2023-04-20T09:07:03.486Z"
   },
   {
    "duration": 79,
    "start_time": "2023-04-20T09:07:03.523Z"
   },
   {
    "duration": 4,
    "start_time": "2023-04-20T09:07:04.610Z"
   },
   {
    "duration": 19,
    "start_time": "2023-04-20T09:07:05.095Z"
   },
   {
    "duration": 15,
    "start_time": "2023-04-20T09:07:05.241Z"
   },
   {
    "duration": 6,
    "start_time": "2023-04-20T09:07:07.589Z"
   },
   {
    "duration": 11,
    "start_time": "2023-04-20T09:07:07.660Z"
   },
   {
    "duration": 5,
    "start_time": "2023-04-20T09:07:07.826Z"
   },
   {
    "duration": 21,
    "start_time": "2023-04-20T09:07:07.994Z"
   },
   {
    "duration": 19,
    "start_time": "2023-04-20T09:07:08.077Z"
   },
   {
    "duration": 5,
    "start_time": "2023-04-20T09:07:08.455Z"
   },
   {
    "duration": 6,
    "start_time": "2023-04-20T09:07:09.286Z"
   },
   {
    "duration": 4,
    "start_time": "2023-04-20T09:07:09.517Z"
   },
   {
    "duration": 4,
    "start_time": "2023-04-20T09:07:09.696Z"
   },
   {
    "duration": 11,
    "start_time": "2023-04-20T09:07:10.057Z"
   },
   {
    "duration": 16,
    "start_time": "2023-04-20T09:07:10.248Z"
   },
   {
    "duration": 3,
    "start_time": "2023-04-20T09:07:15.616Z"
   },
   {
    "duration": 2,
    "start_time": "2023-04-20T09:07:16.946Z"
   },
   {
    "duration": 25,
    "start_time": "2023-04-20T09:07:17.338Z"
   },
   {
    "duration": 21,
    "start_time": "2023-04-20T09:07:33.210Z"
   },
   {
    "duration": 10206,
    "start_time": "2023-04-20T09:07:36.451Z"
   },
   {
    "duration": 8,
    "start_time": "2023-04-20T09:07:52.478Z"
   },
   {
    "duration": 8,
    "start_time": "2023-04-20T09:08:21.420Z"
   },
   {
    "duration": 4,
    "start_time": "2023-04-20T09:08:24.104Z"
   },
   {
    "duration": 8,
    "start_time": "2023-04-20T09:08:26.639Z"
   },
   {
    "duration": 4,
    "start_time": "2023-04-20T09:08:34.803Z"
   },
   {
    "duration": 3,
    "start_time": "2023-04-20T09:08:41.751Z"
   },
   {
    "duration": 408,
    "start_time": "2023-04-20T09:08:42.351Z"
   },
   {
    "duration": 3,
    "start_time": "2023-04-20T09:08:46.128Z"
   },
   {
    "duration": 3,
    "start_time": "2023-04-20T09:08:52.997Z"
   },
   {
    "duration": 4,
    "start_time": "2023-04-20T09:09:00.255Z"
   },
   {
    "duration": 4,
    "start_time": "2023-04-20T09:09:05.358Z"
   },
   {
    "duration": 877,
    "start_time": "2023-04-20T09:10:53.997Z"
   },
   {
    "duration": 137,
    "start_time": "2023-04-20T09:11:26.329Z"
   },
   {
    "duration": 2,
    "start_time": "2023-04-20T09:11:28.175Z"
   },
   {
    "duration": 406,
    "start_time": "2023-04-20T09:11:28.346Z"
   },
   {
    "duration": 2,
    "start_time": "2023-04-20T09:11:28.754Z"
   },
   {
    "duration": 3,
    "start_time": "2023-04-20T09:11:33.315Z"
   },
   {
    "duration": 81,
    "start_time": "2023-04-20T09:11:34.572Z"
   },
   {
    "duration": 4,
    "start_time": "2023-04-20T09:11:38.740Z"
   },
   {
    "duration": 20,
    "start_time": "2023-04-20T09:12:42.646Z"
   },
   {
    "duration": 3,
    "start_time": "2023-04-20T09:13:32.195Z"
   },
   {
    "duration": 2,
    "start_time": "2023-04-20T09:13:32.371Z"
   },
   {
    "duration": 20,
    "start_time": "2023-04-20T09:13:32.540Z"
   },
   {
    "duration": 3,
    "start_time": "2023-04-20T09:13:32.717Z"
   },
   {
    "duration": 9,
    "start_time": "2023-04-23T09:35:04.138Z"
   }
  ],
  "kernelspec": {
   "display_name": "Python 3 (ipykernel)",
   "language": "python",
   "name": "python3"
  },
  "language_info": {
   "codemirror_mode": {
    "name": "ipython",
    "version": 3
   },
   "file_extension": ".py",
   "mimetype": "text/x-python",
   "name": "python",
   "nbconvert_exporter": "python",
   "pygments_lexer": "ipython3",
   "version": "3.9.13"
  },
  "toc": {
   "base_numbering": 1,
   "nav_menu": {},
   "number_sections": true,
   "sideBar": true,
   "skip_h1_title": true,
   "title_cell": "Table of Contents",
   "title_sidebar": "Contents",
   "toc_cell": false,
   "toc_position": {},
   "toc_section_display": true,
   "toc_window_display": false
  }
 },
 "nbformat": 4,
 "nbformat_minor": 5
}
