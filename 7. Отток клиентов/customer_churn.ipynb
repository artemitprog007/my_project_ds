{
 "cells": [
  {
   "cell_type": "markdown",
   "metadata": {
    "toc": true
   },
   "source": [
    "<h1>Содержание<span class=\"tocSkip\"></span></h1>\n",
    "<div class=\"toc\"><ul class=\"toc-item\"><li><span><a href=\"#Подготовка-данных\" data-toc-modified-id=\"Подготовка-данных-1\"><span class=\"toc-item-num\">1&nbsp;&nbsp;</span>Подготовка данных</a></span></li><li><span><a href=\"#Исследование-задачи\" data-toc-modified-id=\"Исследование-задачи-2\"><span class=\"toc-item-num\">2&nbsp;&nbsp;</span>Исследование задачи</a></span></li><li><span><a href=\"#Борьба-с-дисбалансом\" data-toc-modified-id=\"Борьба-с-дисбалансом-3\"><span class=\"toc-item-num\">3&nbsp;&nbsp;</span>Борьба с дисбалансом</a></span></li><li><span><a href=\"#Тестирование-модели\" data-toc-modified-id=\"Тестирование-модели-4\"><span class=\"toc-item-num\">4&nbsp;&nbsp;</span>Тестирование модели</a></span></li><li><span><a href=\"#Чек-лист-готовности-проекта\" data-toc-modified-id=\"Чек-лист-готовности-проекта-5\"><span class=\"toc-item-num\">5&nbsp;&nbsp;</span>Чек-лист готовности проекта</a></span></li></ul></div>"
   ]
  },
  {
   "cell_type": "markdown",
   "metadata": {},
   "source": [
    "# Отток клиентов"
   ]
  },
  {
   "cell_type": "markdown",
   "metadata": {},
   "source": [
    "Из «Бета-Банка» стали уходить клиенты. Каждый месяц. Немного, но заметно. Банковские маркетологи посчитали: сохранять текущих клиентов дешевле, чем привлекать новых.\n",
    "\n",
    "Нужно спрогнозировать, уйдёт клиент из банка в ближайшее время или нет. Вам предоставлены исторические данные о поведении клиентов и расторжении договоров с банком. \n",
    "\n",
    "Постройте модель с предельно большим значением *F1*-меры. Чтобы сдать проект успешно, нужно довести метрику до 0.59. Проверьте *F1*-меру на тестовой выборке самостоятельно.\n",
    "\n",
    "Дополнительно измеряйте *AUC-ROC*, сравнивайте её значение с *F1*-мерой.\n",
    "\n",
    "Источник данных: [https://www.kaggle.com/barelydedicated/bank-customer-churn-modeling](https://www.kaggle.com/barelydedicated/bank-customer-churn-modeling)"
   ]
  },
  {
   "cell_type": "markdown",
   "metadata": {},
   "source": [
    "## Подготовка данных"
   ]
  },
  {
   "cell_type": "code",
   "execution_count": 4,
   "metadata": {},
   "outputs": [],
   "source": [
    "# <импорт библиотеки pandas>\n",
    "import pandas as pd\n",
    "\n",
    "# <импорт библиотеки math>\n",
    "import math\n",
    "\n",
    "# <импорт библиотеки sklearn>\n",
    "import sklearn\n",
    "\n",
    "# <Отключение предупреждений>\n",
    "import warnings\n",
    "warnings.filterwarnings('ignore')\n",
    "\n",
    "# <импорт библиотеки numpy>\n",
    "import numpy as np\n",
    "\n",
    "# <импорт библиотеки seaborn для построения графиков>\n",
    "import seaborn as sns\n",
    "\n",
    "# <Импортируем функцию из бибилиотеки sklearn>\n",
    "from sklearn.model_selection import train_test_split\n",
    "\n",
    "# <импортируем StandardScaler из библиотеки sklearn>\n",
    "from sklearn.preprocessing import StandardScaler\n",
    "\n",
    "# <импортируем алгоритм исчерпывающего поиска по гиперпараметрам>\n",
    "from sklearn.model_selection import GridSearchCV\n",
    "\n",
    "# <Импортируем метод дерева принятия решений>\n",
    "from sklearn.tree import DecisionTreeClassifier\n",
    "\n",
    "# <Импортируем алгоритм случайного леса>\n",
    "from sklearn.ensemble import RandomForestClassifier\n",
    "\n",
    "# <Импортируем алгоритм случайного поиска по гиперпараметрам>\n",
    "from sklearn.model_selection import RandomizedSearchCV\n",
    "\n",
    "# <Импортируем метод логистической регрессии>\n",
    "from sklearn.linear_model import LogisticRegression\n",
    "\n",
    "# <Импортируем функцию cross_val_score>\n",
    "from sklearn.model_selection import cross_val_score\n",
    "\n",
    "# <импортируем оценку F1-меры>\n",
    "from sklearn.metrics import f1_score\n",
    "\n",
    "# <импортируем функцию resample>\n",
    "from sklearn.utils import resample\n",
    "\n",
    "# <импортируем функцию roc_auc_score>\n",
    "from sklearn.metrics import roc_auc_score"
   ]
  },
  {
   "cell_type": "code",
   "execution_count": 5,
   "metadata": {},
   "outputs": [],
   "source": [
    "# <чтение файла с данными с сохранением в переменную df>\n",
    "df = pd.read_csv('/Users/artemvishanov/Desktop/yandex_practicum_project/7. Отток клиентов/Churn.csv')"
   ]
  },
  {
   "cell_type": "markdown",
   "metadata": {},
   "source": [
    "Рассмотрим информацию о датафрейме и первые пять строк"
   ]
  },
  {
   "cell_type": "code",
   "execution_count": 6,
   "metadata": {},
   "outputs": [
    {
     "name": "stdout",
     "output_type": "stream",
     "text": [
      "<class 'pandas.core.frame.DataFrame'>\n",
      "RangeIndex: 10000 entries, 0 to 9999\n",
      "Data columns (total 14 columns):\n",
      " #   Column           Non-Null Count  Dtype  \n",
      "---  ------           --------------  -----  \n",
      " 0   RowNumber        10000 non-null  int64  \n",
      " 1   CustomerId       10000 non-null  int64  \n",
      " 2   Surname          10000 non-null  object \n",
      " 3   CreditScore      10000 non-null  int64  \n",
      " 4   Geography        10000 non-null  object \n",
      " 5   Gender           10000 non-null  object \n",
      " 6   Age              10000 non-null  int64  \n",
      " 7   Tenure           9091 non-null   float64\n",
      " 8   Balance          10000 non-null  float64\n",
      " 9   NumOfProducts    10000 non-null  int64  \n",
      " 10  HasCrCard        10000 non-null  int64  \n",
      " 11  IsActiveMember   10000 non-null  int64  \n",
      " 12  EstimatedSalary  10000 non-null  float64\n",
      " 13  Exited           10000 non-null  int64  \n",
      "dtypes: float64(3), int64(8), object(3)\n",
      "memory usage: 1.1+ MB\n",
      "None\n"
     ]
    },
    {
     "data": {
      "text/html": [
       "<div>\n",
       "<style scoped>\n",
       "    .dataframe tbody tr th:only-of-type {\n",
       "        vertical-align: middle;\n",
       "    }\n",
       "\n",
       "    .dataframe tbody tr th {\n",
       "        vertical-align: top;\n",
       "    }\n",
       "\n",
       "    .dataframe thead th {\n",
       "        text-align: right;\n",
       "    }\n",
       "</style>\n",
       "<table border=\"1\" class=\"dataframe\">\n",
       "  <thead>\n",
       "    <tr style=\"text-align: right;\">\n",
       "      <th></th>\n",
       "      <th>RowNumber</th>\n",
       "      <th>CustomerId</th>\n",
       "      <th>Surname</th>\n",
       "      <th>CreditScore</th>\n",
       "      <th>Geography</th>\n",
       "      <th>Gender</th>\n",
       "      <th>Age</th>\n",
       "      <th>Tenure</th>\n",
       "      <th>Balance</th>\n",
       "      <th>NumOfProducts</th>\n",
       "      <th>HasCrCard</th>\n",
       "      <th>IsActiveMember</th>\n",
       "      <th>EstimatedSalary</th>\n",
       "      <th>Exited</th>\n",
       "    </tr>\n",
       "  </thead>\n",
       "  <tbody>\n",
       "    <tr>\n",
       "      <th>0</th>\n",
       "      <td>1</td>\n",
       "      <td>15634602</td>\n",
       "      <td>Hargrave</td>\n",
       "      <td>619</td>\n",
       "      <td>France</td>\n",
       "      <td>Female</td>\n",
       "      <td>42</td>\n",
       "      <td>2.0</td>\n",
       "      <td>0.00</td>\n",
       "      <td>1</td>\n",
       "      <td>1</td>\n",
       "      <td>1</td>\n",
       "      <td>101348.88</td>\n",
       "      <td>1</td>\n",
       "    </tr>\n",
       "    <tr>\n",
       "      <th>1</th>\n",
       "      <td>2</td>\n",
       "      <td>15647311</td>\n",
       "      <td>Hill</td>\n",
       "      <td>608</td>\n",
       "      <td>Spain</td>\n",
       "      <td>Female</td>\n",
       "      <td>41</td>\n",
       "      <td>1.0</td>\n",
       "      <td>83807.86</td>\n",
       "      <td>1</td>\n",
       "      <td>0</td>\n",
       "      <td>1</td>\n",
       "      <td>112542.58</td>\n",
       "      <td>0</td>\n",
       "    </tr>\n",
       "    <tr>\n",
       "      <th>2</th>\n",
       "      <td>3</td>\n",
       "      <td>15619304</td>\n",
       "      <td>Onio</td>\n",
       "      <td>502</td>\n",
       "      <td>France</td>\n",
       "      <td>Female</td>\n",
       "      <td>42</td>\n",
       "      <td>8.0</td>\n",
       "      <td>159660.80</td>\n",
       "      <td>3</td>\n",
       "      <td>1</td>\n",
       "      <td>0</td>\n",
       "      <td>113931.57</td>\n",
       "      <td>1</td>\n",
       "    </tr>\n",
       "    <tr>\n",
       "      <th>3</th>\n",
       "      <td>4</td>\n",
       "      <td>15701354</td>\n",
       "      <td>Boni</td>\n",
       "      <td>699</td>\n",
       "      <td>France</td>\n",
       "      <td>Female</td>\n",
       "      <td>39</td>\n",
       "      <td>1.0</td>\n",
       "      <td>0.00</td>\n",
       "      <td>2</td>\n",
       "      <td>0</td>\n",
       "      <td>0</td>\n",
       "      <td>93826.63</td>\n",
       "      <td>0</td>\n",
       "    </tr>\n",
       "    <tr>\n",
       "      <th>4</th>\n",
       "      <td>5</td>\n",
       "      <td>15737888</td>\n",
       "      <td>Mitchell</td>\n",
       "      <td>850</td>\n",
       "      <td>Spain</td>\n",
       "      <td>Female</td>\n",
       "      <td>43</td>\n",
       "      <td>2.0</td>\n",
       "      <td>125510.82</td>\n",
       "      <td>1</td>\n",
       "      <td>1</td>\n",
       "      <td>1</td>\n",
       "      <td>79084.10</td>\n",
       "      <td>0</td>\n",
       "    </tr>\n",
       "  </tbody>\n",
       "</table>\n",
       "</div>"
      ],
      "text/plain": [
       "   RowNumber  CustomerId   Surname  CreditScore Geography  Gender  Age  \\\n",
       "0          1    15634602  Hargrave          619    France  Female   42   \n",
       "1          2    15647311      Hill          608     Spain  Female   41   \n",
       "2          3    15619304      Onio          502    France  Female   42   \n",
       "3          4    15701354      Boni          699    France  Female   39   \n",
       "4          5    15737888  Mitchell          850     Spain  Female   43   \n",
       "\n",
       "   Tenure    Balance  NumOfProducts  HasCrCard  IsActiveMember  \\\n",
       "0     2.0       0.00              1          1               1   \n",
       "1     1.0   83807.86              1          0               1   \n",
       "2     8.0  159660.80              3          1               0   \n",
       "3     1.0       0.00              2          0               0   \n",
       "4     2.0  125510.82              1          1               1   \n",
       "\n",
       "   EstimatedSalary  Exited  \n",
       "0        101348.88       1  \n",
       "1        112542.58       0  \n",
       "2        113931.57       1  \n",
       "3         93826.63       0  \n",
       "4         79084.10       0  "
      ]
     },
     "execution_count": 6,
     "metadata": {},
     "output_type": "execute_result"
    }
   ],
   "source": [
    "print(df.info())\n",
    "df.head()"
   ]
  },
  {
   "cell_type": "markdown",
   "metadata": {},
   "source": [
    "Имеются пропуски в Tenure. Устраним их."
   ]
  },
  {
   "cell_type": "code",
   "execution_count": 7,
   "metadata": {},
   "outputs": [],
   "source": [
    "# <Заменим значения количества недвижимости равные NaN на 0> \n",
    "df = df.fillna(df['Tenure'].mean())"
   ]
  },
  {
   "cell_type": "code",
   "execution_count": 8,
   "metadata": {},
   "outputs": [],
   "source": [
    "# <поменяем тип на целочисленный>\n",
    "df['Tenure'] = df['Tenure'].astype('int64')"
   ]
  },
  {
   "cell_type": "markdown",
   "metadata": {},
   "source": [
    "Создадим новый датафрейм, удалим из него столбцы Surname и RowNumber, которые не влияют на столбец Exited.\n",
    "\n",
    "* Клиенты в датафрейме расположены не по порядку возрастания CustomerId, который может в теории указывать нам на то, насколько давно клиент сотрудничает с банком, соответственно номер строки никак не влияет на наш целевой признак.\n",
    "* Различных фамилий в датафрейме более двух тысяч, соответственно использовав их мы только усложним модель.\n",
    "* также столбцы EstimatedSalary и CustomerId"
   ]
  },
  {
   "cell_type": "code",
   "execution_count": 9,
   "metadata": {},
   "outputs": [
    {
     "data": {
      "text/html": [
       "<div>\n",
       "<style scoped>\n",
       "    .dataframe tbody tr th:only-of-type {\n",
       "        vertical-align: middle;\n",
       "    }\n",
       "\n",
       "    .dataframe tbody tr th {\n",
       "        vertical-align: top;\n",
       "    }\n",
       "\n",
       "    .dataframe thead th {\n",
       "        text-align: right;\n",
       "    }\n",
       "</style>\n",
       "<table border=\"1\" class=\"dataframe\">\n",
       "  <thead>\n",
       "    <tr style=\"text-align: right;\">\n",
       "      <th></th>\n",
       "      <th>CreditScore</th>\n",
       "      <th>Geography</th>\n",
       "      <th>Gender</th>\n",
       "      <th>Age</th>\n",
       "      <th>Tenure</th>\n",
       "      <th>Balance</th>\n",
       "      <th>NumOfProducts</th>\n",
       "      <th>HasCrCard</th>\n",
       "      <th>IsActiveMember</th>\n",
       "      <th>EstimatedSalary</th>\n",
       "      <th>Exited</th>\n",
       "    </tr>\n",
       "  </thead>\n",
       "  <tbody>\n",
       "    <tr>\n",
       "      <th>0</th>\n",
       "      <td>619</td>\n",
       "      <td>France</td>\n",
       "      <td>Female</td>\n",
       "      <td>42</td>\n",
       "      <td>2</td>\n",
       "      <td>0.00</td>\n",
       "      <td>1</td>\n",
       "      <td>1</td>\n",
       "      <td>1</td>\n",
       "      <td>101348.88</td>\n",
       "      <td>1</td>\n",
       "    </tr>\n",
       "    <tr>\n",
       "      <th>1</th>\n",
       "      <td>608</td>\n",
       "      <td>Spain</td>\n",
       "      <td>Female</td>\n",
       "      <td>41</td>\n",
       "      <td>1</td>\n",
       "      <td>83807.86</td>\n",
       "      <td>1</td>\n",
       "      <td>0</td>\n",
       "      <td>1</td>\n",
       "      <td>112542.58</td>\n",
       "      <td>0</td>\n",
       "    </tr>\n",
       "    <tr>\n",
       "      <th>2</th>\n",
       "      <td>502</td>\n",
       "      <td>France</td>\n",
       "      <td>Female</td>\n",
       "      <td>42</td>\n",
       "      <td>8</td>\n",
       "      <td>159660.80</td>\n",
       "      <td>3</td>\n",
       "      <td>1</td>\n",
       "      <td>0</td>\n",
       "      <td>113931.57</td>\n",
       "      <td>1</td>\n",
       "    </tr>\n",
       "    <tr>\n",
       "      <th>3</th>\n",
       "      <td>699</td>\n",
       "      <td>France</td>\n",
       "      <td>Female</td>\n",
       "      <td>39</td>\n",
       "      <td>1</td>\n",
       "      <td>0.00</td>\n",
       "      <td>2</td>\n",
       "      <td>0</td>\n",
       "      <td>0</td>\n",
       "      <td>93826.63</td>\n",
       "      <td>0</td>\n",
       "    </tr>\n",
       "    <tr>\n",
       "      <th>4</th>\n",
       "      <td>850</td>\n",
       "      <td>Spain</td>\n",
       "      <td>Female</td>\n",
       "      <td>43</td>\n",
       "      <td>2</td>\n",
       "      <td>125510.82</td>\n",
       "      <td>1</td>\n",
       "      <td>1</td>\n",
       "      <td>1</td>\n",
       "      <td>79084.10</td>\n",
       "      <td>0</td>\n",
       "    </tr>\n",
       "    <tr>\n",
       "      <th>...</th>\n",
       "      <td>...</td>\n",
       "      <td>...</td>\n",
       "      <td>...</td>\n",
       "      <td>...</td>\n",
       "      <td>...</td>\n",
       "      <td>...</td>\n",
       "      <td>...</td>\n",
       "      <td>...</td>\n",
       "      <td>...</td>\n",
       "      <td>...</td>\n",
       "      <td>...</td>\n",
       "    </tr>\n",
       "    <tr>\n",
       "      <th>9995</th>\n",
       "      <td>771</td>\n",
       "      <td>France</td>\n",
       "      <td>Male</td>\n",
       "      <td>39</td>\n",
       "      <td>5</td>\n",
       "      <td>0.00</td>\n",
       "      <td>2</td>\n",
       "      <td>1</td>\n",
       "      <td>0</td>\n",
       "      <td>96270.64</td>\n",
       "      <td>0</td>\n",
       "    </tr>\n",
       "    <tr>\n",
       "      <th>9996</th>\n",
       "      <td>516</td>\n",
       "      <td>France</td>\n",
       "      <td>Male</td>\n",
       "      <td>35</td>\n",
       "      <td>10</td>\n",
       "      <td>57369.61</td>\n",
       "      <td>1</td>\n",
       "      <td>1</td>\n",
       "      <td>1</td>\n",
       "      <td>101699.77</td>\n",
       "      <td>0</td>\n",
       "    </tr>\n",
       "    <tr>\n",
       "      <th>9997</th>\n",
       "      <td>709</td>\n",
       "      <td>France</td>\n",
       "      <td>Female</td>\n",
       "      <td>36</td>\n",
       "      <td>7</td>\n",
       "      <td>0.00</td>\n",
       "      <td>1</td>\n",
       "      <td>0</td>\n",
       "      <td>1</td>\n",
       "      <td>42085.58</td>\n",
       "      <td>1</td>\n",
       "    </tr>\n",
       "    <tr>\n",
       "      <th>9998</th>\n",
       "      <td>772</td>\n",
       "      <td>Germany</td>\n",
       "      <td>Male</td>\n",
       "      <td>42</td>\n",
       "      <td>3</td>\n",
       "      <td>75075.31</td>\n",
       "      <td>2</td>\n",
       "      <td>1</td>\n",
       "      <td>0</td>\n",
       "      <td>92888.52</td>\n",
       "      <td>1</td>\n",
       "    </tr>\n",
       "    <tr>\n",
       "      <th>9999</th>\n",
       "      <td>792</td>\n",
       "      <td>France</td>\n",
       "      <td>Female</td>\n",
       "      <td>28</td>\n",
       "      <td>4</td>\n",
       "      <td>130142.79</td>\n",
       "      <td>1</td>\n",
       "      <td>1</td>\n",
       "      <td>0</td>\n",
       "      <td>38190.78</td>\n",
       "      <td>0</td>\n",
       "    </tr>\n",
       "  </tbody>\n",
       "</table>\n",
       "<p>10000 rows × 11 columns</p>\n",
       "</div>"
      ],
      "text/plain": [
       "      CreditScore Geography  Gender  Age  Tenure    Balance  NumOfProducts  \\\n",
       "0             619    France  Female   42       2       0.00              1   \n",
       "1             608     Spain  Female   41       1   83807.86              1   \n",
       "2             502    France  Female   42       8  159660.80              3   \n",
       "3             699    France  Female   39       1       0.00              2   \n",
       "4             850     Spain  Female   43       2  125510.82              1   \n",
       "...           ...       ...     ...  ...     ...        ...            ...   \n",
       "9995          771    France    Male   39       5       0.00              2   \n",
       "9996          516    France    Male   35      10   57369.61              1   \n",
       "9997          709    France  Female   36       7       0.00              1   \n",
       "9998          772   Germany    Male   42       3   75075.31              2   \n",
       "9999          792    France  Female   28       4  130142.79              1   \n",
       "\n",
       "      HasCrCard  IsActiveMember  EstimatedSalary  Exited  \n",
       "0             1               1        101348.88       1  \n",
       "1             0               1        112542.58       0  \n",
       "2             1               0        113931.57       1  \n",
       "3             0               0         93826.63       0  \n",
       "4             1               1         79084.10       0  \n",
       "...         ...             ...              ...     ...  \n",
       "9995          1               0         96270.64       0  \n",
       "9996          1               1        101699.77       0  \n",
       "9997          0               1         42085.58       1  \n",
       "9998          1               0         92888.52       1  \n",
       "9999          1               0         38190.78       0  \n",
       "\n",
       "[10000 rows x 11 columns]"
      ]
     },
     "execution_count": 9,
     "metadata": {},
     "output_type": "execute_result"
    }
   ],
   "source": [
    "# <сбросим два столбца, которые не помогу нам предсказать целевой признак>\n",
    "df_ohe = df.drop(['Surname', 'RowNumber', 'CustomerId'], axis = 1)\n",
    "df_ohe"
   ]
  },
  {
   "cell_type": "markdown",
   "metadata": {},
   "source": [
    "Преобразуем категориальные признаки в количественные с помощью техники прямого кодирования (OHE), в этом поможет метод .get_dummies. Также проставим аргумент drop_first = True, чтобы один из столбцов наших фиктивных переменных для каждого признака был сброшен(это нужно чтобы не угодить в так называемую дамми-ловушку, когда фиктивных признаков слишком много)."
   ]
  },
  {
   "cell_type": "code",
   "execution_count": 10,
   "metadata": {},
   "outputs": [],
   "source": [
    "# <Преобразуем категориальные признаки в фиктивные переменные, и сбросим по одному из них у каждого признака.>\n",
    "df_ohe = pd.get_dummies(df_ohe, drop_first=True)"
   ]
  },
  {
   "cell_type": "markdown",
   "metadata": {},
   "source": [
    "Взглянем на датафрейм:"
   ]
  },
  {
   "cell_type": "code",
   "execution_count": 11,
   "metadata": {},
   "outputs": [
    {
     "name": "stdout",
     "output_type": "stream",
     "text": [
      "<class 'pandas.core.frame.DataFrame'>\n",
      "RangeIndex: 10000 entries, 0 to 9999\n",
      "Data columns (total 12 columns):\n",
      " #   Column             Non-Null Count  Dtype  \n",
      "---  ------             --------------  -----  \n",
      " 0   CreditScore        10000 non-null  int64  \n",
      " 1   Age                10000 non-null  int64  \n",
      " 2   Tenure             10000 non-null  int64  \n",
      " 3   Balance            10000 non-null  float64\n",
      " 4   NumOfProducts      10000 non-null  int64  \n",
      " 5   HasCrCard          10000 non-null  int64  \n",
      " 6   IsActiveMember     10000 non-null  int64  \n",
      " 7   EstimatedSalary    10000 non-null  float64\n",
      " 8   Exited             10000 non-null  int64  \n",
      " 9   Geography_Germany  10000 non-null  uint8  \n",
      " 10  Geography_Spain    10000 non-null  uint8  \n",
      " 11  Gender_Male        10000 non-null  uint8  \n",
      "dtypes: float64(2), int64(7), uint8(3)\n",
      "memory usage: 732.5 KB\n",
      "None\n"
     ]
    },
    {
     "data": {
      "text/html": [
       "<div>\n",
       "<style scoped>\n",
       "    .dataframe tbody tr th:only-of-type {\n",
       "        vertical-align: middle;\n",
       "    }\n",
       "\n",
       "    .dataframe tbody tr th {\n",
       "        vertical-align: top;\n",
       "    }\n",
       "\n",
       "    .dataframe thead th {\n",
       "        text-align: right;\n",
       "    }\n",
       "</style>\n",
       "<table border=\"1\" class=\"dataframe\">\n",
       "  <thead>\n",
       "    <tr style=\"text-align: right;\">\n",
       "      <th></th>\n",
       "      <th>CreditScore</th>\n",
       "      <th>Age</th>\n",
       "      <th>Tenure</th>\n",
       "      <th>Balance</th>\n",
       "      <th>NumOfProducts</th>\n",
       "      <th>HasCrCard</th>\n",
       "      <th>IsActiveMember</th>\n",
       "      <th>EstimatedSalary</th>\n",
       "      <th>Exited</th>\n",
       "      <th>Geography_Germany</th>\n",
       "      <th>Geography_Spain</th>\n",
       "      <th>Gender_Male</th>\n",
       "    </tr>\n",
       "  </thead>\n",
       "  <tbody>\n",
       "    <tr>\n",
       "      <th>0</th>\n",
       "      <td>619</td>\n",
       "      <td>42</td>\n",
       "      <td>2</td>\n",
       "      <td>0.00</td>\n",
       "      <td>1</td>\n",
       "      <td>1</td>\n",
       "      <td>1</td>\n",
       "      <td>101348.88</td>\n",
       "      <td>1</td>\n",
       "      <td>0</td>\n",
       "      <td>0</td>\n",
       "      <td>0</td>\n",
       "    </tr>\n",
       "    <tr>\n",
       "      <th>1</th>\n",
       "      <td>608</td>\n",
       "      <td>41</td>\n",
       "      <td>1</td>\n",
       "      <td>83807.86</td>\n",
       "      <td>1</td>\n",
       "      <td>0</td>\n",
       "      <td>1</td>\n",
       "      <td>112542.58</td>\n",
       "      <td>0</td>\n",
       "      <td>0</td>\n",
       "      <td>1</td>\n",
       "      <td>0</td>\n",
       "    </tr>\n",
       "    <tr>\n",
       "      <th>2</th>\n",
       "      <td>502</td>\n",
       "      <td>42</td>\n",
       "      <td>8</td>\n",
       "      <td>159660.80</td>\n",
       "      <td>3</td>\n",
       "      <td>1</td>\n",
       "      <td>0</td>\n",
       "      <td>113931.57</td>\n",
       "      <td>1</td>\n",
       "      <td>0</td>\n",
       "      <td>0</td>\n",
       "      <td>0</td>\n",
       "    </tr>\n",
       "    <tr>\n",
       "      <th>3</th>\n",
       "      <td>699</td>\n",
       "      <td>39</td>\n",
       "      <td>1</td>\n",
       "      <td>0.00</td>\n",
       "      <td>2</td>\n",
       "      <td>0</td>\n",
       "      <td>0</td>\n",
       "      <td>93826.63</td>\n",
       "      <td>0</td>\n",
       "      <td>0</td>\n",
       "      <td>0</td>\n",
       "      <td>0</td>\n",
       "    </tr>\n",
       "    <tr>\n",
       "      <th>4</th>\n",
       "      <td>850</td>\n",
       "      <td>43</td>\n",
       "      <td>2</td>\n",
       "      <td>125510.82</td>\n",
       "      <td>1</td>\n",
       "      <td>1</td>\n",
       "      <td>1</td>\n",
       "      <td>79084.10</td>\n",
       "      <td>0</td>\n",
       "      <td>0</td>\n",
       "      <td>1</td>\n",
       "      <td>0</td>\n",
       "    </tr>\n",
       "  </tbody>\n",
       "</table>\n",
       "</div>"
      ],
      "text/plain": [
       "   CreditScore  Age  Tenure    Balance  NumOfProducts  HasCrCard  \\\n",
       "0          619   42       2       0.00              1          1   \n",
       "1          608   41       1   83807.86              1          0   \n",
       "2          502   42       8  159660.80              3          1   \n",
       "3          699   39       1       0.00              2          0   \n",
       "4          850   43       2  125510.82              1          1   \n",
       "\n",
       "   IsActiveMember  EstimatedSalary  Exited  Geography_Germany  \\\n",
       "0               1        101348.88       1                  0   \n",
       "1               1        112542.58       0                  0   \n",
       "2               0        113931.57       1                  0   \n",
       "3               0         93826.63       0                  0   \n",
       "4               1         79084.10       0                  0   \n",
       "\n",
       "   Geography_Spain  Gender_Male  \n",
       "0                0            0  \n",
       "1                1            0  \n",
       "2                0            0  \n",
       "3                0            0  \n",
       "4                1            0  "
      ]
     },
     "execution_count": 11,
     "metadata": {},
     "output_type": "execute_result"
    }
   ],
   "source": [
    "# <Посмотрим первые 5 строк преобразованного датафрейма>\n",
    "print(df_ohe.info())\n",
    "df_ohe.head()"
   ]
  },
  {
   "cell_type": "markdown",
   "metadata": {},
   "source": [
    "Разобьем данные на две выборки: обучающую + валидационную и тестовую. Разобьем их в отношении 4:1, попробуем использовать в этом проекте кросс-валидацию, проставив относящийся к ней аргумент в методе GridSearchCV:"
   ]
  },
  {
   "cell_type": "code",
   "execution_count": 12,
   "metadata": {},
   "outputs": [],
   "source": [
    "# <Разделим обучающий датафрейм на features и target - целевой признак>\n",
    "target = df_ohe['Exited']\n",
    "features = df_ohe.drop('Exited', axis=1)\n",
    "\n",
    "# <Поделим датафрейм на обучающую выборку + валидационную выборку (которая далее будет использована для кросс-валидации) и тестовую выборку.>\n",
    "features_train, features_test, target_train, target_test = train_test_split(\n",
    "    features, target, test_size=0.2, random_state=12345)"
   ]
  },
  {
   "cell_type": "markdown",
   "metadata": {},
   "source": [
    "Проведем масштабирование признаков:"
   ]
  },
  {
   "cell_type": "code",
   "execution_count": 13,
   "metadata": {},
   "outputs": [],
   "source": [
    "# <конкретизируем какие признаки будем масшатбировать>\n",
    "numeric = ['CustomerId', 'CreditScore', 'Age', 'Tenure','Balance', 'NumOfProducts', 'EstimatedSalary']"
   ]
  },
  {
   "cell_type": "markdown",
   "metadata": {},
   "source": [
    "**Вывод:**\n",
    "* Мы осмотрели данные и заполнили пропуски самым очевидным образом.\n",
    "* Мы сменили тип данных, так как количество недвижимости дробится не может, и целочисленный тип здесь подходит лучше\n",
    "* Мы удалили из датафрейма столбцы, которые никак не помогут вычислить целевой признак.\n",
    "* Преобразовали категориальные признаки в количественные с помощью техники прямого кодирования (OHE), создали для этих признаков количественные фиктивные переменные.\n",
    "* Провели масштабирование признаков, чтобы алгоритм обучения не делал выводов о том что тот или иной признак важнее только из-за того что он измеряется в больших числах.\n",
    "* Разделили данные на обучающую + валидационную и тестовую выборки. Первую будем использовать для обучения и валидации когда будем перебирать гиперпараметры с помощью GridSearchCV - метода для исчерпывающего поиска по сетке гиперпараметров."
   ]
  },
  {
   "cell_type": "markdown",
   "metadata": {},
   "source": [
    "## Исследование задачи"
   ]
  },
  {
   "cell_type": "markdown",
   "metadata": {},
   "source": [
    "Исследуем баланс классов:"
   ]
  },
  {
   "cell_type": "code",
   "execution_count": 14,
   "metadata": {},
   "outputs": [
    {
     "name": "stdout",
     "output_type": "stream",
     "text": [
      "0    0.7963\n",
      "1    0.2037\n",
      "Name: Exited, dtype: float64\n"
     ]
    },
    {
     "data": {
      "text/plain": [
       "<AxesSubplot:title={'center':'Соотношение тех, кто остался и тех кто ушел'}>"
      ]
     },
     "execution_count": 14,
     "metadata": {},
     "output_type": "execute_result"
    },
    {
     "data": {
      "image/png": "[encoded data removed]",
      "text/plain": [
       "<Figure size 640x480 with 1 Axes>"
      ]
     },
     "metadata": {},
     "output_type": "display_data"
    }
   ],
   "source": [
    "class_frequency = target.value_counts(normalize=True)\n",
    "print(class_frequency)\n",
    "class_frequency.plot(kind='bar', title='Соотношение тех, кто остался и тех кто ушел')"
   ]
  },
  {
   "cell_type": "markdown",
   "metadata": {},
   "source": [
    "80% клиентов в датафрейме из банка не уходят - в классах дисбаланс. Идеальным балансом чтобы строить модели можно было бы назвать распределение 50/50. Попробуем обучить модель, несмотря на дисбаланс.\n",
    "\n",
    "Попробуем использовать GridSearchCV для подбора параметров модели дерева принятия решений. Я слышал что использование таких методов не рекомендуется в проекте без понимания того что в них происходит, поэтому постараюсь разъяснить код:\n",
    "\n",
    "* param_grid это словарь в котором указываются гиперпараметры и интервалы в которых они могут находится, или в случае если это категориальные признаки - возможные значения.\n",
    "* в np.arange в качестве третьего аргумента шаг. Первый и второй аргумент - начало и конец последовательности. np.arange(0.5, 1, 0.1) - тут в последовательности не будет единицы но будет [0.5, 0.6, 0.7, 0.8, 0.9].\n",
    "* max_leaf_nodes - максимальное количество листовых узлов (нижние узлы с ответами).\n",
    "* max_features - количеcтво используемых признаков.\n",
    "* min_samples_split - минимальное число объектов, при котором выполняется расщепление на узлы.\n",
    "* аргумент cv необходим для кросс-валидации, я изучил следующий спринт после этого, и поэтому имею представление о ней. Я выбрал 4 блока, так как ранее нам рекомедовали делить выборку на обучающую, валидационную и тестовую в соотношении 3:1:1. Соответственно 4 фолда это три фолда для обучения и один для валидации.\n",
    "* аргумент scoring указывает как будем оценивать модели, для моделей классификации необходимо использовать F1-меру."
   ]
  },
  {
   "cell_type": "code",
   "execution_count": 15,
   "metadata": {},
   "outputs": [
    {
     "name": "stdout",
     "output_type": "stream",
     "text": [
      "CPU times: user 33.7 s, sys: 234 ms, total: 33.9 s\n",
      "Wall time: 34 s\n"
     ]
    },
    {
     "data": {
      "text/plain": [
       "GridSearchCV(cv=4, estimator=DecisionTreeClassifier(random_state=12345),\n",
       "             param_grid={'max_depth': [None, 2, 4, 6, 8, 10, 12, 14, 16, 18,\n",
       "                                       20],\n",
       "                         'max_features': ['auto', 'sqrt', None],\n",
       "                         'max_leaf_nodes': [None, 10, 20, 30, 40, 50, 60, 70,\n",
       "                                            80, 90, 100],\n",
       "                         'min_samples_split': [2, 5, 10]},\n",
       "             scoring='f1')"
      ]
     },
     "execution_count": 15,
     "metadata": {},
     "output_type": "execute_result"
    }
   ],
   "source": [
    "%%time\n",
    "# <сетка гиперпараметров, по которой будет происходит исчерпывающий поиск>\n",
    "param_grid = {\n",
    "    'max_depth': [None] + list(np.arange(2, 21,2).astype(int)),\n",
    "    'max_features': ['auto', 'sqrt', None],\n",
    "    'max_leaf_nodes': [None] + list(np.arange(10, 101, 10).astype(int)),\n",
    "    'min_samples_split': [2, 5, 10]\n",
    "}\n",
    "\n",
    "# <дерево принятия решений к которому будем подбирать параметры>\n",
    "estimator = DecisionTreeClassifier(random_state = 12345)\n",
    "\n",
    "# <модель>\n",
    "model = GridSearchCV(estimator, param_grid, cv=4, scoring = 'f1')\n",
    "\n",
    "# <обучаем модель> \n",
    "model.fit(features_train, target_train)"
   ]
  },
  {
   "cell_type": "code",
   "execution_count": 16,
   "metadata": {},
   "outputs": [
    {
     "data": {
      "text/plain": [
       "0.576293867402631"
      ]
     },
     "execution_count": 16,
     "metadata": {},
     "output_type": "execute_result"
    }
   ],
   "source": [
    "# <среднее значение F1-меры по разным выборкам>\n",
    "model.best_score_"
   ]
  },
  {
   "cell_type": "markdown",
   "metadata": {},
   "source": [
    "Оценка неплоха, близка к оценке, к которой мы стремимся."
   ]
  },
  {
   "cell_type": "markdown",
   "metadata": {},
   "source": [
    "Чтобы посчитать для этой модели AUC-ROC, пришлось поднапрячься. В данном блоке мы импортируем саму оценку, скидываем индексы выборкам, так как если этого не сделать, в некоторых строках будет NaN. Далее мы выбираем количество наших блоков кросс-валидации = 4. И затем подсчитываем AUC_ROC для каждого варианта обучающей и валидационной выборки. Затем подсчитываем их среднее и получаем финальную оценку:"
   ]
  },
  {
   "cell_type": "code",
   "execution_count": 17,
   "metadata": {},
   "outputs": [
    {
     "data": {
      "text/plain": [
       "0.8850223488559845"
      ]
     },
     "execution_count": 17,
     "metadata": {},
     "output_type": "execute_result"
    }
   ],
   "source": [
    "features_train = features_train.reset_index(drop = True)\n",
    "target_train = target_train.reset_index(drop = True)\n",
    "\n",
    "auc_roc_scores = []\n",
    "\n",
    "sample_size = int(len(features_train)/4)\n",
    "\n",
    "for i in range(0, len(features_train), sample_size):\n",
    "    valid_indexes = list(range(i, i + sample_size))\n",
    "    train_indexes = list(range(0,len(features_train)))\n",
    "    del train_indexes[i:(i + sample_size)]\n",
    "    \n",
    "    features_valid = features_train.loc[valid_indexes,]\n",
    "    target_valid = target_train.loc[valid_indexes,]\n",
    "    probabilities_valid = model.predict_proba(features_valid)\n",
    "    probabilities_one_valid = probabilities_valid[:, 1]\n",
    "    auc_roc = roc_auc_score(target_valid,probabilities_one_valid)\n",
    "        \n",
    "    auc_roc_scores.append(auc_roc)\n",
    "\n",
    "auc_roc_scores = pd.Series(auc_roc_scores)\n",
    "final_score = auc_roc_scores.mean()\n",
    "final_score"
   ]
  },
  {
   "cell_type": "markdown",
   "metadata": {},
   "source": [
    "Эта оценка выше 0.5, а значит проходит проверку на адекватность. Но нам относительно далеко до идеальной оценки = 1."
   ]
  },
  {
   "cell_type": "code",
   "execution_count": 18,
   "metadata": {},
   "outputs": [
    {
     "data": {
      "text/plain": [
       "{'max_depth': 10,\n",
       " 'max_features': None,\n",
       " 'max_leaf_nodes': 100,\n",
       " 'min_samples_split': 2}"
      ]
     },
     "execution_count": 18,
     "metadata": {},
     "output_type": "execute_result"
    }
   ],
   "source": [
    "# <набор параметров, которые подобрал исчерпывающий поиск по гиперпараметрам модели.>\n",
    "model.best_params_"
   ]
  },
  {
   "cell_type": "markdown",
   "metadata": {},
   "source": [
    "Попробуем RandomizedSearchCV - случайный поиск по гиперпараметрам с моделью случайного леса.\n",
    "\n",
    "* bootstrap - Бутстрэп-агрегирование или бэггинг, алгоритм предназначенный для улучшения стабильности и точности алгоритмов машинного обучения, также уменьшает дисперсию и помогает избежать переобучения."
   ]
  },
  {
   "cell_type": "code",
   "execution_count": 19,
   "metadata": {},
   "outputs": [
    {
     "name": "stdout",
     "output_type": "stream",
     "text": [
      "CPU times: user 9.66 s, sys: 77.4 ms, total: 9.74 s\n",
      "Wall time: 9.76 s\n"
     ]
    },
    {
     "data": {
      "text/plain": [
       "RandomizedSearchCV(cv=4, estimator=RandomForestClassifier(random_state=12345),\n",
       "                   param_distributions={'bootstrap': [True, False],\n",
       "                                        'max_depth': [None, 2, 4, 6, 8, 10, 12,\n",
       "                                                      14, 16, 18, 20],\n",
       "                                        'max_features': ['auto', 'sqrt', None],\n",
       "                                        'max_leaf_nodes': [None, 10, 20, 30, 40,\n",
       "                                                           50, 60, 70, 80, 90,\n",
       "                                                           100],\n",
       "                                        'min_samples_split': [2, 5, 10],\n",
       "                                        'n_estimators': [2, 4, 6, 8, 10, 12, 14,\n",
       "                                                         16, 18, 20, 22, 24, 26,\n",
       "                                                         28, 30, 32, 34, 36, 38,\n",
       "                                                         40, 42, 44, 46, 48, 50,\n",
       "                                                         52, 54, 56, 58, 60, ...]},\n",
       "                   scoring='f1')"
      ]
     },
     "execution_count": 19,
     "metadata": {},
     "output_type": "execute_result"
    }
   ],
   "source": [
    "%%time\n",
    "# <сетка гиперпараметров, по которой будет происходит случайный поиск>\n",
    "param_grid = {\n",
    "    'n_estimators': list(np.arange(2, 101, 2).astype(int)),\n",
    "    'max_depth': [None] + list(np.arange(2, 21,2).astype(int)),\n",
    "    'max_features': ['auto', 'sqrt', None],\n",
    "    'max_leaf_nodes': [None] + list(np.arange(10, 101, 10).astype(int)),\n",
    "    'min_samples_split': [2, 5, 10],\n",
    "    'bootstrap': [True, False]\n",
    "}\n",
    "\n",
    "# <случайный лес к которому будем подбирать параметры>\n",
    "estimator = RandomForestClassifier(random_state = 12345)\n",
    "\n",
    "# <модель>\n",
    "model_rf = RandomizedSearchCV(estimator, param_grid, cv=4, scoring = 'f1')\n",
    "\n",
    "# <обучаем модель> \n",
    "model_rf.fit(features_train, target_train)"
   ]
  },
  {
   "cell_type": "code",
   "execution_count": 20,
   "metadata": {},
   "outputs": [
    {
     "data": {
      "text/plain": [
       "0.5672396489146506"
      ]
     },
     "execution_count": 20,
     "metadata": {},
     "output_type": "execute_result"
    }
   ],
   "source": [
    "# <среднее значение F1-меры по разным выборкам>\n",
    "model_rf.best_score_"
   ]
  },
  {
   "cell_type": "markdown",
   "metadata": {},
   "source": [
    "Оценка хуже чем у одного дерева принятия решений. Подсчитаем AUC-ROC:"
   ]
  },
  {
   "cell_type": "code",
   "execution_count": 21,
   "metadata": {},
   "outputs": [
    {
     "data": {
      "text/plain": [
       "0.8796108313276474"
      ]
     },
     "execution_count": 21,
     "metadata": {},
     "output_type": "execute_result"
    }
   ],
   "source": [
    "auc_roc_scores = []\n",
    "\n",
    "sample_size = int(len(features_train)/4)\n",
    "\n",
    "for i in range(0, len(features_train), sample_size):\n",
    "    valid_indexes = list(range(i, i + sample_size))\n",
    "    train_indexes = list(range(0,len(features_train)))\n",
    "    del train_indexes[i:(i + sample_size)]\n",
    "    \n",
    "    features_valid = features_train.loc[valid_indexes,]\n",
    "    target_valid = target_train.loc[valid_indexes,]\n",
    "    probabilities_valid = model_rf.predict_proba(features_valid)\n",
    "    probabilities_one_valid = probabilities_valid[:, 1]\n",
    "    auc_roc = roc_auc_score(target_valid,probabilities_one_valid)    \n",
    "    \n",
    "    auc_roc_scores.append(auc_roc)\n",
    "\n",
    "auc_roc_scores = pd.Series(auc_roc_scores)\n",
    "final_score = auc_roc_scores.mean()\n",
    "final_score"
   ]
  },
  {
   "cell_type": "markdown",
   "metadata": {},
   "source": [
    "Оценка разнится в зависимости от отработки случайного поиска, но примерно равна таковой у дерева принятия решений."
   ]
  },
  {
   "cell_type": "code",
   "execution_count": 22,
   "metadata": {},
   "outputs": [
    {
     "data": {
      "text/plain": [
       "{'n_estimators': 38,\n",
       " 'min_samples_split': 10,\n",
       " 'max_leaf_nodes': 80,\n",
       " 'max_features': None,\n",
       " 'max_depth': 18,\n",
       " 'bootstrap': False}"
      ]
     },
     "execution_count": 22,
     "metadata": {},
     "output_type": "execute_result"
    }
   ],
   "source": [
    "# <набор параметров, которые подобрал исчерпывающий поиск по гиперпараметрам модели.>\n",
    "model_rf.best_params_"
   ]
  },
  {
   "cell_type": "markdown",
   "metadata": {},
   "source": [
    "Попробуем логистическую регрессию:"
   ]
  },
  {
   "cell_type": "code",
   "execution_count": 23,
   "metadata": {},
   "outputs": [
    {
     "data": {
      "text/plain": [
       "0.08946019486953492"
      ]
     },
     "execution_count": 23,
     "metadata": {},
     "output_type": "execute_result"
    }
   ],
   "source": [
    "# <Создадим модель лог. регрессии,>\n",
    "model_lr = LogisticRegression(random_state=12345)\n",
    "\n",
    "# <Оценим качество модели, обученной в ходе перекрестной проверки>\n",
    "score = cross_val_score(model_lr,features_train, target_train,cv=4,scoring='f1').mean()\n",
    "\n",
    "# <обучаем модель> \n",
    "model_lr.fit(features_train, target_train)\n",
    "\n",
    "# <выведем долю правильных ответов>\n",
    "score"
   ]
  },
  {
   "cell_type": "markdown",
   "metadata": {},
   "source": [
    "Слабая оценка. В следующем пункте попробуем избавиться от дисбаланса, и снова обучить модель. Подсчитаем AUC-ROC:"
   ]
  },
  {
   "cell_type": "code",
   "execution_count": 24,
   "metadata": {},
   "outputs": [
    {
     "data": {
      "text/plain": [
       "0.6682627859402173"
      ]
     },
     "execution_count": 24,
     "metadata": {},
     "output_type": "execute_result"
    }
   ],
   "source": [
    "auc_roc_scores = []\n",
    "\n",
    "sample_size = int(len(features_train)/4)\n",
    "\n",
    "for i in range(0, len(features_train), sample_size):\n",
    "    valid_indexes = list(range(i, i + sample_size))\n",
    "    train_indexes = list(range(0,len(features_train)))\n",
    "    del train_indexes[i:(i + sample_size)]\n",
    "    \n",
    "    features_valid = features_train.loc[valid_indexes,]\n",
    "    target_valid = target_train.loc[valid_indexes,]\n",
    "    \n",
    "    probabilities_valid = model_lr.predict_proba(features_valid)\n",
    "    probabilities_one_valid = probabilities_valid[:, 1]\n",
    "    auc_roc = roc_auc_score(target_valid,probabilities_one_valid)\n",
    "        \n",
    "    auc_roc_scores.append(auc_roc)\n",
    "\n",
    "auc_roc_scores = pd.Series(auc_roc_scores)\n",
    "final_score = auc_roc_scores.mean()\n",
    "final_score"
   ]
  },
  {
   "cell_type": "markdown",
   "metadata": {},
   "source": [
    "Самая низкая оценка."
   ]
  },
  {
   "cell_type": "markdown",
   "metadata": {},
   "source": [
    "**Вывод:**\n",
    "* Мы оценили сбалансированность целевого признака, и выяснили что в нем присутствует дисбаланс.\n",
    "* Подобрали лучшие гиперпараметры для дерева принятия решений с помощью метода GridSearchCV.\n",
    "* Подобрали гиперпараметры для случайного леса с помощью метода RandomizedSearchCV. Получили результат примерно равный результату у дерева принятия решений.\n",
    "* Попробовали обучить логистическую регрессию, но получили оценку гораздо хуже чем у \"деревянных\" алгоритмов.\n",
    "\n",
    "В следующем пункте избавимся от дисбаланса и снова обучим модель."
   ]
  },
  {
   "cell_type": "markdown",
   "metadata": {},
   "source": [
    "\n",
    "\n",
    "## Борьба с дисбалансом"
   ]
  },
  {
   "cell_type": "markdown",
   "metadata": {},
   "source": [
    "Начнем, относительно, с начала. Это необходимо, так как кросс-валидацию и перебор параметров теперь нам придется проводить самостоятельно. Пришлось делать именно так из-за того я не имею представления как делать upsampling в методах аля GridSearchCV, единственное что там обнаружено для баланса классов - class_weight = 'balanced'."
   ]
  },
  {
   "cell_type": "markdown",
   "metadata": {},
   "source": [
    "В данном цикле происходит перебор моделей дерева принятия решений с различными гиперпараметрами, затем идет оценка модели на валидационной выборке, используется кросс-валидация, написанная на питоне. Она была изучена в следующем спринте. Также происходит апсемплинг положительного класса.\n",
    "\n",
    "Здесь и далее будет происходит перебор не всех возможных значений гиперпараметров, я специально напишу код так, чтобы в переменной model была сохранена лучшая модель и можно было бы быстрее посчитать AUC-ROC."
   ]
  },
  {
   "cell_type": "code",
   "execution_count": 25,
   "metadata": {},
   "outputs": [
    {
     "name": "stdout",
     "output_type": "stream",
     "text": [
      "max_depth = 2 min_samples_split = 2 : 0.5133\n",
      "max_depth = 2 min_samples_split = 5 : 0.5133\n",
      "max_depth = 2 min_samples_split = 10 : 0.5133\n",
      "max_depth = 4 min_samples_split = 2 : 0.5254\n",
      "max_depth = 4 min_samples_split = 5 : 0.5254\n",
      "max_depth = 4 min_samples_split = 10 : 0.5254\n",
      "max_depth = 6 min_samples_split = 2 : 0.5607\n",
      "max_depth = 6 min_samples_split = 5 : 0.5607\n",
      "max_depth = 6 min_samples_split = 10 : 0.5606\n",
      "CPU times: user 1.62 s, sys: 174 ms, total: 1.8 s\n",
      "Wall time: 677 ms\n"
     ]
    }
   ],
   "source": [
    "%%time\n",
    "for depth in range(2,7,2):\n",
    "    for samples in [2, 5, 10]:\n",
    "        model = DecisionTreeClassifier(random_state=0, max_depth=depth, \n",
    "                                               min_samples_split = samples\n",
    "                                               )\n",
    "                \n",
    "        sample_size = int(len(features_train)/4)\n",
    "        scores = []\n",
    "        \n",
    "        for i in range(0, len(features_train), sample_size):\n",
    "            valid_indexes = list(range(i, i + sample_size))\n",
    "            train_indexes = list(range(0,len(features_train)))\n",
    "                    \n",
    "            del train_indexes[i:(i + sample_size)]\n",
    "                    \n",
    "            features_train_1 = features_train.loc[train_indexes,]\n",
    "            features_valid = features_train.loc[valid_indexes,]\n",
    "            target_train_1 = target_train.loc[train_indexes,]\n",
    "            target_valid = target_train.loc[valid_indexes,]\n",
    "                    \n",
    "            features_train_1['Exited'] = target_train_1\n",
    "                \n",
    "            features_train_majority = features_train_1[features_train_1.Exited==0]\n",
    "            features_train_minority = features_train_1[features_train_1.Exited==1]\n",
    "                    \n",
    "            features_train_minority_upsampled = resample(features_train_minority, \n",
    "                                 replace=True,     \n",
    "                                 n_samples=int(features_train_majority['Age'].count()),    \n",
    "                                 random_state=123)\n",
    "            \n",
    "            features_train_upsampled = pd.concat([features_train_majority, features_train_minority_upsampled])\n",
    "                    \n",
    "                    \n",
    "            target_train_upsampled = features_train_upsampled['Exited']\n",
    "            features_train_upsampled = features_train_upsampled.drop('Exited', axis=1)\n",
    "                    \n",
    "            model.fit(features_train_upsampled, target_train_upsampled)\n",
    "            predictions = model.predict(features_valid)\n",
    "            score = f1_score(target_valid, predictions)\n",
    "            scores.append(score)\n",
    "                    \n",
    "            if i == (sample_size * 3):\n",
    "                scores = pd.Series(scores)\n",
    "                print('max_depth =',depth,'min_samples_split =',samples,': {:.4f}'.format(scores.mean()))"
   ]
  },
  {
   "cell_type": "markdown",
   "metadata": {},
   "source": [
    "Лучшая оценка у дерева с параметрами max_depth = 6, min_samples_split = 10. Она равна 0.5606. Она ниже чем у дерева, подобранного GridSearchCV. Но и гиперпараметров мы перебирали меньше. Подсчитаем AUC-ROC:"
   ]
  },
  {
   "cell_type": "code",
   "execution_count": 26,
   "metadata": {},
   "outputs": [
    {
     "data": {
      "text/plain": [
       "0.850895259357214"
      ]
     },
     "execution_count": 26,
     "metadata": {},
     "output_type": "execute_result"
    }
   ],
   "source": [
    "auc_roc_scores = []\n",
    "\n",
    "sample_size = int(len(features_train)/4)\n",
    "\n",
    "for i in range(0, len(features_train), sample_size):\n",
    "    valid_indexes = list(range(i, i + sample_size))\n",
    "    train_indexes = list(range(0,len(features_train)))\n",
    "    del train_indexes[i:(i + sample_size)]\n",
    "    \n",
    "    features_valid = features_train.loc[valid_indexes,]\n",
    "    target_valid = target_train.loc[valid_indexes,]\n",
    "    probabilities_valid = model.predict_proba(features_valid)\n",
    "    probabilities_one_valid = probabilities_valid[:, 1]\n",
    "    auc_roc = roc_auc_score(target_valid,probabilities_one_valid)    \n",
    "    \n",
    "    auc_roc_scores.append(auc_roc)\n",
    "\n",
    "auc_roc_scores = pd.Series(auc_roc_scores)\n",
    "final_score = auc_roc_scores.mean()\n",
    "final_score"
   ]
  },
  {
   "cell_type": "markdown",
   "metadata": {},
   "source": [
    "Далее опробуем тоже самое обучение на логистической регресии:"
   ]
  },
  {
   "cell_type": "code",
   "execution_count": 27,
   "metadata": {},
   "outputs": [
    {
     "name": "stdout",
     "output_type": "stream",
     "text": [
      "f1_score = 0.4130\n",
      "CPU times: user 797 ms, sys: 143 ms, total: 940 ms\n",
      "Wall time: 136 ms\n"
     ]
    }
   ],
   "source": [
    "%%time\n",
    "model = LogisticRegression()\n",
    "                \n",
    "sample_size = int(len(features_train)/4)\n",
    "scores = []\n",
    "        \n",
    "for i in range(0, len(features_train), sample_size):\n",
    "    valid_indexes = list(range(i, i + sample_size))\n",
    "    train_indexes = list(range(0,len(features_train)))\n",
    "                    \n",
    "    del train_indexes[i:(i + sample_size)]\n",
    "                    \n",
    "    features_train_1 = features_train.loc[train_indexes,]\n",
    "    features_valid = features_train.loc[valid_indexes,]\n",
    "    target_train_1 = target_train.loc[train_indexes,]\n",
    "    target_valid = target_train.loc[valid_indexes,]\n",
    "                    \n",
    "    features_train_1['Exited'] = target_train_1\n",
    "                \n",
    "    features_train_majority = features_train_1[features_train_1.Exited==0]\n",
    "    features_train_minority = features_train_1[features_train_1.Exited==1]\n",
    "                    \n",
    "    features_train_minority_upsampled = resample(features_train_minority, \n",
    "                                 replace=True,     \n",
    "                                 n_samples=int(features_train_majority['Age'].count()),    \n",
    "                                 random_state=123)\n",
    "            \n",
    "    features_train_upsampled = pd.concat([features_train_majority, features_train_minority_upsampled])\n",
    "                    \n",
    "                    \n",
    "    target_train_upsampled = features_train_upsampled['Exited']\n",
    "    features_train_upsampled = features_train_upsampled.drop('Exited', axis=1)\n",
    "                    \n",
    "    model.fit(features_train_upsampled, target_train_upsampled)\n",
    "    predictions = model.predict(features_valid)\n",
    "    score = f1_score(target_valid, predictions)\n",
    "    scores.append(score)\n",
    "                    \n",
    "    if i == (sample_size * 3):\n",
    "        scores = pd.Series(scores)\n",
    "        print('f1_score =','{:.4f}'.format(scores.mean()))"
   ]
  },
  {
   "cell_type": "code",
   "execution_count": 28,
   "metadata": {},
   "outputs": [
    {
     "data": {
      "text/plain": [
       "0.7055421228850921"
      ]
     },
     "execution_count": 28,
     "metadata": {},
     "output_type": "execute_result"
    }
   ],
   "source": [
    "auc_roc_scores = []\n",
    "\n",
    "sample_size = int(len(features_train)/4)\n",
    "\n",
    "for i in range(0, len(features_train), sample_size):\n",
    "    valid_indexes = list(range(i, i + sample_size))\n",
    "    train_indexes = list(range(0,len(features_train)))\n",
    "    del train_indexes[i:(i + sample_size)]\n",
    "    \n",
    "    features_valid = features_train.loc[valid_indexes,]\n",
    "    target_valid = target_train.loc[valid_indexes,]\n",
    "    probabilities_valid = model.predict_proba(features_valid)\n",
    "    probabilities_one_valid = probabilities_valid[:, 1]\n",
    "    auc_roc = roc_auc_score(target_valid,probabilities_one_valid)    \n",
    "    \n",
    "    auc_roc_scores.append(auc_roc)\n",
    "\n",
    "auc_roc_scores = pd.Series(auc_roc_scores)\n",
    "final_score = auc_roc_scores.mean()\n",
    "final_score"
   ]
  },
  {
   "cell_type": "markdown",
   "metadata": {},
   "source": [
    "Результат улучшился и довольно сильно, баланс классов имеет большое значение для логистической регрессии."
   ]
  },
  {
   "cell_type": "markdown",
   "metadata": {},
   "source": [
    "Попробуем наш алгоритм перебора и обучения с апсемплингом на случайном лесе. Здесь установим гиперпараметры дерева те что подобрали у дерева принятия решений и будем перебирать только количество деревьев."
   ]
  },
  {
   "cell_type": "code",
   "execution_count": 29,
   "metadata": {},
   "outputs": [],
   "source": [
    "for est in range(10, 51, 10):\n",
    "    for depth in range(1, 6):\n",
    "        auc_roc_scores = RandomForestClassifier(random_state=12345, n_estimators=est, max_depth=depth)"
   ]
  },
  {
   "cell_type": "code",
   "execution_count": 30,
   "metadata": {},
   "outputs": [
    {
     "data": {
      "text/plain": [
       "RandomForestClassifier(max_depth=5, n_estimators=50, random_state=12345)"
      ]
     },
     "execution_count": 30,
     "metadata": {},
     "output_type": "execute_result"
    }
   ],
   "source": [
    "auc_roc_scores"
   ]
  },
  {
   "cell_type": "code",
   "execution_count": 31,
   "metadata": {},
   "outputs": [
    {
     "name": "stdout",
     "output_type": "stream",
     "text": [
      "n_estimators = 2 : 0.5494\n",
      "n_estimators = 4 : 0.5669\n",
      "n_estimators = 6 : 0.5721\n",
      "n_estimators = 8 : 0.5866\n",
      "n_estimators = 10 : 0.5898\n",
      "n_estimators = 12 : 0.5889\n",
      "n_estimators = 14 : 0.5844\n",
      "n_estimators = 16 : 0.5848\n",
      "n_estimators = 18 : 0.5850\n",
      "CPU times: user 2.72 s, sys: 187 ms, total: 2.91 s\n",
      "Wall time: 1.95 s\n"
     ]
    }
   ],
   "source": [
    "%%time\n",
    "for estimators in range(2,20,2):\n",
    "    model = RandomForestClassifier(random_state=0, max_depth=6, \n",
    "                                               min_samples_split = 10,\n",
    "                                               n_estimators = estimators)\n",
    "                \n",
    "    sample_size = int(len(features_train)/4)\n",
    "    scores = []\n",
    "        \n",
    "    for i in range(0, len(features_train), sample_size):\n",
    "        valid_indexes = list(range(i, i + sample_size))\n",
    "        train_indexes = list(range(0,len(features_train)))\n",
    "                    \n",
    "        del train_indexes[i:(i + sample_size)]\n",
    "                    \n",
    "        features_train_1 = features_train.loc[train_indexes,]\n",
    "        features_valid = features_train.loc[valid_indexes,]\n",
    "        target_train_1 = target_train.loc[train_indexes,]\n",
    "        target_valid = target_train.loc[valid_indexes,]\n",
    "                    \n",
    "        features_train_1['Exited'] = target_train_1\n",
    "                \n",
    "        features_train_majority = features_train_1[features_train_1.Exited==0]\n",
    "        features_train_minority = features_train_1[features_train_1.Exited==1]\n",
    "                    \n",
    "        features_train_minority_upsampled = resample(features_train_minority, \n",
    "                                 replace=True,     \n",
    "                                 n_samples=int(features_train_majority['Age'].count()),    \n",
    "                                 random_state=123)\n",
    "            \n",
    "        features_train_upsampled = pd.concat([features_train_majority, features_train_minority_upsampled])\n",
    "                    \n",
    "                    \n",
    "        target_train_upsampled = features_train_upsampled['Exited']\n",
    "        features_train_upsampled = features_train_upsampled.drop('Exited', axis=1)\n",
    "                    \n",
    "        model.fit(features_train_upsampled, target_train_upsampled)\n",
    "        predictions = model.predict(features_valid)\n",
    "        score = f1_score(target_valid, predictions)\n",
    "        scores.append(score)\n",
    "                    \n",
    "        if i == (sample_size * 3):\n",
    "            scores = pd.Series(scores)\n",
    "            print('n_estimators =',estimators,': {:.4f}'.format(scores.mean()))"
   ]
  },
  {
   "cell_type": "code",
   "execution_count": 32,
   "metadata": {},
   "outputs": [
    {
     "data": {
      "text/plain": [
       "0.87494080668552"
      ]
     },
     "execution_count": 32,
     "metadata": {},
     "output_type": "execute_result"
    }
   ],
   "source": [
    "auc_roc_scores = []\n",
    "\n",
    "sample_size = int(len(features_train)/4)\n",
    "\n",
    "for i in range(0, len(features_train), sample_size):\n",
    "    valid_indexes = list(range(i, i + sample_size))\n",
    "    train_indexes = list(range(0,len(features_train)))\n",
    "    del train_indexes[i:(i + sample_size)]\n",
    "    \n",
    "    features_valid = features_train.loc[valid_indexes,]\n",
    "    target_valid = target_train.loc[valid_indexes,]\n",
    "    probabilities_valid = model.predict_proba(features_valid)\n",
    "    probabilities_one_valid = probabilities_valid[:, 1]\n",
    "    auc_roc = roc_auc_score(target_valid,probabilities_one_valid)    \n",
    "    \n",
    "    auc_roc_scores.append(auc_roc)\n",
    "\n",
    "auc_roc_scores = pd.Series(auc_roc_scores)\n",
    "final_score = auc_roc_scores.mean()\n",
    "final_score"
   ]
  },
  {
   "cell_type": "markdown",
   "metadata": {},
   "source": [
    "Отличный результат, в качестве бонуса проверим, сможет ли class_weight = 'balanced' выдать результат лучше на валидационной выборке."
   ]
  },
  {
   "cell_type": "code",
   "execution_count": 33,
   "metadata": {},
   "outputs": [
    {
     "name": "stdout",
     "output_type": "stream",
     "text": [
      "CPU times: user 12.3 s, sys: 106 ms, total: 12.4 s\n",
      "Wall time: 12.5 s\n"
     ]
    },
    {
     "data": {
      "text/plain": [
       "0.6106572403293884"
      ]
     },
     "execution_count": 33,
     "metadata": {},
     "output_type": "execute_result"
    }
   ],
   "source": [
    "%%time\n",
    "# <сетка гиперпараметров, по которой будет происходит случайный поиск>\n",
    "param_grid = {\n",
    "    'n_estimators': list(np.arange(2, 101, 2).astype(int)),\n",
    "    'max_depth': [None] + list(np.arange(2, 21,2).astype(int)),\n",
    "    'max_features': ['auto', 'sqrt', None],\n",
    "    'max_leaf_nodes': [None] + list(np.arange(10, 101, 10).astype(int)),\n",
    "    'min_samples_split': [2, 5, 10],\n",
    "    'bootstrap': [True, False]\n",
    "}\n",
    "\n",
    "# <случайный лес к которому будем подбирать параметры>\n",
    "estimator = RandomForestClassifier(random_state = 12345, class_weight = 'balanced')\n",
    "\n",
    "# <модель>\n",
    "model_rf = RandomizedSearchCV(estimator, param_grid, cv=4, scoring = 'f1')\n",
    "\n",
    "# <обучаем модель> \n",
    "model_rf.fit(features_train, target_train)\n",
    "\n",
    "# <среднее значение F1-меры по разным выборкам>\n",
    "model_rf.best_score_"
   ]
  },
  {
   "cell_type": "markdown",
   "metadata": {},
   "source": [
    "Нет)"
   ]
  },
  {
   "cell_type": "markdown",
   "metadata": {},
   "source": [
    "**Вывод:**\n",
    "Мы обучили модели дерева принятия решений, случайного леса и логистической регресии, при обучении применяли кросс-валидацию, а также боролись с дисбалансом классов с помощью апсемплинга. Мы смогли добиться на валидационных выборках нужного нам результата, осталось проверить нашу сильнейшую модель на тестовой выборке."
   ]
  },
  {
   "cell_type": "markdown",
   "metadata": {},
   "source": [
    "## Тестирование модели"
   ]
  },
  {
   "cell_type": "markdown",
   "metadata": {},
   "source": [
    "Проведем тестирование модели случайного леса (гиперпараметры для которого подбирались с помощью цикла) на тестовой выборке."
   ]
  },
  {
   "cell_type": "code",
   "execution_count": 34,
   "metadata": {},
   "outputs": [
    {
     "data": {
      "text/plain": [
       "0.636904761904762"
      ]
     },
     "execution_count": 34,
     "metadata": {},
     "output_type": "execute_result"
    }
   ],
   "source": [
    "predictions = model.predict(features_test)\n",
    "\n",
    "f1_score(target_test, predictions)"
   ]
  },
  {
   "cell_type": "markdown",
   "metadata": {},
   "source": [
    "Проведем тестирование модели случайного леса (гиперпараметры для которого подбирались случайным поиском) на тестовой выборке.\n"
   ]
  },
  {
   "cell_type": "code",
   "execution_count": 35,
   "metadata": {},
   "outputs": [
    {
     "data": {
      "text/plain": [
       "0.6349534643226474"
      ]
     },
     "execution_count": 35,
     "metadata": {},
     "output_type": "execute_result"
    }
   ],
   "source": [
    "predictions = model_rf.predict(features_test)\n",
    "\n",
    "f1_score(target_test, predictions)"
   ]
  },
  {
   "cell_type": "markdown",
   "metadata": {},
   "source": [
    "Случайный поиск по гиперпараметрам оказался сильнее. Подсчитаем AUC-ROC для обоих моделей. Сначала для первой:"
   ]
  },
  {
   "cell_type": "code",
   "execution_count": 36,
   "metadata": {},
   "outputs": [
    {
     "data": {
      "text/plain": [
       "0.8651787854470419"
      ]
     },
     "execution_count": 36,
     "metadata": {},
     "output_type": "execute_result"
    }
   ],
   "source": [
    "probabilities_valid = model.predict_proba(features_test)\n",
    "probabilities_one_valid = probabilities_valid[:, 1]\n",
    "auc_roc = roc_auc_score(target_test,probabilities_one_valid)    \n",
    "    \n",
    "auc_roc"
   ]
  },
  {
   "cell_type": "markdown",
   "metadata": {},
   "source": [
    "Затем для второй:"
   ]
  },
  {
   "cell_type": "code",
   "execution_count": 37,
   "metadata": {},
   "outputs": [
    {
     "data": {
      "text/plain": [
       "0.865696896248312"
      ]
     },
     "execution_count": 37,
     "metadata": {},
     "output_type": "execute_result"
    }
   ],
   "source": [
    "probabilities_valid = model_rf.predict_proba(features_test)\n",
    "probabilities_one_valid = probabilities_valid[:, 1]\n",
    "auc_roc = roc_auc_score(target_test,probabilities_one_valid)    \n",
    "    \n",
    "auc_roc"
   ]
  },
  {
   "cell_type": "markdown",
   "metadata": {},
   "source": [
    "Ожидаемо вторая модель чуть-чуть сильнее."
   ]
  },
  {
   "cell_type": "markdown",
   "metadata": {},
   "source": [
    "# Вывод\n",
    "Мы проверили наши сильнейшие модели на тестовой выборке. И они смогли дать высокое значение F1-меры, это хорошо."
   ]
  },
  {
   "cell_type": "code",
   "execution_count": 38,
   "metadata": {},
   "outputs": [],
   "source": [
    "rezult1 = {'Дерево Решения':np.array([0.586,0.582]),'Случайный лес':np.array([0.571,0.612]),'Логистическая регрессия':np.array([0.318,0.478])}\n",
    "rezult_df = pd.DataFrame(rezult1,index=['F1: исключая дисбаланс','F1: с учетом дисбаланса'])"
   ]
  },
  {
   "cell_type": "code",
   "execution_count": 39,
   "metadata": {},
   "outputs": [
    {
     "data": {
      "text/html": [
       "<div>\n",
       "<style scoped>\n",
       "    .dataframe tbody tr th:only-of-type {\n",
       "        vertical-align: middle;\n",
       "    }\n",
       "\n",
       "    .dataframe tbody tr th {\n",
       "        vertical-align: top;\n",
       "    }\n",
       "\n",
       "    .dataframe thead th {\n",
       "        text-align: right;\n",
       "    }\n",
       "</style>\n",
       "<table border=\"1\" class=\"dataframe\">\n",
       "  <thead>\n",
       "    <tr style=\"text-align: right;\">\n",
       "      <th></th>\n",
       "      <th>Дерево Решения</th>\n",
       "      <th>Случайный лес</th>\n",
       "      <th>Логистическая регрессия</th>\n",
       "    </tr>\n",
       "  </thead>\n",
       "  <tbody>\n",
       "    <tr>\n",
       "      <th>F1: исключая дисбаланс</th>\n",
       "      <td>0.586</td>\n",
       "      <td>0.571</td>\n",
       "      <td>0.318</td>\n",
       "    </tr>\n",
       "    <tr>\n",
       "      <th>F1: с учетом дисбаланса</th>\n",
       "      <td>0.582</td>\n",
       "      <td>0.612</td>\n",
       "      <td>0.478</td>\n",
       "    </tr>\n",
       "  </tbody>\n",
       "</table>\n",
       "</div>"
      ],
      "text/plain": [
       "                         Дерево Решения  Случайный лес  \\\n",
       "F1: исключая дисбаланс            0.586          0.571   \n",
       "F1: с учетом дисбаланса           0.582          0.612   \n",
       "\n",
       "                         Логистическая регрессия  \n",
       "F1: исключая дисбаланс                     0.318  \n",
       "F1: с учетом дисбаланса                    0.478  "
      ]
     },
     "execution_count": 39,
     "metadata": {},
     "output_type": "execute_result"
    }
   ],
   "source": [
    "rezult_df"
   ]
  },
  {
   "cell_type": "markdown",
   "metadata": {},
   "source": [
    "Рассматривая данные с учетом дисбаланса + переведенные категориальные + стандартизированные данные и без учета дисбаланса тремя моделями можно сделать вывод, что самая лучшая модель оказалась Случайный лес. При лучшем значении max_depth=9,n_estimators=50, мы имеем F1 меру =0,612 на тестовой(валидной) выборке. Хуже всего себя показала модель Логистическая регрессия"
   ]
  }
 ],
 "metadata": {
  "ExecuteTimeLog": [
   {
    "duration": 1660,
    "start_time": "2023-03-01T12:22:20.002Z"
   },
   {
    "duration": 139,
    "start_time": "2023-03-01T12:24:01.823Z"
   },
   {
    "duration": 183,
    "start_time": "2023-03-01T12:24:11.689Z"
   },
   {
    "duration": 28,
    "start_time": "2023-03-01T12:24:12.657Z"
   },
   {
    "duration": 22,
    "start_time": "2023-03-01T12:24:20.759Z"
   },
   {
    "duration": 4,
    "start_time": "2023-03-01T12:26:37.873Z"
   },
   {
    "duration": 4,
    "start_time": "2023-03-01T12:26:45.139Z"
   },
   {
    "duration": 12,
    "start_time": "2023-03-01T12:26:51.744Z"
   },
   {
    "duration": 55,
    "start_time": "2023-03-02T12:12:30.007Z"
   },
   {
    "duration": 1766,
    "start_time": "2023-03-02T12:12:34.279Z"
   },
   {
    "duration": 389,
    "start_time": "2023-03-02T12:12:36.047Z"
   },
   {
    "duration": 28,
    "start_time": "2023-03-02T12:12:36.437Z"
   },
   {
    "duration": 4,
    "start_time": "2023-03-02T12:12:36.467Z"
   },
   {
    "duration": 7,
    "start_time": "2023-03-02T12:12:36.472Z"
   },
   {
    "duration": 13,
    "start_time": "2023-03-02T12:12:36.480Z"
   },
   {
    "duration": 49,
    "start_time": "2023-03-02T14:12:10.896Z"
   },
   {
    "duration": 1539,
    "start_time": "2023-03-02T14:12:20.328Z"
   },
   {
    "duration": 82,
    "start_time": "2023-03-02T14:12:21.869Z"
   },
   {
    "duration": 29,
    "start_time": "2023-03-02T14:12:21.953Z"
   },
   {
    "duration": 61,
    "start_time": "2023-03-02T14:12:21.985Z"
   },
   {
    "duration": 47,
    "start_time": "2023-03-02T14:12:22.048Z"
   },
   {
    "duration": 48,
    "start_time": "2023-03-02T14:12:22.097Z"
   },
   {
    "duration": 82,
    "start_time": "2023-03-02T14:12:23.799Z"
   },
   {
    "duration": 6,
    "start_time": "2023-03-02T14:13:00.751Z"
   },
   {
    "duration": 20,
    "start_time": "2023-03-02T14:14:17.953Z"
   },
   {
    "duration": 13,
    "start_time": "2023-03-02T14:14:31.698Z"
   },
   {
    "duration": 1622,
    "start_time": "2023-03-11T19:44:38.328Z"
   },
   {
    "duration": 414,
    "start_time": "2023-03-11T19:44:40.980Z"
   },
   {
    "duration": 27,
    "start_time": "2023-03-11T19:44:42.284Z"
   },
   {
    "duration": 4,
    "start_time": "2023-03-11T19:44:43.684Z"
   },
   {
    "duration": 4,
    "start_time": "2023-03-11T19:44:44.313Z"
   },
   {
    "duration": 14,
    "start_time": "2023-03-11T19:44:45.945Z"
   },
   {
    "duration": 5,
    "start_time": "2023-03-11T19:44:47.327Z"
   },
   {
    "duration": 11,
    "start_time": "2023-03-11T19:44:47.981Z"
   },
   {
    "duration": 11,
    "start_time": "2023-03-11T19:46:19.293Z"
   },
   {
    "duration": 28,
    "start_time": "2023-03-11T19:46:33.549Z"
   },
   {
    "duration": 25,
    "start_time": "2023-03-11T19:47:08.616Z"
   },
   {
    "duration": 9,
    "start_time": "2023-03-11T19:47:21.083Z"
   },
   {
    "duration": 5,
    "start_time": "2023-03-11T19:48:33.887Z"
   },
   {
    "duration": 4,
    "start_time": "2023-03-11T19:48:47.065Z"
   },
   {
    "duration": 26,
    "start_time": "2023-03-11T19:48:55.784Z"
   },
   {
    "duration": 163,
    "start_time": "2023-03-11T19:56:22.235Z"
   },
   {
    "duration": 65461,
    "start_time": "2023-03-11T19:58:19.256Z"
   },
   {
    "duration": 4,
    "start_time": "2023-03-11T19:59:29.117Z"
   },
   {
    "duration": 28,
    "start_time": "2023-03-11T20:00:56.680Z"
   },
   {
    "duration": 4,
    "start_time": "2023-03-11T20:01:17.341Z"
   },
   {
    "duration": 16560,
    "start_time": "2023-03-11T20:03:04.080Z"
   },
   {
    "duration": 4,
    "start_time": "2023-03-11T20:03:26.320Z"
   },
   {
    "duration": 167,
    "start_time": "2023-03-11T20:03:39.802Z"
   },
   {
    "duration": 4,
    "start_time": "2023-03-11T20:04:50.281Z"
   },
   {
    "duration": 3,
    "start_time": "2023-03-11T20:05:12.169Z"
   },
   {
    "duration": 4896,
    "start_time": "2023-03-11T20:05:20.158Z"
   },
   {
    "duration": 114,
    "start_time": "2023-03-11T20:05:42.444Z"
   },
   {
    "duration": 3,
    "start_time": "2023-03-11T20:09:31.008Z"
   },
   {
    "duration": 1317,
    "start_time": "2023-03-11T20:09:52.031Z"
   },
   {
    "duration": 32,
    "start_time": "2023-03-11T20:10:13.408Z"
   },
   {
    "duration": 2200,
    "start_time": "2023-03-11T20:10:33.177Z"
   },
   {
    "duration": 152,
    "start_time": "2023-03-11T20:10:42.708Z"
   },
   {
    "duration": 3057,
    "start_time": "2023-03-11T20:11:10.236Z"
   },
   {
    "duration": 67,
    "start_time": "2023-03-11T20:11:21.629Z"
   },
   {
    "duration": 30074,
    "start_time": "2023-03-11T20:11:35.975Z"
   },
   {
    "duration": 17,
    "start_time": "2023-03-11T20:12:34.628Z"
   },
   {
    "duration": 41,
    "start_time": "2023-03-11T20:12:40.475Z"
   },
   {
    "duration": 36,
    "start_time": "2023-03-11T20:12:59.398Z"
   },
   {
    "duration": 16,
    "start_time": "2023-03-11T20:13:11.818Z"
   },
   {
    "duration": 54,
    "start_time": "2023-03-11T20:13:24.098Z"
   },
   {
    "duration": 51,
    "start_time": "2023-03-13T11:53:57.237Z"
   },
   {
    "duration": 1687,
    "start_time": "2023-03-13T11:54:04.850Z"
   },
   {
    "duration": 92,
    "start_time": "2023-03-13T11:54:06.539Z"
   },
   {
    "duration": 34,
    "start_time": "2023-03-13T11:54:06.633Z"
   },
   {
    "duration": 7,
    "start_time": "2023-03-13T11:54:06.669Z"
   },
   {
    "duration": 24,
    "start_time": "2023-03-13T11:54:56.816Z"
   },
   {
    "duration": 24,
    "start_time": "2023-03-13T11:57:32.709Z"
   },
   {
    "duration": 28,
    "start_time": "2023-03-13T11:57:40.793Z"
   },
   {
    "duration": 22,
    "start_time": "2023-03-13T11:58:06.528Z"
   },
   {
    "duration": 7,
    "start_time": "2023-03-13T11:58:29.163Z"
   },
   {
    "duration": 25,
    "start_time": "2023-03-13T11:58:31.342Z"
   },
   {
    "duration": 4,
    "start_time": "2023-03-13T11:59:07.329Z"
   },
   {
    "duration": 22,
    "start_time": "2023-03-13T12:00:22.074Z"
   },
   {
    "duration": 32,
    "start_time": "2023-03-13T12:00:41.574Z"
   },
   {
    "duration": 7,
    "start_time": "2023-03-13T12:01:04.511Z"
   },
   {
    "duration": 24,
    "start_time": "2023-03-13T12:01:06.620Z"
   },
   {
    "duration": 7,
    "start_time": "2023-03-13T12:01:20.550Z"
   },
   {
    "duration": 29,
    "start_time": "2023-03-13T12:01:21.261Z"
   },
   {
    "duration": 128,
    "start_time": "2023-03-13T12:01:29.473Z"
   },
   {
    "duration": 31,
    "start_time": "2023-03-13T12:01:30.081Z"
   },
   {
    "duration": 6,
    "start_time": "2023-03-13T12:01:46.562Z"
   },
   {
    "duration": 23,
    "start_time": "2023-03-13T12:01:47.218Z"
   },
   {
    "duration": 23,
    "start_time": "2023-03-13T12:02:30.996Z"
   },
   {
    "duration": 4,
    "start_time": "2023-03-13T12:02:46.683Z"
   },
   {
    "duration": 20,
    "start_time": "2023-03-13T12:02:47.036Z"
   },
   {
    "duration": 4,
    "start_time": "2023-03-13T12:03:46.531Z"
   },
   {
    "duration": 22,
    "start_time": "2023-03-13T12:03:53.527Z"
   },
   {
    "duration": 74,
    "start_time": "2023-03-13T12:05:37.567Z"
   },
   {
    "duration": 9,
    "start_time": "2023-03-13T12:08:00.526Z"
   },
   {
    "duration": 20,
    "start_time": "2023-03-13T12:08:09.276Z"
   },
   {
    "duration": 12,
    "start_time": "2023-03-13T12:08:09.899Z"
   },
   {
    "duration": 21,
    "start_time": "2023-03-13T12:08:10.263Z"
   },
   {
    "duration": 9,
    "start_time": "2023-03-13T12:08:10.418Z"
   },
   {
    "duration": 3,
    "start_time": "2023-03-13T12:08:10.699Z"
   },
   {
    "duration": 28,
    "start_time": "2023-03-13T12:08:10.822Z"
   },
   {
    "duration": 131,
    "start_time": "2023-03-13T12:08:14.047Z"
   },
   {
    "duration": 15,
    "start_time": "2023-03-13T12:14:22.441Z"
   },
   {
    "duration": 119,
    "start_time": "2023-03-13T12:15:49.429Z"
   },
   {
    "duration": 129,
    "start_time": "2023-03-13T12:16:20.371Z"
   },
   {
    "duration": 123,
    "start_time": "2023-03-13T12:16:29.193Z"
   },
   {
    "duration": 207,
    "start_time": "2023-03-13T12:17:11.721Z"
   },
   {
    "duration": 134,
    "start_time": "2023-03-13T12:17:47.201Z"
   },
   {
    "duration": 56,
    "start_time": "2023-03-13T19:45:05.293Z"
   },
   {
    "duration": 1621,
    "start_time": "2023-03-13T19:45:12.603Z"
   },
   {
    "duration": 178,
    "start_time": "2023-03-13T19:45:14.226Z"
   },
   {
    "duration": 29,
    "start_time": "2023-03-13T19:45:14.405Z"
   },
   {
    "duration": 7,
    "start_time": "2023-03-13T19:45:14.437Z"
   },
   {
    "duration": 5,
    "start_time": "2023-03-13T19:45:14.446Z"
   },
   {
    "duration": 24,
    "start_time": "2023-03-13T19:45:14.452Z"
   },
   {
    "duration": 5,
    "start_time": "2023-03-13T19:45:14.478Z"
   },
   {
    "duration": 12,
    "start_time": "2023-03-13T19:45:15.396Z"
   },
   {
    "duration": 76,
    "start_time": "2023-03-13T19:45:26.672Z"
   },
   {
    "duration": 16,
    "start_time": "2023-03-13T19:47:05.136Z"
   },
   {
    "duration": 16,
    "start_time": "2023-03-13T19:47:40.128Z"
   },
   {
    "duration": 13,
    "start_time": "2023-03-13T19:48:11.936Z"
   },
   {
    "duration": 10,
    "start_time": "2023-03-13T19:49:50.507Z"
   },
   {
    "duration": 3,
    "start_time": "2023-03-13T19:50:06.338Z"
   },
   {
    "duration": 61,
    "start_time": "2023-03-13T19:50:06.343Z"
   },
   {
    "duration": 24,
    "start_time": "2023-03-13T19:50:06.405Z"
   },
   {
    "duration": 8,
    "start_time": "2023-03-13T19:50:06.431Z"
   },
   {
    "duration": 4,
    "start_time": "2023-03-13T19:50:06.442Z"
   },
   {
    "duration": 40,
    "start_time": "2023-03-13T19:50:06.447Z"
   },
   {
    "duration": 15,
    "start_time": "2023-03-13T19:50:06.489Z"
   },
   {
    "duration": 22,
    "start_time": "2023-03-13T19:50:06.506Z"
   },
   {
    "duration": 43,
    "start_time": "2023-03-13T19:50:06.529Z"
   },
   {
    "duration": 7,
    "start_time": "2023-03-13T19:50:06.579Z"
   },
   {
    "duration": 29,
    "start_time": "2023-03-13T19:50:06.588Z"
   },
   {
    "duration": 169,
    "start_time": "2023-03-13T19:50:06.619Z"
   },
   {
    "duration": 70791,
    "start_time": "2023-03-13T19:50:06.792Z"
   },
   {
    "duration": 4,
    "start_time": "2023-03-13T19:51:17.585Z"
   },
   {
    "duration": 32,
    "start_time": "2023-03-13T19:51:17.590Z"
   },
   {
    "duration": 3,
    "start_time": "2023-03-13T19:51:17.624Z"
   },
   {
    "duration": 18295,
    "start_time": "2023-03-13T19:51:17.629Z"
   },
   {
    "duration": 4,
    "start_time": "2023-03-13T19:51:35.926Z"
   },
   {
    "duration": 85,
    "start_time": "2023-03-13T19:51:35.932Z"
   },
   {
    "duration": 4,
    "start_time": "2023-03-13T19:51:36.019Z"
   },
   {
    "duration": 9,
    "start_time": "2023-03-13T19:51:36.025Z"
   },
   {
    "duration": 3539,
    "start_time": "2023-03-13T19:51:36.036Z"
   },
   {
    "duration": 298,
    "start_time": "2023-03-13T19:51:39.578Z"
   },
   {
    "duration": 17,
    "start_time": "2023-03-13T19:51:39.969Z"
   },
   {
    "duration": 1315,
    "start_time": "2023-03-13T19:51:39.988Z"
   },
   {
    "duration": 28,
    "start_time": "2023-03-13T19:51:41.305Z"
   },
   {
    "duration": 2621,
    "start_time": "2023-03-13T19:51:41.335Z"
   },
   {
    "duration": 336,
    "start_time": "2023-03-13T19:51:43.959Z"
   },
   {
    "duration": 3566,
    "start_time": "2023-03-13T19:51:44.359Z"
   },
   {
    "duration": 67,
    "start_time": "2023-03-13T19:51:47.927Z"
   },
   {
    "duration": 14307,
    "start_time": "2023-03-13T19:51:47.996Z"
   },
   {
    "duration": 16,
    "start_time": "2023-03-13T19:52:02.304Z"
   },
   {
    "duration": 49,
    "start_time": "2023-03-13T19:52:02.322Z"
   },
   {
    "duration": 22,
    "start_time": "2023-03-13T19:52:02.378Z"
   },
   {
    "duration": 38,
    "start_time": "2023-03-13T19:52:02.402Z"
   },
   {
    "duration": 153,
    "start_time": "2023-03-13T19:52:02.444Z"
   },
   {
    "duration": 4,
    "start_time": "2023-03-13T19:56:17.013Z"
   },
   {
    "duration": 5,
    "start_time": "2023-03-13T19:56:34.917Z"
   },
   {
    "duration": 9,
    "start_time": "2023-03-13T19:56:35.395Z"
   },
   {
    "duration": 20,
    "start_time": "2023-03-13T20:01:11.699Z"
   },
   {
    "duration": 17,
    "start_time": "2023-03-13T20:01:26.731Z"
   },
   {
    "duration": 72,
    "start_time": "2023-03-13T20:04:29.503Z"
   },
   {
    "duration": 68,
    "start_time": "2023-03-13T20:04:44.707Z"
   },
   {
    "duration": 166,
    "start_time": "2023-03-13T20:05:27.896Z"
   },
   {
    "duration": 64,
    "start_time": "2023-03-13T20:06:24.314Z"
   },
   {
    "duration": 73075,
    "start_time": "2023-03-13T20:06:43.153Z"
   },
   {
    "duration": 5,
    "start_time": "2023-03-13T20:07:56.231Z"
   },
   {
    "duration": 55,
    "start_time": "2023-03-15T10:03:01.327Z"
   },
   {
    "duration": 1901,
    "start_time": "2023-03-15T10:03:05.622Z"
   },
   {
    "duration": 95,
    "start_time": "2023-03-15T10:03:07.526Z"
   },
   {
    "duration": 34,
    "start_time": "2023-03-15T10:03:07.623Z"
   },
   {
    "duration": 17,
    "start_time": "2023-03-15T10:03:07.659Z"
   },
   {
    "duration": 35,
    "start_time": "2023-03-15T10:03:07.678Z"
   },
   {
    "duration": 35,
    "start_time": "2023-03-15T10:03:07.715Z"
   },
   {
    "duration": 15,
    "start_time": "2023-03-15T10:03:09.157Z"
   },
   {
    "duration": 6,
    "start_time": "2023-03-15T10:05:19.140Z"
   },
   {
    "duration": 42,
    "start_time": "2023-03-15T10:05:19.223Z"
   },
   {
    "duration": 28,
    "start_time": "2023-03-15T10:05:19.267Z"
   },
   {
    "duration": 9,
    "start_time": "2023-03-15T10:05:19.297Z"
   },
   {
    "duration": 20,
    "start_time": "2023-03-15T10:05:19.308Z"
   },
   {
    "duration": 27,
    "start_time": "2023-03-15T10:05:19.331Z"
   },
   {
    "duration": 29,
    "start_time": "2023-03-15T10:05:19.360Z"
   },
   {
    "duration": 24,
    "start_time": "2023-03-15T10:05:19.391Z"
   },
   {
    "duration": 10,
    "start_time": "2023-03-15T10:05:19.417Z"
   },
   {
    "duration": 5,
    "start_time": "2023-03-15T10:05:19.429Z"
   },
   {
    "duration": 132,
    "start_time": "2023-03-15T10:05:19.435Z"
   },
   {
    "duration": 0,
    "start_time": "2023-03-15T10:05:19.570Z"
   },
   {
    "duration": 0,
    "start_time": "2023-03-15T10:05:19.571Z"
   },
   {
    "duration": 0,
    "start_time": "2023-03-15T10:05:19.572Z"
   },
   {
    "duration": 0,
    "start_time": "2023-03-15T10:05:19.580Z"
   },
   {
    "duration": 0,
    "start_time": "2023-03-15T10:05:19.582Z"
   },
   {
    "duration": 0,
    "start_time": "2023-03-15T10:05:19.585Z"
   },
   {
    "duration": 0,
    "start_time": "2023-03-15T10:05:19.587Z"
   },
   {
    "duration": 1,
    "start_time": "2023-03-15T10:05:19.588Z"
   },
   {
    "duration": 0,
    "start_time": "2023-03-15T10:05:19.590Z"
   },
   {
    "duration": 0,
    "start_time": "2023-03-15T10:05:19.591Z"
   },
   {
    "duration": 0,
    "start_time": "2023-03-15T10:05:19.593Z"
   },
   {
    "duration": 0,
    "start_time": "2023-03-15T10:05:19.594Z"
   },
   {
    "duration": 0,
    "start_time": "2023-03-15T10:05:19.595Z"
   },
   {
    "duration": 0,
    "start_time": "2023-03-15T10:05:19.596Z"
   },
   {
    "duration": 0,
    "start_time": "2023-03-15T10:05:19.597Z"
   },
   {
    "duration": 0,
    "start_time": "2023-03-15T10:05:19.599Z"
   },
   {
    "duration": 0,
    "start_time": "2023-03-15T10:05:19.600Z"
   },
   {
    "duration": 0,
    "start_time": "2023-03-15T10:05:19.601Z"
   },
   {
    "duration": 0,
    "start_time": "2023-03-15T10:05:19.602Z"
   },
   {
    "duration": 0,
    "start_time": "2023-03-15T10:05:19.603Z"
   },
   {
    "duration": 0,
    "start_time": "2023-03-15T10:05:19.604Z"
   },
   {
    "duration": 0,
    "start_time": "2023-03-15T10:05:19.606Z"
   },
   {
    "duration": 0,
    "start_time": "2023-03-15T10:05:19.607Z"
   },
   {
    "duration": 0,
    "start_time": "2023-03-15T10:05:19.608Z"
   },
   {
    "duration": 0,
    "start_time": "2023-03-15T10:05:19.609Z"
   },
   {
    "duration": 187,
    "start_time": "2023-03-15T10:07:30.565Z"
   },
   {
    "duration": 13,
    "start_time": "2023-03-15T10:07:35.484Z"
   },
   {
    "duration": 93,
    "start_time": "2023-03-15T10:07:35.500Z"
   },
   {
    "duration": 41,
    "start_time": "2023-03-15T10:07:35.596Z"
   },
   {
    "duration": 6,
    "start_time": "2023-03-15T10:07:35.639Z"
   },
   {
    "duration": 25,
    "start_time": "2023-03-15T10:07:35.647Z"
   },
   {
    "duration": 49,
    "start_time": "2023-03-15T10:07:35.673Z"
   },
   {
    "duration": 17,
    "start_time": "2023-03-15T10:07:35.724Z"
   },
   {
    "duration": 32,
    "start_time": "2023-03-15T10:07:35.743Z"
   },
   {
    "duration": 9,
    "start_time": "2023-03-15T10:07:35.781Z"
   },
   {
    "duration": 20,
    "start_time": "2023-03-15T10:07:35.793Z"
   },
   {
    "duration": 184,
    "start_time": "2023-03-15T10:07:35.815Z"
   },
   {
    "duration": 67407,
    "start_time": "2023-03-15T10:07:36.002Z"
   },
   {
    "duration": 7,
    "start_time": "2023-03-15T10:08:43.412Z"
   },
   {
    "duration": 45,
    "start_time": "2023-03-15T10:08:43.421Z"
   },
   {
    "duration": 4,
    "start_time": "2023-03-15T10:08:43.468Z"
   },
   {
    "duration": 16699,
    "start_time": "2023-03-15T10:08:43.480Z"
   },
   {
    "duration": 10,
    "start_time": "2023-03-15T10:09:00.181Z"
   },
   {
    "duration": 142,
    "start_time": "2023-03-15T10:09:00.193Z"
   },
   {
    "duration": 4,
    "start_time": "2023-03-15T10:09:00.337Z"
   },
   {
    "duration": 14352,
    "start_time": "2023-03-15T10:09:00.342Z"
   },
   {
    "duration": 288,
    "start_time": "2023-03-15T10:09:14.696Z"
   },
   {
    "duration": 1426,
    "start_time": "2023-03-15T10:09:14.990Z"
   },
   {
    "duration": 35,
    "start_time": "2023-03-15T10:09:16.419Z"
   },
   {
    "duration": 5843,
    "start_time": "2023-03-15T10:09:16.456Z"
   },
   {
    "duration": 406,
    "start_time": "2023-03-15T10:09:22.382Z"
   },
   {
    "duration": 92,
    "start_time": "2023-03-15T10:09:22.790Z"
   },
   {
    "duration": 3344,
    "start_time": "2023-03-15T10:09:22.885Z"
   },
   {
    "duration": 79,
    "start_time": "2023-03-15T10:09:26.234Z"
   },
   {
    "duration": 16435,
    "start_time": "2023-03-15T10:09:26.316Z"
   },
   {
    "duration": 30,
    "start_time": "2023-03-15T10:09:42.753Z"
   },
   {
    "duration": 47,
    "start_time": "2023-03-15T10:09:42.785Z"
   },
   {
    "duration": 36,
    "start_time": "2023-03-15T10:09:42.834Z"
   },
   {
    "duration": 46,
    "start_time": "2023-03-15T10:09:42.872Z"
   },
   {
    "duration": 4,
    "start_time": "2023-03-15T10:09:42.920Z"
   },
   {
    "duration": 25,
    "start_time": "2023-03-15T10:09:42.926Z"
   },
   {
    "duration": 6,
    "start_time": "2023-03-15T10:11:40.426Z"
   },
   {
    "duration": 4,
    "start_time": "2023-03-15T10:12:57.414Z"
   },
   {
    "duration": 4,
    "start_time": "2023-03-15T10:13:04.853Z"
   },
   {
    "duration": 5,
    "start_time": "2023-03-15T10:14:34.714Z"
   },
   {
    "duration": 5,
    "start_time": "2023-03-15T10:14:40.710Z"
   },
   {
    "duration": 12,
    "start_time": "2023-03-15T10:14:41.684Z"
   },
   {
    "duration": 5,
    "start_time": "2023-03-15T10:14:53.644Z"
   },
   {
    "duration": 9,
    "start_time": "2023-03-15T10:14:54.248Z"
   },
   {
    "duration": 6,
    "start_time": "2023-03-15T10:15:00.212Z"
   },
   {
    "duration": 10,
    "start_time": "2023-03-15T10:15:00.448Z"
   },
   {
    "duration": 56,
    "start_time": "2023-03-15T13:40:43.499Z"
   },
   {
    "duration": 6,
    "start_time": "2023-03-15T13:40:46.203Z"
   },
   {
    "duration": 1518,
    "start_time": "2023-03-15T13:40:54.351Z"
   },
   {
    "duration": 173,
    "start_time": "2023-03-15T13:40:55.871Z"
   },
   {
    "duration": 32,
    "start_time": "2023-03-15T13:40:56.045Z"
   },
   {
    "duration": 8,
    "start_time": "2023-03-15T13:40:56.079Z"
   },
   {
    "duration": 4,
    "start_time": "2023-03-15T13:40:56.090Z"
   },
   {
    "duration": 39,
    "start_time": "2023-03-15T13:40:56.095Z"
   },
   {
    "duration": 11,
    "start_time": "2023-03-15T13:40:56.136Z"
   },
   {
    "duration": 27,
    "start_time": "2023-03-15T13:40:56.149Z"
   },
   {
    "duration": 9,
    "start_time": "2023-03-15T13:40:56.178Z"
   },
   {
    "duration": 3,
    "start_time": "2023-03-15T13:40:56.189Z"
   },
   {
    "duration": 170,
    "start_time": "2023-03-15T13:40:56.194Z"
   },
   {
    "duration": 53818,
    "start_time": "2023-03-15T13:40:56.366Z"
   },
   {
    "duration": 4,
    "start_time": "2023-03-15T13:41:50.186Z"
   },
   {
    "duration": 45,
    "start_time": "2023-03-15T13:41:50.194Z"
   },
   {
    "duration": 4,
    "start_time": "2023-03-15T13:41:50.240Z"
   },
   {
    "duration": 19660,
    "start_time": "2023-03-15T13:41:50.245Z"
   },
   {
    "duration": 4,
    "start_time": "2023-03-15T13:42:09.907Z"
   },
   {
    "duration": 143,
    "start_time": "2023-03-15T13:42:09.924Z"
   },
   {
    "duration": 4,
    "start_time": "2023-03-15T13:42:10.069Z"
   },
   {
    "duration": 2957,
    "start_time": "2023-03-15T13:42:10.075Z"
   },
   {
    "duration": 490,
    "start_time": "2023-03-15T13:42:13.034Z"
   },
   {
    "duration": 1124,
    "start_time": "2023-03-15T13:42:13.525Z"
   },
   {
    "duration": 27,
    "start_time": "2023-03-15T13:42:14.651Z"
   },
   {
    "duration": 2949,
    "start_time": "2023-03-15T13:42:14.680Z"
   },
   {
    "duration": 294,
    "start_time": "2023-03-15T13:42:17.631Z"
   },
   {
    "duration": 5,
    "start_time": "2023-03-15T13:42:17.927Z"
   },
   {
    "duration": 6,
    "start_time": "2023-03-15T13:42:18.024Z"
   },
   {
    "duration": 2636,
    "start_time": "2023-03-15T13:42:18.032Z"
   },
   {
    "duration": 59,
    "start_time": "2023-03-15T13:42:20.670Z"
   },
   {
    "duration": 12676,
    "start_time": "2023-03-15T13:42:20.730Z"
   },
   {
    "duration": 22,
    "start_time": "2023-03-15T13:42:33.407Z"
   },
   {
    "duration": 11,
    "start_time": "2023-03-15T13:42:33.431Z"
   },
   {
    "duration": 15,
    "start_time": "2023-03-15T13:42:33.444Z"
   },
   {
    "duration": 11,
    "start_time": "2023-03-15T13:42:33.461Z"
   },
   {
    "duration": 4,
    "start_time": "2023-03-15T13:42:33.474Z"
   },
   {
    "duration": 45,
    "start_time": "2023-03-15T13:42:33.480Z"
   }
  ],
  "kernelspec": {
   "display_name": "Python 3 (ipykernel)",
   "language": "python",
   "name": "python3"
  },
  "language_info": {
   "codemirror_mode": {
    "name": "ipython",
    "version": 3
   },
   "file_extension": ".py",
   "mimetype": "text/x-python",
   "name": "python",
   "nbconvert_exporter": "python",
   "pygments_lexer": "ipython3",
   "version": "3.9.13"
  },
  "toc": {
   "base_numbering": 1,
   "nav_menu": {},
   "number_sections": true,
   "sideBar": true,
   "skip_h1_title": true,
   "title_cell": "Содержание",
   "title_sidebar": "Contents",
   "toc_cell": true,
   "toc_position": {
    "height": "calc(100% - 180px)",
    "left": "10px",
    "top": "150px",
    "width": "237px"
   },
   "toc_section_display": true,
   "toc_window_display": false
  }
 },
 "nbformat": 4,
 "nbformat_minor": 2
}
